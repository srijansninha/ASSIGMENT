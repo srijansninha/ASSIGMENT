{
  "nbformat": 4,
  "nbformat_minor": 0,
  "metadata": {
    "colab": {
      "name": "MACHINE LEARNING.ipynb",
      "provenance": [],
      "collapsed_sections": []
    },
    "kernelspec": {
      "name": "python3",
      "display_name": "Python 3"
    }
  },
  "cells": [
    {
      "cell_type": "markdown",
      "metadata": {
        "id": "gk7nNC_8f0k7"
      },
      "source": [
        "##**MACHINE LEARNING**"
      ]
    },
    {
      "cell_type": "markdown",
      "metadata": {
        "id": "_tiaTz4dgFI5"
      },
      "source": [
        "Making machine/computer to learn from data/ statics to memic human intelligence"
      ]
    },
    {
      "cell_type": "markdown",
      "metadata": {
        "id": "sJ5htDzNiuqQ"
      },
      "source": [
        "ML is a step into the direction of the Artifical intellingence \r\n",
        "ML will help machine to analyse the data and learn too predict the outcome\r\n",
        "\r\n",
        "ML-----Set of rules+statsMathsL\r\n",
        "\r\n",
        "\r\n",
        "\r\n",
        "mean, median, mode"
      ]
    },
    {
      "cell_type": "markdown",
      "metadata": {
        "id": "LJQ55qX_i63R"
      },
      "source": [
        ""
      ]
    },
    {
      "cell_type": "code",
      "metadata": {
        "id": "82MHRpB7fw-h",
        "colab": {
          "base_uri": "https://localhost:8080/"
        },
        "outputId": "bf99f4ec-feb2-4bfe-ddbe-1a7454abd01e"
      },
      "source": [
        "import numpy\r\n",
        "\r\n",
        "speed = [99,88,77,111,23,45,66,79,90,34,12,55]\r\n",
        "x = numpy.mean(speed)\r\n",
        "print(x)"
      ],
      "execution_count": 1,
      "outputs": [
        {
          "output_type": "stream",
          "text": [
            "64.91666666666667\n"
          ],
          "name": "stdout"
        }
      ]
    },
    {
      "cell_type": "markdown",
      "metadata": {
        "id": "lv0Yy5YWfzzE"
      },
      "source": [
        ""
      ]
    },
    {
      "cell_type": "code",
      "metadata": {
        "id": "YkfO_R-GhIWm",
        "colab": {
          "base_uri": "https://localhost:8080/"
        },
        "outputId": "f10c9540-1565-4769-e84c-22bf035f80e4"
      },
      "source": [
        "from scipy import stats\r\n",
        "\r\n",
        "speed = [99,88,77,111,23,45,66,79,90,34,12,55]\r\n",
        "x = stats.mode(speed)\r\n",
        "print(x)"
      ],
      "execution_count": 3,
      "outputs": [
        {
          "output_type": "stream",
          "text": [
            "ModeResult(mode=array([12]), count=array([1]))\n"
          ],
          "name": "stdout"
        }
      ]
    },
    {
      "cell_type": "code",
      "metadata": {
        "id": "xYz_8eeOhodl",
        "colab": {
          "base_uri": "https://localhost:8080/"
        },
        "outputId": "c3cdda4d-8409-4392-8e24-f6a652c17a98"
      },
      "source": [
        "import numpy\r\n",
        "\r\n",
        "speed = [99,88,77,111,23,45,66,79,90,34,12,55]\r\n",
        "x = numpy.median(speed)\r\n",
        "y = numpy.std(speed)\r\n",
        "z = numpy.var(speed)\r\n",
        "print(x)\r\n",
        "print(y)\r\n",
        "print(z)"
      ],
      "execution_count": 4,
      "outputs": [
        {
          "output_type": "stream",
          "text": [
            "71.5\n",
            "30.001273121134194\n",
            "900.076388888889\n"
          ],
          "name": "stdout"
        }
      ]
    },
    {
      "cell_type": "code",
      "metadata": {
        "colab": {
          "base_uri": "https://localhost:8080/"
        },
        "id": "NZplJWzVia53",
        "outputId": "fdb20e12-b315-4c87-eb93-f67006dead75"
      },
      "source": [
        "import numpy\r\n",
        "\r\n",
        "age = [99,88,77,111,23,45,66,79,90,34,12,55,44,32,22,55,77,56,3,52,33,67,7]\r\n",
        "x = numpy.percentile(age,90)\r\n",
        "print(x)"
      ],
      "execution_count": 8,
      "outputs": [
        {
          "output_type": "stream",
          "text": [
            "89.6\n"
          ],
          "name": "stdout"
        }
      ]
    },
    {
      "cell_type": "code",
      "metadata": {
        "colab": {
          "base_uri": "https://localhost:8080/",
          "height": 268
        },
        "id": "sAqxTgLejM4n",
        "outputId": "086f9e2c-f97e-4a6b-c1ba-2fd3e34c4196"
      },
      "source": [
        "import numpy\r\n",
        "import matplotlib.pyplot as plt\r\n",
        "\r\n",
        "x = numpy.random.normal(5.0,1.0,1000000)\r\n",
        "\r\n",
        "plt.hist(x,100)\r\n",
        "plt.show()\r\n"
      ],
      "execution_count": 9,
      "outputs": [
        {
          "output_type": "display_data",
          "data": {
            "image/png": "[encoded data removed]",
            "text/plain": [
              "<Figure size 432x288 with 1 Axes>"
            ]
          },
          "metadata": {
            "tags": [],
            "needs_background": "light"
          }
        }
      ]
    },
    {
      "cell_type": "code",
      "metadata": {
        "colab": {
          "base_uri": "https://localhost:8080/",
          "height": 265
        },
        "id": "llmF-xxekShn",
        "outputId": "b8b54cd7-8fc9-4dbe-b183-fc39ad052fd0"
      },
      "source": [
        "# Scatter Plot\r\n",
        "import matplotlib.pyplot as plt\r\n",
        "x = [5,4,3,11,14,15,17,19,12]\r\n",
        "y = [99,86,87,111,86,103,33,233,223]\r\n",
        "plt.scatter(x,y)\r\n",
        "plt.show()"
      ],
      "execution_count": 12,
      "outputs": [
        {
          "output_type": "display_data",
          "data": {
            "image/png": "[encoded data removed]",
            "text/plain": [
              "<Figure size 432x288 with 1 Axes>"
            ]
          },
          "metadata": {
            "tags": [],
            "needs_background": "light"
          }
        }
      ]
    },
    {
      "cell_type": "code",
      "metadata": {
        "id": "wD_uZBRvlTgq"
      },
      "source": [
        ""
      ],
      "execution_count": null,
      "outputs": []
    }
  ]
}