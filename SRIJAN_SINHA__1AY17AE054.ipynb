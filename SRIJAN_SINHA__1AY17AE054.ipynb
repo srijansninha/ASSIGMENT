{
  "nbformat": 4,
  "nbformat_minor": 0,
  "metadata": {
    "colab": {
      "name": "SRIJAN SINHA_ 1AY17AE054.ipynb",
      "provenance": [],
      "collapsed_sections": []
    },
    "kernelspec": {
      "name": "python3",
      "display_name": "Python 3"
    }
  },
  "cells": [
    {
      "cell_type": "code",
      "metadata": {
        "colab": {
          "base_uri": "https://localhost:8080/"
        },
        "id": "WiJM9Rfd997z",
        "outputId": "42c0d80e-4c80-4740-da7b-c8869c3bd292"
      },
      "source": [
        "print(\"welcome to the revision class of phyton\")"
      ],
      "execution_count": null,
      "outputs": [
        {
          "output_type": "stream",
          "text": [
            "welcome to the revision class of phyton\n"
          ],
          "name": "stdout"
        }
      ]
    },
    {
      "cell_type": "code",
      "metadata": {
        "colab": {
          "base_uri": "https://localhost:8080/"
        },
        "id": "1VFOKJ9n-cgv",
        "outputId": "ec6652f4-1102-47ad-e7fe-ef7b0c6b37d3"
      },
      "source": [
        "print(\"welcome to the revision class of phyton\")"
      ],
      "execution_count": null,
      "outputs": [
        {
          "output_type": "stream",
          "text": [
            "welcome to the revision class of phyton\n"
          ],
          "name": "stdout"
        }
      ]
    },
    {
      "cell_type": "code",
      "metadata": {
        "colab": {
          "base_uri": "https://localhost:8080/"
        },
        "id": "4M6ff5qf-2uv",
        "outputId": "be88d58d-f11f-4abd-c801-48af777aeab7"
      },
      "source": [
        "x =2\n",
        "if 5 > 2:\n",
        " print(\"welcome to the revision class of phyton\")\n"
      ],
      "execution_count": null,
      "outputs": [
        {
          "output_type": "stream",
          "text": [
            "welcome to the revision class of phyton\n"
          ],
          "name": "stdout"
        }
      ]
    },
    {
      "cell_type": "code",
      "metadata": {
        "colab": {
          "base_uri": "https://localhost:8080/"
        },
        "id": "p5WZk2RG-5fc",
        "outputId": "76ef2aaa-2733-4c81-cd12-4fd2e32f794a"
      },
      "source": [
        "thislist = [\"orange\", \"mango\",\"kiwi\",\"pineapple\",\"banana\"]\n",
        "thislist.sort()\n",
        "print(thislist)"
      ],
      "execution_count": null,
      "outputs": [
        {
          "output_type": "stream",
          "text": [
            "['banana', 'kiwi', 'mango', 'orange', 'pineapple']\n"
          ],
          "name": "stdout"
        }
      ]
    },
    {
      "cell_type": "code",
      "metadata": {
        "colab": {
          "base_uri": "https://localhost:8080/"
        },
        "id": "JTjq9d2-_TAy",
        "outputId": "7fd773a9-1c38-477d-8446-a72b804bb9e9"
      },
      "source": [
        "thislist = [100,40,50,2,22,83,78]\n",
        "thislist.sort()\n",
        "print(thislist)"
      ],
      "execution_count": null,
      "outputs": [
        {
          "output_type": "stream",
          "text": [
            "[2, 22, 40, 50, 78, 83, 100]\n"
          ],
          "name": "stdout"
        }
      ]
    },
    {
      "cell_type": "code",
      "metadata": {
        "colab": {
          "base_uri": "https://localhost:8080/"
        },
        "id": "zJKZKd_w_VAh",
        "outputId": "43125a0e-b9e8-4b46-a9c0-b2988bf243b0"
      },
      "source": [
        "thislist = [\"orange\", \"mango\",\"kiwi\",\"pineapple\",\"banana\"]\n",
        "newlist = thislist.copy()\n",
        "print(newlist)"
      ],
      "execution_count": null,
      "outputs": [
        {
          "output_type": "stream",
          "text": [
            "['orange', 'mango', 'kiwi', 'pineapple', 'banana']\n"
          ],
          "name": "stdout"
        }
      ]
    },
    {
      "cell_type": "code",
      "metadata": {
        "colab": {
          "base_uri": "https://localhost:8080/"
        },
        "id": "3Uc-scus_Xe-",
        "outputId": "16bd48bf-c23d-4ffb-b783-b5c7b5ad125e"
      },
      "source": [
        "thislist = [100,40,50,2,22,83,78]\n",
        "newlist = thislist.copy()\n",
        "print(newlist)"
      ],
      "execution_count": null,
      "outputs": [
        {
          "output_type": "stream",
          "text": [
            "[100, 40, 50, 2, 22, 83, 78]\n"
          ],
          "name": "stdout"
        }
      ]
    },
    {
      "cell_type": "code",
      "metadata": {
        "colab": {
          "base_uri": "https://localhost:8080/"
        },
        "id": "JA8nV4SD_a2u",
        "outputId": "911505dc-486c-4858-f18a-37024d230526"
      },
      "source": [
        "list1 = [\"orange\", \"mango\",\"kiwi\",\"pineapple\",\"banana\"]\n",
        "list2 = [100,40,50,2,22,83,78]\n",
        "list3=list1+list2\n",
        "print(list3)"
      ],
      "execution_count": null,
      "outputs": [
        {
          "output_type": "stream",
          "text": [
            "['orange', 'mango', 'kiwi', 'pineapple', 'banana', 100, 40, 50, 2, 22, 83, 78]\n"
          ],
          "name": "stdout"
        }
      ]
    },
    {
      "cell_type": "code",
      "metadata": {
        "colab": {
          "base_uri": "https://localhost:8080/"
        },
        "id": "FoZkEuDy_vEl",
        "outputId": "effd2806-1015-4bdb-a8b0-28edf256a3f5"
      },
      "source": [
        "list1 = [\"orange\", \"mango\",\"kiwi\",\"pineapple\",\"banana\"]\n",
        "list2 = [100,40,50,2,22,83,78]\n",
        "for x in list2:\n",
        "   list1.append(x)\n",
        "9print(list1)"
      ],
      "execution_count": null,
      "outputs": [
        {
          "output_type": "stream",
          "text": [
            "['orange', 'mango', 'kiwi', 'pineapple', 'banana', 100, 40, 50, 2, 22, 83, 78]\n"
          ],
          "name": "stdout"
        }
      ]
    },
    {
      "cell_type": "code",
      "metadata": {
        "colab": {
          "base_uri": "https://localhost:8080/"
        },
        "id": "ICtjjolc_zdG",
        "outputId": "477cdb2e-ba87-47c4-eb32-eb71142ea189"
      },
      "source": [
        "list1 = [\"orange\", \"mango\",\"kiwi\",\"pineapple\",\"banana\"]\n",
        "list2 = [100,40,50,2,22,83,78]\n",
        "list1.extend(list2)\n",
        "print(list1)"
      ],
      "execution_count": null,
      "outputs": [
        {
          "output_type": "stream",
          "text": [
            "['orange', 'mango', 'kiwi', 'pineapple', 'banana', 100, 40, 50, 2, 22, 83, 78]\n"
          ],
          "name": "stdout"
        }
      ]
    },
    {
      "cell_type": "code",
      "metadata": {
        "colab": {
          "base_uri": "https://localhost:8080/"
        },
        "id": "HjNmStnG_9lq",
        "outputId": "00d57832-a266-4869-f6f4-926cd2870ef1"
      },
      "source": [
        "list1 = [\"orange\", \"mango\",\"kiwi\",\"pineapple\",\"banana\"]\n",
        "list1"
      ],
      "execution_count": null,
      "outputs": [
        {
          "output_type": "execute_result",
          "data": {
            "text/plain": [
              "['orange', 'mango', 'kiwi', 'pineapple', 'banana']"
            ]
          },
          "metadata": {
            "tags": []
          },
          "execution_count": 15
        }
      ]
    },
    {
      "cell_type": "code",
      "metadata": {
        "colab": {
          "base_uri": "https://localhost:8080/"
        },
        "id": "2YLe0O-1AUC_",
        "outputId": "5eb69afb-865c-4cea-ea4f-9a8d6c9eaeb2"
      },
      "source": [
        "thistuple=(\"apple\",\"banana\",\"orange\")\n",
        "thistuple"
      ],
      "execution_count": null,
      "outputs": [
        {
          "output_type": "execute_result",
          "data": {
            "text/plain": [
              "('apple', 'banana', 'orange')"
            ]
          },
          "metadata": {
            "tags": []
          },
          "execution_count": 17
        }
      ]
    },
    {
      "cell_type": "code",
      "metadata": {
        "colab": {
          "base_uri": "https://localhost:8080/"
        },
        "id": "mi8LAY2pAzvw",
        "outputId": "1ae04c90-a703-4b94-a11c-9f3aa590c6a2"
      },
      "source": [
        "thistuple=(\"orange\", \"mango\",\"kiwi\",\"pineapple\",\"banana\")\n",
        "thistuple"
      ],
      "execution_count": null,
      "outputs": [
        {
          "output_type": "execute_result",
          "data": {
            "text/plain": [
              "('orange', 'mango', 'kiwi', 'pineapple', 'banana')"
            ]
          },
          "metadata": {
            "tags": []
          },
          "execution_count": 19
        }
      ]
    },
    {
      "cell_type": "code",
      "metadata": {
        "colab": {
          "base_uri": "https://localhost:8080/"
        },
        "id": "7i5h2nXSBHGw",
        "outputId": "47c65e34-5d8a-4b97-dc58-c60a16f52e62"
      },
      "source": [
        "thistuple=(\"orange\", \"mango\",\"kiwi\",\"pineapple\",\"banana\")\n",
        "(len(thistuple))"
      ],
      "execution_count": null,
      "outputs": [
        {
          "output_type": "execute_result",
          "data": {
            "text/plain": [
              "5"
            ]
          },
          "metadata": {
            "tags": []
          },
          "execution_count": 20
        }
      ]
    },
    {
      "cell_type": "code",
      "metadata": {
        "colab": {
          "base_uri": "https://localhost:8080/"
        },
        "id": "B728U7n0BUCM",
        "outputId": "d120dc77-8f76-41a2-ee6e-14633e68bfb2"
      },
      "source": [
        "tuple1=(\"orange\", \"mango\",\"kiwi\",\"pineapple\",\"banana\")\n",
        "tuple2=(100,40,50,2,22,83,78)\n",
        "tuple3=(True,False,False)\n",
        "print(tuple1)\n",
        "print(tuple2)\n",
        "print(tuple3)"
      ],
      "execution_count": null,
      "outputs": [
        {
          "output_type": "stream",
          "text": [
            "('orange', 'mango', 'kiwi', 'pineapple', 'banana')\n",
            "(100, 40, 50, 2, 22, 83, 78)\n",
            "(True, False, False)\n"
          ],
          "name": "stdout"
        }
      ]
    },
    {
      "cell_type": "code",
      "metadata": {
        "colab": {
          "base_uri": "https://localhost:8080/"
        },
        "id": "bib1apW2CBiP",
        "outputId": "084cffb6-1629-4ac6-dc1b-d9c354cb9be5"
      },
      "source": [
        "tuple1=(\"orange\",23, \"pineapple\",True,\"banana\",12)\n",
        "print(tuple1[2:])"
      ],
      "execution_count": null,
      "outputs": [
        {
          "output_type": "stream",
          "text": [
            "('pineapple', True, 'banana', 12)\n"
          ],
          "name": "stdout"
        }
      ]
    },
    {
      "cell_type": "code",
      "metadata": {
        "colab": {
          "base_uri": "https://localhost:8080/"
        },
        "id": "J7k5F1LqCft1",
        "outputId": "b373d8a8-1d15-478b-9b7e-ca00b25ecd29"
      },
      "source": [
        "tuple1=(\"orange\",23, \"pineapple\",True,\"banana\",12)\n",
        "print(tuple1[:3])"
      ],
      "execution_count": null,
      "outputs": [
        {
          "output_type": "stream",
          "text": [
            "('orange', 23, 'pineapple')\n"
          ],
          "name": "stdout"
        }
      ]
    },
    {
      "cell_type": "code",
      "metadata": {
        "colab": {
          "base_uri": "https://localhost:8080/"
        },
        "id": "NO1LCuDNDLyr",
        "outputId": "6b540bb4-5bf7-413b-a806-ce65088aae0a"
      },
      "source": [
        "tuple1=(\"orange\",23, \"pineapple\",True,\"banana\",12)\n",
        "print(tuple1[:])"
      ],
      "execution_count": null,
      "outputs": [
        {
          "output_type": "stream",
          "text": [
            "('orange', 23, 'pineapple', True, 'banana', 12)\n"
          ],
          "name": "stdout"
        }
      ]
    },
    {
      "cell_type": "code",
      "metadata": {
        "colab": {
          "base_uri": "https://localhost:8080/"
        },
        "id": "Mu9uQOEeDO6Q",
        "outputId": "7195589a-a5c6-40a6-e26c-859a89a35b74"
      },
      "source": [
        "x=(\"orange\", \"mango\",\"kiwi\")\n",
        "y=list(x)\n",
        "y[1]=\"apple\"\n",
        "x=tuple(y)\n",
        "x"
      ],
      "execution_count": null,
      "outputs": [
        {
          "output_type": "execute_result",
          "data": {
            "text/plain": [
              "('orange', 'apple', 'kiwi')"
            ]
          },
          "metadata": {
            "tags": []
          },
          "execution_count": 35
        }
      ]
    },
    {
      "cell_type": "code",
      "metadata": {
        "colab": {
          "base_uri": "https://localhost:8080/"
        },
        "id": "s291KRSUD3zf",
        "outputId": "94f937d2-3f71-45c0-b127-4d58620ed8b1"
      },
      "source": [
        "thistuple=(\"orange\", \"mango\",\"kiwi\")\n",
        "y= list(thistuple)\n",
        "y.append(\"apple\")\n",
        "thistuple=tuple(y)\n",
        "y"
      ],
      "execution_count": null,
      "outputs": [
        {
          "output_type": "execute_result",
          "data": {
            "text/plain": [
              "['orange', 'mango', 'kiwi', 'apple']"
            ]
          },
          "metadata": {
            "tags": []
          },
          "execution_count": 40
        }
      ]
    },
    {
      "cell_type": "code",
      "metadata": {
        "colab": {
          "base_uri": "https://localhost:8080/"
        },
        "id": "AIi_axpIEgVL",
        "outputId": "fcd19d15-14ed-467e-dc68-21c1fbeb208e"
      },
      "source": [
        "thistuple=(\"orange\", \"mango\",\"kiwi\")\n",
        "y= list(thistuple)\n",
        "y.remove(\"mango\")\n",
        "thistuple=tuple(y)\n",
        "y"
      ],
      "execution_count": null,
      "outputs": [
        {
          "output_type": "execute_result",
          "data": {
            "text/plain": [
              "['orange', 'kiwi']"
            ]
          },
          "metadata": {
            "tags": []
          },
          "execution_count": 43
        }
      ]
    },
    {
      "cell_type": "code",
      "metadata": {
        "id": "ZHSBf4izE9rg"
      },
      "source": [
        "thistuple=(\"orange\", \"mango\",\"kiwi\")"
      ],
      "execution_count": null,
      "outputs": []
    },
    {
      "cell_type": "code",
      "metadata": {
        "colab": {
          "base_uri": "https://localhost:8080/"
        },
        "id": "r0K0b0iLFdKx",
        "outputId": "f7dce886-56c3-4a9e-a8c0-0c1d20c5fdb5"
      },
      "source": [
        "fruits=(\"orange\", \"mango\",\"kiwi\")\n",
        "(orange,yellow,green)=fruits\n",
        "print(orange)\n",
        "print(yellow)\n",
        "print(green)"
      ],
      "execution_count": null,
      "outputs": [
        {
          "output_type": "stream",
          "text": [
            "orange\n",
            "mango\n",
            "kiwi\n"
          ],
          "name": "stdout"
        }
      ]
    },
    {
      "cell_type": "code",
      "metadata": {
        "colab": {
          "base_uri": "https://localhost:8080/"
        },
        "id": "Wourkl54Fypi",
        "outputId": "1584635a-3022-4a6f-dff8-4834c567ffb7"
      },
      "source": [
        "fruits=(\"orange\", \"mango\",\"kiwi\",\"apple\",\"lemon\")\n",
        "(orange,yellow,*green)=fruits\n",
        "print(orange)\n",
        "print(yellow)\n",
        "print(green)"
      ],
      "execution_count": null,
      "outputs": [
        {
          "output_type": "stream",
          "text": [
            "orange\n",
            "mango\n",
            "['kiwi', 'apple', 'lemon']\n"
          ],
          "name": "stdout"
        }
      ]
    },
    {
      "cell_type": "code",
      "metadata": {
        "colab": {
          "base_uri": "https://localhost:8080/"
        },
        "id": "LRw4aE21GNqW",
        "outputId": "b00ba4b2-aee1-4d02-a524-38904e5ae93f"
      },
      "source": [
        "fruits=(\"orange\", \"mango\",\"kiwi\",\"apple\",\"lemon\")\n",
        "for x in fruits:\n",
        "  print(x)"
      ],
      "execution_count": null,
      "outputs": [
        {
          "output_type": "stream",
          "text": [
            "orange\n",
            "mango\n",
            "kiwi\n",
            "apple\n",
            "lemon\n"
          ],
          "name": "stdout"
        }
      ]
    },
    {
      "cell_type": "code",
      "metadata": {
        "colab": {
          "base_uri": "https://localhost:8080/"
        },
        "id": "aXmT6qMbGx95",
        "outputId": "7a777dce-d31b-475d-a386-646987d844a1"
      },
      "source": [
        "fruits=(\"orange\", \"mango\",\"kiwi\",\"apple\",\"lemon\")\n",
        "for i in range(len(fruits)):\n",
        "  print(fruits[i])"
      ],
      "execution_count": null,
      "outputs": [
        {
          "output_type": "stream",
          "text": [
            "orange\n",
            "mango\n",
            "kiwi\n",
            "apple\n",
            "lemon\n"
          ],
          "name": "stdout"
        }
      ]
    },
    {
      "cell_type": "markdown",
      "metadata": {
        "id": "2zv2CTzHdgDg"
      },
      "source": [
        "### Concatenation, Merge and Joing Data  Frame in Pandas "
      ]
    },
    {
      "cell_type": "markdown",
      "metadata": {
        "id": "sgIu1lF1di-h"
      },
      "source": [
        "**Lets us learn Concatenation**"
      ]
    },
    {
      "cell_type": "code",
      "metadata": {
        "id": "7fgb8UE7HT6O"
      },
      "source": [
        "import pandas as pd\n",
        "df1 = pd.DataFrame({'Item':['A','B','C','D'],\n",
        "                     'Value': [1,2,3,5]})\n",
        "df2 = pd.DataFrame({'Item':['E','F','G','H'],\n",
        "                     'Value': [5,6,7,8]})\n",
        "print(df1)\n",
        "print(df2)"
      ],
      "execution_count": null,
      "outputs": []
    },
    {
      "cell_type": "code",
      "metadata": {
        "colab": {
          "base_uri": "https://localhost:8080/",
          "height": 297
        },
        "id": "FLKAerOsdbck",
        "outputId": "7bf14955-5776-42cb-8950-17bb909874dc"
      },
      "source": [
        "pd.concat([df1,df2])"
      ],
      "execution_count": null,
      "outputs": [
        {
          "output_type": "execute_result",
          "data": {
            "text/html": [
              "<div>\n",
              "<style scoped>\n",
              "    .dataframe tbody tr th:only-of-type {\n",
              "        vertical-align: middle;\n",
              "    }\n",
              "\n",
              "    .dataframe tbody tr th {\n",
              "        vertical-align: top;\n",
              "    }\n",
              "\n",
              "    .dataframe thead th {\n",
              "        text-align: right;\n",
              "    }\n",
              "</style>\n",
              "<table border=\"1\" class=\"dataframe\">\n",
              "  <thead>\n",
              "    <tr style=\"text-align: right;\">\n",
              "      <th></th>\n",
              "      <th>Item</th>\n",
              "      <th>Value</th>\n",
              "    </tr>\n",
              "  </thead>\n",
              "  <tbody>\n",
              "    <tr>\n",
              "      <th>0</th>\n",
              "      <td>A</td>\n",
              "      <td>1</td>\n",
              "    </tr>\n",
              "    <tr>\n",
              "      <th>1</th>\n",
              "      <td>B</td>\n",
              "      <td>2</td>\n",
              "    </tr>\n",
              "    <tr>\n",
              "      <th>2</th>\n",
              "      <td>C</td>\n",
              "      <td>3</td>\n",
              "    </tr>\n",
              "    <tr>\n",
              "      <th>3</th>\n",
              "      <td>D</td>\n",
              "      <td>5</td>\n",
              "    </tr>\n",
              "    <tr>\n",
              "      <th>0</th>\n",
              "      <td>E</td>\n",
              "      <td>5</td>\n",
              "    </tr>\n",
              "    <tr>\n",
              "      <th>1</th>\n",
              "      <td>F</td>\n",
              "      <td>6</td>\n",
              "    </tr>\n",
              "    <tr>\n",
              "      <th>2</th>\n",
              "      <td>G</td>\n",
              "      <td>7</td>\n",
              "    </tr>\n",
              "    <tr>\n",
              "      <th>3</th>\n",
              "      <td>H</td>\n",
              "      <td>8</td>\n",
              "    </tr>\n",
              "  </tbody>\n",
              "</table>\n",
              "</div>"
            ],
            "text/plain": [
              "  Item  Value\n",
              "0    A      1\n",
              "1    B      2\n",
              "2    C      3\n",
              "3    D      5\n",
              "0    E      5\n",
              "1    F      6\n",
              "2    G      7\n",
              "3    H      8"
            ]
          },
          "metadata": {
            "tags": []
          },
          "execution_count": 5
        }
      ]
    },
    {
      "cell_type": "code",
      "metadata": {
        "colab": {
          "base_uri": "https://localhost:8080/",
          "height": 173
        },
        "id": "xYd6nHgQem94",
        "outputId": "d9bc183f-279b-4bc9-afc9-1b0993bfa569"
      },
      "source": [
        "df1"
      ],
      "execution_count": null,
      "outputs": [
        {
          "output_type": "execute_result",
          "data": {
            "text/html": [
              "<div>\n",
              "<style scoped>\n",
              "    .dataframe tbody tr th:only-of-type {\n",
              "        vertical-align: middle;\n",
              "    }\n",
              "\n",
              "    .dataframe tbody tr th {\n",
              "        vertical-align: top;\n",
              "    }\n",
              "\n",
              "    .dataframe thead th {\n",
              "        text-align: right;\n",
              "    }\n",
              "</style>\n",
              "<table border=\"1\" class=\"dataframe\">\n",
              "  <thead>\n",
              "    <tr style=\"text-align: right;\">\n",
              "      <th></th>\n",
              "      <th>Item</th>\n",
              "      <th>Value</th>\n",
              "    </tr>\n",
              "  </thead>\n",
              "  <tbody>\n",
              "    <tr>\n",
              "      <th>0</th>\n",
              "      <td>A</td>\n",
              "      <td>1</td>\n",
              "    </tr>\n",
              "    <tr>\n",
              "      <th>1</th>\n",
              "      <td>B</td>\n",
              "      <td>2</td>\n",
              "    </tr>\n",
              "    <tr>\n",
              "      <th>2</th>\n",
              "      <td>C</td>\n",
              "      <td>3</td>\n",
              "    </tr>\n",
              "    <tr>\n",
              "      <th>3</th>\n",
              "      <td>D</td>\n",
              "      <td>5</td>\n",
              "    </tr>\n",
              "  </tbody>\n",
              "</table>\n",
              "</div>"
            ],
            "text/plain": [
              "  Item  Value\n",
              "0    A      1\n",
              "1    B      2\n",
              "2    C      3\n",
              "3    D      5"
            ]
          },
          "metadata": {
            "tags": []
          },
          "execution_count": 6
        }
      ]
    },
    {
      "cell_type": "code",
      "metadata": {
        "colab": {
          "base_uri": "https://localhost:8080/",
          "height": 173
        },
        "id": "AvCcYsDxfXva",
        "outputId": "9417df49-6660-4b74-c3be-181f328f1536"
      },
      "source": [
        "df2"
      ],
      "execution_count": null,
      "outputs": [
        {
          "output_type": "execute_result",
          "data": {
            "text/html": [
              "<div>\n",
              "<style scoped>\n",
              "    .dataframe tbody tr th:only-of-type {\n",
              "        vertical-align: middle;\n",
              "    }\n",
              "\n",
              "    .dataframe tbody tr th {\n",
              "        vertical-align: top;\n",
              "    }\n",
              "\n",
              "    .dataframe thead th {\n",
              "        text-align: right;\n",
              "    }\n",
              "</style>\n",
              "<table border=\"1\" class=\"dataframe\">\n",
              "  <thead>\n",
              "    <tr style=\"text-align: right;\">\n",
              "      <th></th>\n",
              "      <th>Item</th>\n",
              "      <th>Value</th>\n",
              "    </tr>\n",
              "  </thead>\n",
              "  <tbody>\n",
              "    <tr>\n",
              "      <th>0</th>\n",
              "      <td>E</td>\n",
              "      <td>5</td>\n",
              "    </tr>\n",
              "    <tr>\n",
              "      <th>1</th>\n",
              "      <td>F</td>\n",
              "      <td>6</td>\n",
              "    </tr>\n",
              "    <tr>\n",
              "      <th>2</th>\n",
              "      <td>G</td>\n",
              "      <td>7</td>\n",
              "    </tr>\n",
              "    <tr>\n",
              "      <th>3</th>\n",
              "      <td>H</td>\n",
              "      <td>8</td>\n",
              "    </tr>\n",
              "  </tbody>\n",
              "</table>\n",
              "</div>"
            ],
            "text/plain": [
              "  Item  Value\n",
              "0    E      5\n",
              "1    F      6\n",
              "2    G      7\n",
              "3    H      8"
            ]
          },
          "metadata": {
            "tags": []
          },
          "execution_count": 7
        }
      ]
    },
    {
      "cell_type": "code",
      "metadata": {
        "colab": {
          "base_uri": "https://localhost:8080/",
          "height": 297
        },
        "id": "e94L3jMgfb8B",
        "outputId": "bb39347c-94ba-417f-f799-c179a9d12386"
      },
      "source": [
        "import pandas as pd\n",
        "df1 = pd.DataFrame({'Item':['A','B','C','D'],\n",
        "                     'Value': [1,2,3,5]})\n",
        "df2 = pd.DataFrame({'Item':['E','F','G','H'],\n",
        "                     'Quantity': [5,6,7,8]})\n",
        "pd.concat([df1,df2])"
      ],
      "execution_count": null,
      "outputs": [
        {
          "output_type": "execute_result",
          "data": {
            "text/html": [
              "<div>\n",
              "<style scoped>\n",
              "    .dataframe tbody tr th:only-of-type {\n",
              "        vertical-align: middle;\n",
              "    }\n",
              "\n",
              "    .dataframe tbody tr th {\n",
              "        vertical-align: top;\n",
              "    }\n",
              "\n",
              "    .dataframe thead th {\n",
              "        text-align: right;\n",
              "    }\n",
              "</style>\n",
              "<table border=\"1\" class=\"dataframe\">\n",
              "  <thead>\n",
              "    <tr style=\"text-align: right;\">\n",
              "      <th></th>\n",
              "      <th>Item</th>\n",
              "      <th>Value</th>\n",
              "      <th>Quantity</th>\n",
              "    </tr>\n",
              "  </thead>\n",
              "  <tbody>\n",
              "    <tr>\n",
              "      <th>0</th>\n",
              "      <td>A</td>\n",
              "      <td>1.0</td>\n",
              "      <td>NaN</td>\n",
              "    </tr>\n",
              "    <tr>\n",
              "      <th>1</th>\n",
              "      <td>B</td>\n",
              "      <td>2.0</td>\n",
              "      <td>NaN</td>\n",
              "    </tr>\n",
              "    <tr>\n",
              "      <th>2</th>\n",
              "      <td>C</td>\n",
              "      <td>3.0</td>\n",
              "      <td>NaN</td>\n",
              "    </tr>\n",
              "    <tr>\n",
              "      <th>3</th>\n",
              "      <td>D</td>\n",
              "      <td>5.0</td>\n",
              "      <td>NaN</td>\n",
              "    </tr>\n",
              "    <tr>\n",
              "      <th>0</th>\n",
              "      <td>E</td>\n",
              "      <td>NaN</td>\n",
              "      <td>5.0</td>\n",
              "    </tr>\n",
              "    <tr>\n",
              "      <th>1</th>\n",
              "      <td>F</td>\n",
              "      <td>NaN</td>\n",
              "      <td>6.0</td>\n",
              "    </tr>\n",
              "    <tr>\n",
              "      <th>2</th>\n",
              "      <td>G</td>\n",
              "      <td>NaN</td>\n",
              "      <td>7.0</td>\n",
              "    </tr>\n",
              "    <tr>\n",
              "      <th>3</th>\n",
              "      <td>H</td>\n",
              "      <td>NaN</td>\n",
              "      <td>8.0</td>\n",
              "    </tr>\n",
              "  </tbody>\n",
              "</table>\n",
              "</div>"
            ],
            "text/plain": [
              "  Item  Value  Quantity\n",
              "0    A    1.0       NaN\n",
              "1    B    2.0       NaN\n",
              "2    C    3.0       NaN\n",
              "3    D    5.0       NaN\n",
              "0    E    NaN       5.0\n",
              "1    F    NaN       6.0\n",
              "2    G    NaN       7.0\n",
              "3    H    NaN       8.0"
            ]
          },
          "metadata": {
            "tags": []
          },
          "execution_count": 9
        }
      ]
    },
    {
      "cell_type": "code",
      "metadata": {
        "colab": {
          "base_uri": "https://localhost:8080/",
          "height": 297
        },
        "id": "1xSp0jmeflzG",
        "outputId": "c3bd665d-e402-4f62-ae6b-70512017c5c0"
      },
      "source": [
        "import pandas as pd\n",
        "df1 = pd.DataFrame({'Item':['A','B','C','D'],\n",
        "                     'Value': [1,2,3,5]})\n",
        "df2 = pd.DataFrame({'Item':['E','F','G','H'],\n",
        "                     'Quantity': [5,6,7,8]})\n",
        "pd.concat([df1,df2]).reset_index()"
      ],
      "execution_count": null,
      "outputs": [
        {
          "output_type": "execute_result",
          "data": {
            "text/html": [
              "<div>\n",
              "<style scoped>\n",
              "    .dataframe tbody tr th:only-of-type {\n",
              "        vertical-align: middle;\n",
              "    }\n",
              "\n",
              "    .dataframe tbody tr th {\n",
              "        vertical-align: top;\n",
              "    }\n",
              "\n",
              "    .dataframe thead th {\n",
              "        text-align: right;\n",
              "    }\n",
              "</style>\n",
              "<table border=\"1\" class=\"dataframe\">\n",
              "  <thead>\n",
              "    <tr style=\"text-align: right;\">\n",
              "      <th></th>\n",
              "      <th>index</th>\n",
              "      <th>Item</th>\n",
              "      <th>Value</th>\n",
              "      <th>Quantity</th>\n",
              "    </tr>\n",
              "  </thead>\n",
              "  <tbody>\n",
              "    <tr>\n",
              "      <th>0</th>\n",
              "      <td>0</td>\n",
              "      <td>A</td>\n",
              "      <td>1.0</td>\n",
              "      <td>NaN</td>\n",
              "    </tr>\n",
              "    <tr>\n",
              "      <th>1</th>\n",
              "      <td>1</td>\n",
              "      <td>B</td>\n",
              "      <td>2.0</td>\n",
              "      <td>NaN</td>\n",
              "    </tr>\n",
              "    <tr>\n",
              "      <th>2</th>\n",
              "      <td>2</td>\n",
              "      <td>C</td>\n",
              "      <td>3.0</td>\n",
              "      <td>NaN</td>\n",
              "    </tr>\n",
              "    <tr>\n",
              "      <th>3</th>\n",
              "      <td>3</td>\n",
              "      <td>D</td>\n",
              "      <td>5.0</td>\n",
              "      <td>NaN</td>\n",
              "    </tr>\n",
              "    <tr>\n",
              "      <th>4</th>\n",
              "      <td>0</td>\n",
              "      <td>E</td>\n",
              "      <td>NaN</td>\n",
              "      <td>5.0</td>\n",
              "    </tr>\n",
              "    <tr>\n",
              "      <th>5</th>\n",
              "      <td>1</td>\n",
              "      <td>F</td>\n",
              "      <td>NaN</td>\n",
              "      <td>6.0</td>\n",
              "    </tr>\n",
              "    <tr>\n",
              "      <th>6</th>\n",
              "      <td>2</td>\n",
              "      <td>G</td>\n",
              "      <td>NaN</td>\n",
              "      <td>7.0</td>\n",
              "    </tr>\n",
              "    <tr>\n",
              "      <th>7</th>\n",
              "      <td>3</td>\n",
              "      <td>H</td>\n",
              "      <td>NaN</td>\n",
              "      <td>8.0</td>\n",
              "    </tr>\n",
              "  </tbody>\n",
              "</table>\n",
              "</div>"
            ],
            "text/plain": [
              "   index Item  Value  Quantity\n",
              "0      0    A    1.0       NaN\n",
              "1      1    B    2.0       NaN\n",
              "2      2    C    3.0       NaN\n",
              "3      3    D    5.0       NaN\n",
              "4      0    E    NaN       5.0\n",
              "5      1    F    NaN       6.0\n",
              "6      2    G    NaN       7.0\n",
              "7      3    H    NaN       8.0"
            ]
          },
          "metadata": {
            "tags": []
          },
          "execution_count": 11
        }
      ]
    },
    {
      "cell_type": "code",
      "metadata": {
        "colab": {
          "base_uri": "https://localhost:8080/",
          "height": 173
        },
        "id": "pqe_MN6PgOFM",
        "outputId": "ce1707b7-d0ce-43c3-fdcf-e85e55e2d1f3"
      },
      "source": [
        "pd.concat([df1,df2],axis=1)"
      ],
      "execution_count": null,
      "outputs": [
        {
          "output_type": "execute_result",
          "data": {
            "text/html": [
              "<div>\n",
              "<style scoped>\n",
              "    .dataframe tbody tr th:only-of-type {\n",
              "        vertical-align: middle;\n",
              "    }\n",
              "\n",
              "    .dataframe tbody tr th {\n",
              "        vertical-align: top;\n",
              "    }\n",
              "\n",
              "    .dataframe thead th {\n",
              "        text-align: right;\n",
              "    }\n",
              "</style>\n",
              "<table border=\"1\" class=\"dataframe\">\n",
              "  <thead>\n",
              "    <tr style=\"text-align: right;\">\n",
              "      <th></th>\n",
              "      <th>Item</th>\n",
              "      <th>Value</th>\n",
              "      <th>Item</th>\n",
              "      <th>Quantity</th>\n",
              "    </tr>\n",
              "  </thead>\n",
              "  <tbody>\n",
              "    <tr>\n",
              "      <th>0</th>\n",
              "      <td>A</td>\n",
              "      <td>1</td>\n",
              "      <td>E</td>\n",
              "      <td>5</td>\n",
              "    </tr>\n",
              "    <tr>\n",
              "      <th>1</th>\n",
              "      <td>B</td>\n",
              "      <td>2</td>\n",
              "      <td>F</td>\n",
              "      <td>6</td>\n",
              "    </tr>\n",
              "    <tr>\n",
              "      <th>2</th>\n",
              "      <td>C</td>\n",
              "      <td>3</td>\n",
              "      <td>G</td>\n",
              "      <td>7</td>\n",
              "    </tr>\n",
              "    <tr>\n",
              "      <th>3</th>\n",
              "      <td>D</td>\n",
              "      <td>5</td>\n",
              "      <td>H</td>\n",
              "      <td>8</td>\n",
              "    </tr>\n",
              "  </tbody>\n",
              "</table>\n",
              "</div>"
            ],
            "text/plain": [
              "  Item  Value Item  Quantity\n",
              "0    A      1    E         5\n",
              "1    B      2    F         6\n",
              "2    C      3    G         7\n",
              "3    D      5    H         8"
            ]
          },
          "metadata": {
            "tags": []
          },
          "execution_count": 12
        }
      ]
    },
    {
      "cell_type": "code",
      "metadata": {
        "colab": {
          "base_uri": "https://localhost:8080/",
          "height": 421
        },
        "id": "7DrSKINEgfGq",
        "outputId": "8afafdd7-a5b8-425b-8457-2960ae47199c"
      },
      "source": [
        "import pandas as pd\n",
        "df1 = pd.DataFrame({'Item':['A','B','C','D'],\n",
        "                     'Value': [1,2,3,5]})\n",
        "df2 = pd.DataFrame({'Item':['E','F','G','H'],\n",
        "                     'Quantity': [5,6,7,8]})\n",
        "df3 = pd.DataFrame({'Item':['I','J','K','L'],\n",
        "                     'Quantity': [3,9,10,80]})\n",
        "df1.append([df2,df3])"
      ],
      "execution_count": null,
      "outputs": [
        {
          "output_type": "execute_result",
          "data": {
            "text/html": [
              "<div>\n",
              "<style scoped>\n",
              "    .dataframe tbody tr th:only-of-type {\n",
              "        vertical-align: middle;\n",
              "    }\n",
              "\n",
              "    .dataframe tbody tr th {\n",
              "        vertical-align: top;\n",
              "    }\n",
              "\n",
              "    .dataframe thead th {\n",
              "        text-align: right;\n",
              "    }\n",
              "</style>\n",
              "<table border=\"1\" class=\"dataframe\">\n",
              "  <thead>\n",
              "    <tr style=\"text-align: right;\">\n",
              "      <th></th>\n",
              "      <th>Item</th>\n",
              "      <th>Value</th>\n",
              "      <th>Quantity</th>\n",
              "    </tr>\n",
              "  </thead>\n",
              "  <tbody>\n",
              "    <tr>\n",
              "      <th>0</th>\n",
              "      <td>A</td>\n",
              "      <td>1.0</td>\n",
              "      <td>NaN</td>\n",
              "    </tr>\n",
              "    <tr>\n",
              "      <th>1</th>\n",
              "      <td>B</td>\n",
              "      <td>2.0</td>\n",
              "      <td>NaN</td>\n",
              "    </tr>\n",
              "    <tr>\n",
              "      <th>2</th>\n",
              "      <td>C</td>\n",
              "      <td>3.0</td>\n",
              "      <td>NaN</td>\n",
              "    </tr>\n",
              "    <tr>\n",
              "      <th>3</th>\n",
              "      <td>D</td>\n",
              "      <td>5.0</td>\n",
              "      <td>NaN</td>\n",
              "    </tr>\n",
              "    <tr>\n",
              "      <th>0</th>\n",
              "      <td>E</td>\n",
              "      <td>NaN</td>\n",
              "      <td>5.0</td>\n",
              "    </tr>\n",
              "    <tr>\n",
              "      <th>1</th>\n",
              "      <td>F</td>\n",
              "      <td>NaN</td>\n",
              "      <td>6.0</td>\n",
              "    </tr>\n",
              "    <tr>\n",
              "      <th>2</th>\n",
              "      <td>G</td>\n",
              "      <td>NaN</td>\n",
              "      <td>7.0</td>\n",
              "    </tr>\n",
              "    <tr>\n",
              "      <th>3</th>\n",
              "      <td>H</td>\n",
              "      <td>NaN</td>\n",
              "      <td>8.0</td>\n",
              "    </tr>\n",
              "    <tr>\n",
              "      <th>0</th>\n",
              "      <td>I</td>\n",
              "      <td>NaN</td>\n",
              "      <td>3.0</td>\n",
              "    </tr>\n",
              "    <tr>\n",
              "      <th>1</th>\n",
              "      <td>J</td>\n",
              "      <td>NaN</td>\n",
              "      <td>9.0</td>\n",
              "    </tr>\n",
              "    <tr>\n",
              "      <th>2</th>\n",
              "      <td>K</td>\n",
              "      <td>NaN</td>\n",
              "      <td>10.0</td>\n",
              "    </tr>\n",
              "    <tr>\n",
              "      <th>3</th>\n",
              "      <td>L</td>\n",
              "      <td>NaN</td>\n",
              "      <td>80.0</td>\n",
              "    </tr>\n",
              "  </tbody>\n",
              "</table>\n",
              "</div>"
            ],
            "text/plain": [
              "  Item  Value  Quantity\n",
              "0    A    1.0       NaN\n",
              "1    B    2.0       NaN\n",
              "2    C    3.0       NaN\n",
              "3    D    5.0       NaN\n",
              "0    E    NaN       5.0\n",
              "1    F    NaN       6.0\n",
              "2    G    NaN       7.0\n",
              "3    H    NaN       8.0\n",
              "0    I    NaN       3.0\n",
              "1    J    NaN       9.0\n",
              "2    K    NaN      10.0\n",
              "3    L    NaN      80.0"
            ]
          },
          "metadata": {
            "tags": []
          },
          "execution_count": 14
        }
      ]
    },
    {
      "cell_type": "code",
      "metadata": {
        "colab": {
          "base_uri": "https://localhost:8080/",
          "height": 49
        },
        "id": "Cq0KqNo4hkaf",
        "outputId": "861d6879-29b3-480f-f1c4-91817a05b10c"
      },
      "source": [
        "import pandas as pd\n",
        "dfA = pd.DataFrame({'Key':['A','B','C','D'],\n",
        "                     'A': [1,2,3,5]})\n",
        "dfB = pd.DataFrame({'Key':['E','F','G','H'],\n",
        "                     'B': [5,6,7,8]})\n",
        "pd.merge(dfA,dfB,on='Key')"
      ],
      "execution_count": null,
      "outputs": [
        {
          "output_type": "execute_result",
          "data": {
            "text/html": [
              "<div>\n",
              "<style scoped>\n",
              "    .dataframe tbody tr th:only-of-type {\n",
              "        vertical-align: middle;\n",
              "    }\n",
              "\n",
              "    .dataframe tbody tr th {\n",
              "        vertical-align: top;\n",
              "    }\n",
              "\n",
              "    .dataframe thead th {\n",
              "        text-align: right;\n",
              "    }\n",
              "</style>\n",
              "<table border=\"1\" class=\"dataframe\">\n",
              "  <thead>\n",
              "    <tr style=\"text-align: right;\">\n",
              "      <th></th>\n",
              "      <th>Key</th>\n",
              "      <th>A</th>\n",
              "      <th>B</th>\n",
              "    </tr>\n",
              "  </thead>\n",
              "  <tbody>\n",
              "  </tbody>\n",
              "</table>\n",
              "</div>"
            ],
            "text/plain": [
              "Empty DataFrame\n",
              "Columns: [Key, A, B]\n",
              "Index: []"
            ]
          },
          "metadata": {
            "tags": []
          },
          "execution_count": 16
        }
      ]
    },
    {
      "cell_type": "code",
      "metadata": {
        "colab": {
          "base_uri": "https://localhost:8080/",
          "height": 173
        },
        "id": "zcCUKHBTiLoc",
        "outputId": "85ae370a-66d6-44c3-e266-50030e9c34a1"
      },
      "source": [
        "import pandas as pd\n",
        "dfA = pd.DataFrame({'Key':['K0','K1','K2','K3'],\n",
        "                     'A': ['A0','A1','A2','A3'],\n",
        "                    'B': ['B0','B1','B2','B3']})\n",
        "dfB = pd.DataFrame({'Key':['K0','K1','K2','K3'],\n",
        "                     'C': ['C0','C1','C2','C3'],\n",
        "                     'D': ['D0','D1','D2','D3']})\n",
        "pd.merge(dfA,dfB,on='Key')"
      ],
      "execution_count": null,
      "outputs": [
        {
          "output_type": "execute_result",
          "data": {
            "text/html": [
              "<div>\n",
              "<style scoped>\n",
              "    .dataframe tbody tr th:only-of-type {\n",
              "        vertical-align: middle;\n",
              "    }\n",
              "\n",
              "    .dataframe tbody tr th {\n",
              "        vertical-align: top;\n",
              "    }\n",
              "\n",
              "    .dataframe thead th {\n",
              "        text-align: right;\n",
              "    }\n",
              "</style>\n",
              "<table border=\"1\" class=\"dataframe\">\n",
              "  <thead>\n",
              "    <tr style=\"text-align: right;\">\n",
              "      <th></th>\n",
              "      <th>Key</th>\n",
              "      <th>A</th>\n",
              "      <th>B</th>\n",
              "      <th>C</th>\n",
              "      <th>D</th>\n",
              "    </tr>\n",
              "  </thead>\n",
              "  <tbody>\n",
              "    <tr>\n",
              "      <th>0</th>\n",
              "      <td>K0</td>\n",
              "      <td>A0</td>\n",
              "      <td>B0</td>\n",
              "      <td>C0</td>\n",
              "      <td>D0</td>\n",
              "    </tr>\n",
              "    <tr>\n",
              "      <th>1</th>\n",
              "      <td>K1</td>\n",
              "      <td>A1</td>\n",
              "      <td>B1</td>\n",
              "      <td>C1</td>\n",
              "      <td>D1</td>\n",
              "    </tr>\n",
              "    <tr>\n",
              "      <th>2</th>\n",
              "      <td>K2</td>\n",
              "      <td>A2</td>\n",
              "      <td>B2</td>\n",
              "      <td>C2</td>\n",
              "      <td>D2</td>\n",
              "    </tr>\n",
              "    <tr>\n",
              "      <th>3</th>\n",
              "      <td>K3</td>\n",
              "      <td>A3</td>\n",
              "      <td>B3</td>\n",
              "      <td>C3</td>\n",
              "      <td>D3</td>\n",
              "    </tr>\n",
              "  </tbody>\n",
              "</table>\n",
              "</div>"
            ],
            "text/plain": [
              "  Key   A   B   C   D\n",
              "0  K0  A0  B0  C0  D0\n",
              "1  K1  A1  B1  C1  D1\n",
              "2  K2  A2  B2  C2  D2\n",
              "3  K3  A3  B3  C3  D3"
            ]
          },
          "metadata": {
            "tags": []
          },
          "execution_count": 17
        }
      ]
    },
    {
      "cell_type": "code",
      "metadata": {
        "colab": {
          "base_uri": "https://localhost:8080/",
          "height": 173
        },
        "id": "vvPzJE-OjW92",
        "outputId": "be72d9b2-3ed9-4352-a310-9ac72a8a56a0"
      },
      "source": [
        "import pandas as pd\n",
        "dfA = pd.DataFrame({'Key':['K0','K1','K2','K3'],\n",
        "                     'A': ['A0','A1','A2','A3'],\n",
        "                    'B': ['B0','B1','B2','B3']})\n",
        "dfB = pd.DataFrame({'Key':['K0','K1','K2','K3'],\n",
        "                     'C': ['C0','C1','C2','C3'],\n",
        "                     'D': ['D0','D1','D2','D3']})\n",
        "pd.merge(dfA,dfB, how='left',on='Key')"
      ],
      "execution_count": null,
      "outputs": [
        {
          "output_type": "execute_result",
          "data": {
            "text/html": [
              "<div>\n",
              "<style scoped>\n",
              "    .dataframe tbody tr th:only-of-type {\n",
              "        vertical-align: middle;\n",
              "    }\n",
              "\n",
              "    .dataframe tbody tr th {\n",
              "        vertical-align: top;\n",
              "    }\n",
              "\n",
              "    .dataframe thead th {\n",
              "        text-align: right;\n",
              "    }\n",
              "</style>\n",
              "<table border=\"1\" class=\"dataframe\">\n",
              "  <thead>\n",
              "    <tr style=\"text-align: right;\">\n",
              "      <th></th>\n",
              "      <th>Key</th>\n",
              "      <th>A</th>\n",
              "      <th>B</th>\n",
              "      <th>C</th>\n",
              "      <th>D</th>\n",
              "    </tr>\n",
              "  </thead>\n",
              "  <tbody>\n",
              "    <tr>\n",
              "      <th>0</th>\n",
              "      <td>K0</td>\n",
              "      <td>A0</td>\n",
              "      <td>B0</td>\n",
              "      <td>C0</td>\n",
              "      <td>D0</td>\n",
              "    </tr>\n",
              "    <tr>\n",
              "      <th>1</th>\n",
              "      <td>K1</td>\n",
              "      <td>A1</td>\n",
              "      <td>B1</td>\n",
              "      <td>C1</td>\n",
              "      <td>D1</td>\n",
              "    </tr>\n",
              "    <tr>\n",
              "      <th>2</th>\n",
              "      <td>K2</td>\n",
              "      <td>A2</td>\n",
              "      <td>B2</td>\n",
              "      <td>C2</td>\n",
              "      <td>D2</td>\n",
              "    </tr>\n",
              "    <tr>\n",
              "      <th>3</th>\n",
              "      <td>K3</td>\n",
              "      <td>A3</td>\n",
              "      <td>B3</td>\n",
              "      <td>C3</td>\n",
              "      <td>D3</td>\n",
              "    </tr>\n",
              "  </tbody>\n",
              "</table>\n",
              "</div>"
            ],
            "text/plain": [
              "  Key   A   B   C   D\n",
              "0  K0  A0  B0  C0  D0\n",
              "1  K1  A1  B1  C1  D1\n",
              "2  K2  A2  B2  C2  D2\n",
              "3  K3  A3  B3  C3  D3"
            ]
          },
          "metadata": {
            "tags": []
          },
          "execution_count": 20
        }
      ]
    },
    {
      "cell_type": "code",
      "metadata": {
        "colab": {
          "base_uri": "https://localhost:8080/",
          "height": 173
        },
        "id": "enShfEr9j0wk",
        "outputId": "6ecf9e33-2782-4472-9e2c-1731180f1161"
      },
      "source": [
        "import pandas as pd\n",
        "dfA = pd.DataFrame({'Key':['K0','K1','K2','K3'],\n",
        "                     'A': ['A0','A1','A2','A3'],\n",
        "                    'B': ['B0','B1','B2','B3']})\n",
        "dfB = pd.DataFrame({'Key':['K0','K1','K2','K3'],\n",
        "                     'C': ['C0','C1','C2','C3'],\n",
        "                     'D': ['D0','D1','D2','D3']})\n",
        "pd.merge(dfA,dfB, how='right',on='Key')"
      ],
      "execution_count": null,
      "outputs": [
        {
          "output_type": "execute_result",
          "data": {
            "text/html": [
              "<div>\n",
              "<style scoped>\n",
              "    .dataframe tbody tr th:only-of-type {\n",
              "        vertical-align: middle;\n",
              "    }\n",
              "\n",
              "    .dataframe tbody tr th {\n",
              "        vertical-align: top;\n",
              "    }\n",
              "\n",
              "    .dataframe thead th {\n",
              "        text-align: right;\n",
              "    }\n",
              "</style>\n",
              "<table border=\"1\" class=\"dataframe\">\n",
              "  <thead>\n",
              "    <tr style=\"text-align: right;\">\n",
              "      <th></th>\n",
              "      <th>Key</th>\n",
              "      <th>A</th>\n",
              "      <th>B</th>\n",
              "      <th>C</th>\n",
              "      <th>D</th>\n",
              "    </tr>\n",
              "  </thead>\n",
              "  <tbody>\n",
              "    <tr>\n",
              "      <th>0</th>\n",
              "      <td>K0</td>\n",
              "      <td>A0</td>\n",
              "      <td>B0</td>\n",
              "      <td>C0</td>\n",
              "      <td>D0</td>\n",
              "    </tr>\n",
              "    <tr>\n",
              "      <th>1</th>\n",
              "      <td>K1</td>\n",
              "      <td>A1</td>\n",
              "      <td>B1</td>\n",
              "      <td>C1</td>\n",
              "      <td>D1</td>\n",
              "    </tr>\n",
              "    <tr>\n",
              "      <th>2</th>\n",
              "      <td>K2</td>\n",
              "      <td>A2</td>\n",
              "      <td>B2</td>\n",
              "      <td>C2</td>\n",
              "      <td>D2</td>\n",
              "    </tr>\n",
              "    <tr>\n",
              "      <th>3</th>\n",
              "      <td>K3</td>\n",
              "      <td>A3</td>\n",
              "      <td>B3</td>\n",
              "      <td>C3</td>\n",
              "      <td>D3</td>\n",
              "    </tr>\n",
              "  </tbody>\n",
              "</table>\n",
              "</div>"
            ],
            "text/plain": [
              "  Key   A   B   C   D\n",
              "0  K0  A0  B0  C0  D0\n",
              "1  K1  A1  B1  C1  D1\n",
              "2  K2  A2  B2  C2  D2\n",
              "3  K3  A3  B3  C3  D3"
            ]
          },
          "metadata": {
            "tags": []
          },
          "execution_count": 21
        }
      ]
    },
    {
      "cell_type": "code",
      "metadata": {
        "colab": {
          "base_uri": "https://localhost:8080/",
          "height": 173
        },
        "id": "XzUL7ul9kDJ8",
        "outputId": "5bab6e62-55aa-4603-eba4-ef01baea7824"
      },
      "source": [
        "import pandas as pd\n",
        "dfA = pd.DataFrame({'Key':['K0','K1','K2','K3'],\n",
        "                     'A': ['A0','A1','A2','A3'],\n",
        "                    'B': ['B0','B1','B2','B3']})\n",
        "dfB = pd.DataFrame({'Key':['K0','K1','K2','K3'],\n",
        "                     'C': ['C0','C1','C2','C3'],\n",
        "                     'D': ['D0','D1','D2','D3']})\n",
        "pd.merge(dfA,dfB, how='inner',on='Key')"
      ],
      "execution_count": null,
      "outputs": [
        {
          "output_type": "execute_result",
          "data": {
            "text/html": [
              "<div>\n",
              "<style scoped>\n",
              "    .dataframe tbody tr th:only-of-type {\n",
              "        vertical-align: middle;\n",
              "    }\n",
              "\n",
              "    .dataframe tbody tr th {\n",
              "        vertical-align: top;\n",
              "    }\n",
              "\n",
              "    .dataframe thead th {\n",
              "        text-align: right;\n",
              "    }\n",
              "</style>\n",
              "<table border=\"1\" class=\"dataframe\">\n",
              "  <thead>\n",
              "    <tr style=\"text-align: right;\">\n",
              "      <th></th>\n",
              "      <th>Key</th>\n",
              "      <th>A</th>\n",
              "      <th>B</th>\n",
              "      <th>C</th>\n",
              "      <th>D</th>\n",
              "    </tr>\n",
              "  </thead>\n",
              "  <tbody>\n",
              "    <tr>\n",
              "      <th>0</th>\n",
              "      <td>K0</td>\n",
              "      <td>A0</td>\n",
              "      <td>B0</td>\n",
              "      <td>C0</td>\n",
              "      <td>D0</td>\n",
              "    </tr>\n",
              "    <tr>\n",
              "      <th>1</th>\n",
              "      <td>K1</td>\n",
              "      <td>A1</td>\n",
              "      <td>B1</td>\n",
              "      <td>C1</td>\n",
              "      <td>D1</td>\n",
              "    </tr>\n",
              "    <tr>\n",
              "      <th>2</th>\n",
              "      <td>K2</td>\n",
              "      <td>A2</td>\n",
              "      <td>B2</td>\n",
              "      <td>C2</td>\n",
              "      <td>D2</td>\n",
              "    </tr>\n",
              "    <tr>\n",
              "      <th>3</th>\n",
              "      <td>K3</td>\n",
              "      <td>A3</td>\n",
              "      <td>B3</td>\n",
              "      <td>C3</td>\n",
              "      <td>D3</td>\n",
              "    </tr>\n",
              "  </tbody>\n",
              "</table>\n",
              "</div>"
            ],
            "text/plain": [
              "  Key   A   B   C   D\n",
              "0  K0  A0  B0  C0  D0\n",
              "1  K1  A1  B1  C1  D1\n",
              "2  K2  A2  B2  C2  D2\n",
              "3  K3  A3  B3  C3  D3"
            ]
          },
          "metadata": {
            "tags": []
          },
          "execution_count": 23
        }
      ]
    },
    {
      "cell_type": "markdown",
      "metadata": {
        "id": "KqbPGBJjkUJK"
      },
      "source": [
        "**JOINGING**"
      ]
    },
    {
      "cell_type": "code",
      "metadata": {
        "id": "1e1AeDMskJtA"
      },
      "source": [
        "import pandas as pd\n",
        "left = pd.DataFrame({'Key':['K0','K1','K2','K3'],\n",
        "                     'A': ['A0','A1','A2','A3']},\n",
        "                     index= ['B0','B1','B2','B3'])"
      ],
      "execution_count": null,
      "outputs": []
    },
    {
      "cell_type": "code",
      "metadata": {
        "colab": {
          "base_uri": "https://localhost:8080/",
          "height": 173
        },
        "id": "IhIyHXiwkreW",
        "outputId": "c74b722b-b349-4a02-b566-e47cf5292c46"
      },
      "source": [
        "left"
      ],
      "execution_count": null,
      "outputs": [
        {
          "output_type": "execute_result",
          "data": {
            "text/html": [
              "<div>\n",
              "<style scoped>\n",
              "    .dataframe tbody tr th:only-of-type {\n",
              "        vertical-align: middle;\n",
              "    }\n",
              "\n",
              "    .dataframe tbody tr th {\n",
              "        vertical-align: top;\n",
              "    }\n",
              "\n",
              "    .dataframe thead th {\n",
              "        text-align: right;\n",
              "    }\n",
              "</style>\n",
              "<table border=\"1\" class=\"dataframe\">\n",
              "  <thead>\n",
              "    <tr style=\"text-align: right;\">\n",
              "      <th></th>\n",
              "      <th>Key</th>\n",
              "      <th>A</th>\n",
              "    </tr>\n",
              "  </thead>\n",
              "  <tbody>\n",
              "    <tr>\n",
              "      <th>B0</th>\n",
              "      <td>K0</td>\n",
              "      <td>A0</td>\n",
              "    </tr>\n",
              "    <tr>\n",
              "      <th>B1</th>\n",
              "      <td>K1</td>\n",
              "      <td>A1</td>\n",
              "    </tr>\n",
              "    <tr>\n",
              "      <th>B2</th>\n",
              "      <td>K2</td>\n",
              "      <td>A2</td>\n",
              "    </tr>\n",
              "    <tr>\n",
              "      <th>B3</th>\n",
              "      <td>K3</td>\n",
              "      <td>A3</td>\n",
              "    </tr>\n",
              "  </tbody>\n",
              "</table>\n",
              "</div>"
            ],
            "text/plain": [
              "   Key   A\n",
              "B0  K0  A0\n",
              "B1  K1  A1\n",
              "B2  K2  A2\n",
              "B3  K3  A3"
            ]
          },
          "metadata": {
            "tags": []
          },
          "execution_count": 35
        }
      ]
    },
    {
      "cell_type": "code",
      "metadata": {
        "id": "x9hp5_cIk3Kk"
      },
      "source": [
        "right = pd.DataFrame({'C':['C0','C1','C2',],\n",
        "                     'D': ['D0','D1','D2',]},\n",
        "                     index= ['K0','K1','K2',])"
      ],
      "execution_count": null,
      "outputs": []
    },
    {
      "cell_type": "code",
      "metadata": {
        "colab": {
          "base_uri": "https://localhost:8080/",
          "height": 142
        },
        "id": "rPgEyFl6lAI-",
        "outputId": "396d1585-7eff-404b-9334-d541adaa8cc9"
      },
      "source": [
        "right"
      ],
      "execution_count": null,
      "outputs": [
        {
          "output_type": "execute_result",
          "data": {
            "text/html": [
              "<div>\n",
              "<style scoped>\n",
              "    .dataframe tbody tr th:only-of-type {\n",
              "        vertical-align: middle;\n",
              "    }\n",
              "\n",
              "    .dataframe tbody tr th {\n",
              "        vertical-align: top;\n",
              "    }\n",
              "\n",
              "    .dataframe thead th {\n",
              "        text-align: right;\n",
              "    }\n",
              "</style>\n",
              "<table border=\"1\" class=\"dataframe\">\n",
              "  <thead>\n",
              "    <tr style=\"text-align: right;\">\n",
              "      <th></th>\n",
              "      <th>C</th>\n",
              "      <th>D</th>\n",
              "    </tr>\n",
              "  </thead>\n",
              "  <tbody>\n",
              "    <tr>\n",
              "      <th>K0</th>\n",
              "      <td>C0</td>\n",
              "      <td>D0</td>\n",
              "    </tr>\n",
              "    <tr>\n",
              "      <th>K1</th>\n",
              "      <td>C1</td>\n",
              "      <td>D1</td>\n",
              "    </tr>\n",
              "    <tr>\n",
              "      <th>K2</th>\n",
              "      <td>C2</td>\n",
              "      <td>D2</td>\n",
              "    </tr>\n",
              "  </tbody>\n",
              "</table>\n",
              "</div>"
            ],
            "text/plain": [
              "     C   D\n",
              "K0  C0  D0\n",
              "K1  C1  D1\n",
              "K2  C2  D2"
            ]
          },
          "metadata": {
            "tags": []
          },
          "execution_count": 39
        }
      ]
    },
    {
      "cell_type": "code",
      "metadata": {
        "colab": {
          "base_uri": "https://localhost:8080/",
          "height": 173
        },
        "id": "CCSXJMlulC38",
        "outputId": "85a86bb0-b1e6-4368-dc46-3749892c88cd"
      },
      "source": [
        "left.join(right)"
      ],
      "execution_count": null,
      "outputs": [
        {
          "output_type": "execute_result",
          "data": {
            "text/html": [
              "<div>\n",
              "<style scoped>\n",
              "    .dataframe tbody tr th:only-of-type {\n",
              "        vertical-align: middle;\n",
              "    }\n",
              "\n",
              "    .dataframe tbody tr th {\n",
              "        vertical-align: top;\n",
              "    }\n",
              "\n",
              "    .dataframe thead th {\n",
              "        text-align: right;\n",
              "    }\n",
              "</style>\n",
              "<table border=\"1\" class=\"dataframe\">\n",
              "  <thead>\n",
              "    <tr style=\"text-align: right;\">\n",
              "      <th></th>\n",
              "      <th>Key</th>\n",
              "      <th>A</th>\n",
              "      <th>C</th>\n",
              "      <th>D</th>\n",
              "    </tr>\n",
              "  </thead>\n",
              "  <tbody>\n",
              "    <tr>\n",
              "      <th>B0</th>\n",
              "      <td>K0</td>\n",
              "      <td>A0</td>\n",
              "      <td>NaN</td>\n",
              "      <td>NaN</td>\n",
              "    </tr>\n",
              "    <tr>\n",
              "      <th>B1</th>\n",
              "      <td>K1</td>\n",
              "      <td>A1</td>\n",
              "      <td>NaN</td>\n",
              "      <td>NaN</td>\n",
              "    </tr>\n",
              "    <tr>\n",
              "      <th>B2</th>\n",
              "      <td>K2</td>\n",
              "      <td>A2</td>\n",
              "      <td>NaN</td>\n",
              "      <td>NaN</td>\n",
              "    </tr>\n",
              "    <tr>\n",
              "      <th>B3</th>\n",
              "      <td>K3</td>\n",
              "      <td>A3</td>\n",
              "      <td>NaN</td>\n",
              "      <td>NaN</td>\n",
              "    </tr>\n",
              "  </tbody>\n",
              "</table>\n",
              "</div>"
            ],
            "text/plain": [
              "   Key   A    C    D\n",
              "B0  K0  A0  NaN  NaN\n",
              "B1  K1  A1  NaN  NaN\n",
              "B2  K2  A2  NaN  NaN\n",
              "B3  K3  A3  NaN  NaN"
            ]
          },
          "metadata": {
            "tags": []
          },
          "execution_count": 40
        }
      ]
    },
    {
      "cell_type": "code",
      "metadata": {
        "colab": {
          "base_uri": "https://localhost:8080/",
          "height": 266
        },
        "id": "oUBKOfwMlQF1",
        "outputId": "06905bdf-a6a3-4e84-9a69-4602f03adc11"
      },
      "source": [
        "left.join(right,how='outer')"
      ],
      "execution_count": null,
      "outputs": [
        {
          "output_type": "execute_result",
          "data": {
            "text/html": [
              "<div>\n",
              "<style scoped>\n",
              "    .dataframe tbody tr th:only-of-type {\n",
              "        vertical-align: middle;\n",
              "    }\n",
              "\n",
              "    .dataframe tbody tr th {\n",
              "        vertical-align: top;\n",
              "    }\n",
              "\n",
              "    .dataframe thead th {\n",
              "        text-align: right;\n",
              "    }\n",
              "</style>\n",
              "<table border=\"1\" class=\"dataframe\">\n",
              "  <thead>\n",
              "    <tr style=\"text-align: right;\">\n",
              "      <th></th>\n",
              "      <th>Key</th>\n",
              "      <th>A</th>\n",
              "      <th>C</th>\n",
              "      <th>D</th>\n",
              "    </tr>\n",
              "  </thead>\n",
              "  <tbody>\n",
              "    <tr>\n",
              "      <th>B0</th>\n",
              "      <td>K0</td>\n",
              "      <td>A0</td>\n",
              "      <td>NaN</td>\n",
              "      <td>NaN</td>\n",
              "    </tr>\n",
              "    <tr>\n",
              "      <th>B1</th>\n",
              "      <td>K1</td>\n",
              "      <td>A1</td>\n",
              "      <td>NaN</td>\n",
              "      <td>NaN</td>\n",
              "    </tr>\n",
              "    <tr>\n",
              "      <th>B2</th>\n",
              "      <td>K2</td>\n",
              "      <td>A2</td>\n",
              "      <td>NaN</td>\n",
              "      <td>NaN</td>\n",
              "    </tr>\n",
              "    <tr>\n",
              "      <th>B3</th>\n",
              "      <td>K3</td>\n",
              "      <td>A3</td>\n",
              "      <td>NaN</td>\n",
              "      <td>NaN</td>\n",
              "    </tr>\n",
              "    <tr>\n",
              "      <th>K0</th>\n",
              "      <td>NaN</td>\n",
              "      <td>NaN</td>\n",
              "      <td>C0</td>\n",
              "      <td>D0</td>\n",
              "    </tr>\n",
              "    <tr>\n",
              "      <th>K1</th>\n",
              "      <td>NaN</td>\n",
              "      <td>NaN</td>\n",
              "      <td>C1</td>\n",
              "      <td>D1</td>\n",
              "    </tr>\n",
              "    <tr>\n",
              "      <th>K2</th>\n",
              "      <td>NaN</td>\n",
              "      <td>NaN</td>\n",
              "      <td>C2</td>\n",
              "      <td>D2</td>\n",
              "    </tr>\n",
              "  </tbody>\n",
              "</table>\n",
              "</div>"
            ],
            "text/plain": [
              "    Key    A    C    D\n",
              "B0   K0   A0  NaN  NaN\n",
              "B1   K1   A1  NaN  NaN\n",
              "B2   K2   A2  NaN  NaN\n",
              "B3   K3   A3  NaN  NaN\n",
              "K0  NaN  NaN   C0   D0\n",
              "K1  NaN  NaN   C1   D1\n",
              "K2  NaN  NaN   C2   D2"
            ]
          },
          "metadata": {
            "tags": []
          },
          "execution_count": 41
        }
      ]
    },
    {
      "cell_type": "code",
      "metadata": {
        "id": "ia4XHkGYmzuq"
      },
      "source": [
        "# Python program for finding H.C.F of two input numbers\n",
        "\n",
        "def computeHCF(x,y):\n",
        "\n",
        "# chosse the smaller number\n",
        "    if x>y:\n",
        "      smaller = y\n",
        "    else:\n",
        "      smaller = x\n",
        "    for i in range(1, smaller+1):\n",
        "       if ((x % i == 0) and (y % i == 0)):\n",
        "         hcf =i\n",
        "\n",
        "    "
      ],
      "execution_count": null,
      "outputs": []
    },
    {
      "cell_type": "code",
      "metadata": {
        "id": "kqb9BVJTmg8z",
        "colab": {
          "base_uri": "https://localhost:8080/"
        },
        "outputId": "100e2df1-37e4-4648-b570-16878943b974"
      },
      "source": [
        "def computeHCF(x, y):\n",
        "\n",
        "# choose the smaller number\n",
        "    if x > y:\n",
        "        smaller = y\n",
        "    else:\n",
        "        smaller = x\n",
        "    for i in range(1, smaller+1):\n",
        "        if((x % i == 0) and (y % i == 0)):\n",
        "            hcf = i\n",
        "            \n",
        "    return hcf\n",
        "\n",
        "\n",
        "num1 = int(input(\"Enter first number: \"))\n",
        "num2 = int(input(\"Enter second number: \"))\n",
        "\n",
        "print(\"The H.C.F. of\", num1,\"and\", num2,\"is\", computeHCF(num1, num2))\n",
        "   "
      ],
      "execution_count": null,
      "outputs": [
        {
          "output_type": "stream",
          "text": [
            "Enter first number: 12\n",
            "Enter second number: 24\n",
            "The H.C.F. of 12 and 24 is 12\n"
          ],
          "name": "stdout"
        }
      ]
    },
    {
      "cell_type": "code",
      "metadata": {
        "id": "xNJK0f_xqK0z",
        "colab": {
          "base_uri": "https://localhost:8080/"
        },
        "outputId": "edf1f516-956b-4244-c9f5-e4c84893ebcf"
      },
      "source": [
        "def computeHCF(x,y): \n",
        "  # chosse the smaller number if x>y: \n",
        "    if x > y:\n",
        "     smaller = y\n",
        "    else:\n",
        "      smaller = x \n",
        "    for i in range(1, smaller+1): \n",
        "       if ((x % i == 0) and (y % i == 0)): \n",
        "            hcf = i \n",
        "     \n",
        "     \n",
        "       return hcf\n",
        "\n",
        "       \n",
        "num1 = int(input(\"Enter first number:\")) \n",
        "num2 = int(input(\"Enter second number:\")) \n",
        "print(\"The H.C.F of\",num1,\"and\",num2,\"is\", computeHCF(num1,num2))"
      ],
      "execution_count": null,
      "outputs": [
        {
          "output_type": "stream",
          "text": [
            "Enter first number:23\n",
            "Enter second number:45\n",
            "The H.C.F of 23 and 45 is 1\n"
          ],
          "name": "stdout"
        }
      ]
    },
    {
      "cell_type": "markdown",
      "metadata": {
        "id": "oQSk4pPsTnKB"
      },
      "source": [
        "Phyton Dictionaries"
      ]
    },
    {
      "cell_type": "code",
      "metadata": {
        "id": "7lwphiDQbFw5",
        "colab": {
          "base_uri": "https://localhost:8080/"
        },
        "outputId": "c958ed74-356b-4039-d36d-52d5012cfb6c"
      },
      "source": [
        "thisdict = {\n",
        "    \"brand\": \"Ford\",\n",
        "    \"Model\": \"Musttang\",\n",
        "    \"Year\": \"1990\"\n",
        "      }\n",
        "print(thisdict)"
      ],
      "execution_count": null,
      "outputs": [
        {
          "output_type": "stream",
          "text": [
            "{'brand': 'Ford', 'Model': 'Musttang', 'Year': '1990'}\n"
          ],
          "name": "stdout"
        }
      ]
    },
    {
      "cell_type": "code",
      "metadata": {
        "colab": {
          "base_uri": "https://localhost:8080/"
        },
        "id": "IPjTCSiLUIvG",
        "outputId": "d9e937fa-826e-40fc-cce8-ea10e980da22"
      },
      "source": [
        "thisdict = {\n",
        "    \"Country\": \"India\",\n",
        "    \"States\": \"29\",\n",
        "    \"Uinon tertoary\": \"6\"\n",
        "      }\n",
        "print(thisdict)"
      ],
      "execution_count": null,
      "outputs": [
        {
          "output_type": "stream",
          "text": [
            "{'Country': 'India', 'States': '29', 'Uinon tertoary': '6'}\n"
          ],
          "name": "stdout"
        }
      ]
    },
    {
      "cell_type": "code",
      "metadata": {
        "colab": {
          "base_uri": "https://localhost:8080/"
        },
        "id": "qlfME5OkUkpc",
        "outputId": "e280a48f-e642-434b-e63c-f7e3be9ff08b"
      },
      "source": [
        "thisdict = {\n",
        "    \"brand\": \"Ford\",\n",
        "    \"Model\": \"Musttang\",\n",
        "    \"Year\": \"1990\",\n",
        "    \"Country\": \"INDIA\"\n",
        "      }\n",
        "print(thisdict['Country'])"
      ],
      "execution_count": null,
      "outputs": [
        {
          "output_type": "stream",
          "text": [
            "INDIA\n"
          ],
          "name": "stdout"
        }
      ]
    },
    {
      "cell_type": "code",
      "metadata": {
        "colab": {
          "base_uri": "https://localhost:8080/"
        },
        "id": "8UL4BPl9U1Vn",
        "outputId": "60305d73-d022-4222-a8d1-f795a294854c"
      },
      "source": [
        "thisdict = {\n",
        "    \"brand\": \"Ford\",\n",
        "    \"Model\": \"Musttang\",\n",
        "    \"Year\": \"1990\",\n",
        "    \"Country\": \"INDIA\"\n",
        "      }\n",
        "print(thisdict['Year'])"
      ],
      "execution_count": null,
      "outputs": [
        {
          "output_type": "stream",
          "text": [
            "1990\n"
          ],
          "name": "stdout"
        }
      ]
    },
    {
      "cell_type": "code",
      "metadata": {
        "colab": {
          "base_uri": "https://localhost:8080/"
        },
        "id": "x-283SNNVBfk",
        "outputId": "175e67ab-0a2c-465b-ac83-2592d9539cb9"
      },
      "source": [
        "thisdict = {\n",
        "    \"brand\": \"Ford\",\n",
        "    \"Model\": \"Musttang\",\n",
        "    \"Year\": \"1990\",\n",
        "    \"Country\": \"INDIA\",\n",
        "    \"Year\": \"2020\"\n",
        "      }\n",
        "print(thisdict['Year'])"
      ],
      "execution_count": null,
      "outputs": [
        {
          "output_type": "stream",
          "text": [
            "2020\n"
          ],
          "name": "stdout"
        }
      ]
    },
    {
      "cell_type": "code",
      "metadata": {
        "colab": {
          "base_uri": "https://localhost:8080/"
        },
        "id": "kuP4hMYNVhRC",
        "outputId": "b1965e9e-ee25-4e78-c2fc-f3223d72c709"
      },
      "source": [
        "thisdict = {\n",
        "    \"brand\": \"Ford\",\n",
        "    \"Model\": \"Musttang\",\n",
        "    \"Year\": \"1990\",\n",
        "    \"Country\": \"INDIA\"\n",
        "   \n",
        "      }\n",
        "print(thisdict['brand'])"
      ],
      "execution_count": null,
      "outputs": [
        {
          "output_type": "stream",
          "text": [
            "Ford\n"
          ],
          "name": "stdout"
        }
      ]
    },
    {
      "cell_type": "code",
      "metadata": {
        "colab": {
          "base_uri": "https://localhost:8080/"
        },
        "id": "bzTrPjWKWx19",
        "outputId": "95b5b5e4-99fc-46dd-d30f-47354efe1fe3"
      },
      "source": [
        "print(len(thisdict))"
      ],
      "execution_count": null,
      "outputs": [
        {
          "output_type": "stream",
          "text": [
            "4\n"
          ],
          "name": "stdout"
        }
      ]
    },
    {
      "cell_type": "code",
      "metadata": {
        "colab": {
          "base_uri": "https://localhost:8080/"
        },
        "id": "Def1fqF7W22u",
        "outputId": "32b50f9a-2c46-4c3f-a72f-12c42a7def31"
      },
      "source": [
        "thisdict = {\n",
        "    \"Brand\": \"Ford\",\n",
        "    \"Model\":\"Mustang\",\n",
        "    \"Country\": \"India\",\n",
        "    \"Year\":1978,\n",
        "    \"Colors\": [\"Red\",\"White\",\"Blue\"]\n",
        "}\n",
        "print(thisdict)\n",
        "print(type(thisdict))"
      ],
      "execution_count": null,
      "outputs": [
        {
          "output_type": "stream",
          "text": [
            "{'Brand': 'Ford', 'Model': 'Mustang', 'Country': 'India', 'Year': 1978, 'Colors': ['Red', 'White', 'Blue']}\n",
            "<class 'dict'>\n"
          ],
          "name": "stdout"
        }
      ]
    },
    {
      "cell_type": "markdown",
      "metadata": {
        "id": "CimklKo1ZTE0"
      },
      "source": [
        "Phyton Collection -------- Arrays\n",
        "There are  collection of data types in phyton programming laanguage \n",
        "---List---\n",
        "---Tuple---\n",
        "----SET--\n",
        "----DICTONARY----"
      ]
    },
    {
      "cell_type": "code",
      "metadata": {
        "colab": {
          "base_uri": "https://localhost:8080/"
        },
        "id": "DZVut7dtYmWp",
        "outputId": "7702c93f-e534-4a99-8a7a-cf5c6e284248"
      },
      "source": [
        "thisdict = {\n",
        "    \"Brand\": \"Ford\",\n",
        "    \"Model\":\"Mustang\",\n",
        "    \"Country\": \"India\",\n",
        "    \"Year\":1978,\n",
        "    \"Colors\": [\"Red\",\"White\",\"Blue\"]\n",
        "}\n",
        "thisdict[\"Year\"] =2020\n",
        "print(thisdict)\n",
        "print(type(thisdict))"
      ],
      "execution_count": null,
      "outputs": [
        {
          "output_type": "stream",
          "text": [
            "{'Brand': 'Ford', 'Model': 'Mustang', 'Country': 'India', 'Year': 2020, 'Colors': ['Red', 'White', 'Blue']}\n",
            "<class 'dict'>\n"
          ],
          "name": "stdout"
        }
      ]
    },
    {
      "cell_type": "code",
      "metadata": {
        "colab": {
          "base_uri": "https://localhost:8080/"
        },
        "id": "R4_NjagUa4vj",
        "outputId": "2d05101d-6ad1-4506-f530-a1515fb1365f"
      },
      "source": [
        "thisdict = {\n",
        "    \"Brand\": \"Ford\",\n",
        "    \"Model\":\"Mustang\",\n",
        "    \"Country\": \"India\",\n",
        "    \"Year\":1978,\n",
        "    \"Colors\": [\"Red\",\"White\",\"Blue\"]\n",
        "}\n",
        "thisdict.update({\"SRIJAN\": \"First Owner\"})\n",
        "print(thisdict)\n"
      ],
      "execution_count": null,
      "outputs": [
        {
          "output_type": "stream",
          "text": [
            "{'Brand': 'Ford', 'Model': 'Mustang', 'Country': 'India', 'Year': 1978, 'Colors': ['Red', 'White', 'Blue'], 'SRIJAN': 'First Owner'}\n"
          ],
          "name": "stdout"
        }
      ]
    },
    {
      "cell_type": "code",
      "metadata": {
        "colab": {
          "base_uri": "https://localhost:8080/"
        },
        "id": "KIcXw_MqbdcE",
        "outputId": "c2183f08-ddeb-4561-f2e5-7fe31d3b0cfe"
      },
      "source": [
        "thisdict = {\n",
        "    \"Brand\": \"Ford\",\n",
        "    \"Model\":\"Mustang\",\n",
        "    \"Country\": \"India\",\n",
        "    \"Year\":1978,\n",
        "    \"Colors\": [\"Red\",\"White\",\"Blue\"]\n",
        "}\n",
        "thisdict.pop(\"Colors\")\n",
        "print(thisdict)"
      ],
      "execution_count": null,
      "outputs": [
        {
          "output_type": "stream",
          "text": [
            "{'Brand': 'Ford', 'Model': 'Mustang', 'Country': 'India', 'Year': 1978}\n"
          ],
          "name": "stdout"
        }
      ]
    },
    {
      "cell_type": "code",
      "metadata": {
        "colab": {
          "base_uri": "https://localhost:8080/"
        },
        "id": "DSdOlu7tckIC",
        "outputId": "89193610-c433-42a2-ad7c-0c032abf9d55"
      },
      "source": [
        "thisdict = {\n",
        "    \"Brand\": \"Ford\",\n",
        "    \"Model\":\"Mustang\",\n",
        "    \"Country\": \"India\",\n",
        "    \"Year\":2022,\n",
        "    \"Colors\": [\"Red\",\"White\",\"Blue\"]\n",
        "}\n",
        "del thisdict[\"Year\"]\n",
        "print(thisdict)"
      ],
      "execution_count": null,
      "outputs": [
        {
          "output_type": "stream",
          "text": [
            "{'Brand': 'Ford', 'Model': 'Mustang', 'Country': 'India', 'Colors': ['Red', 'White', 'Blue']}\n"
          ],
          "name": "stdout"
        }
      ]
    },
    {
      "cell_type": "code",
      "metadata": {
        "colab": {
          "base_uri": "https://localhost:8080/"
        },
        "id": "LSeG_ioEc13B",
        "outputId": "baf66071-1010-4450-c6aa-07d9401520e1"
      },
      "source": [
        "thisdict = {\n",
        "    \"Brand\": \"Ford\",\n",
        "    \"Model\":\"Mustang\",\n",
        "    \"Country\": \"India\",\n",
        "    \"Year\":2022,\n",
        "    \"Colors\": [\"Red\",\"White\",\"Blue\"]\n",
        "}\n",
        "thisdict.clear()\n",
        "print(thisdict)"
      ],
      "execution_count": null,
      "outputs": [
        {
          "output_type": "stream",
          "text": [
            "{}\n"
          ],
          "name": "stdout"
        }
      ]
    },
    {
      "cell_type": "code",
      "metadata": {
        "colab": {
          "base_uri": "https://localhost:8080/"
        },
        "id": "82QRDwC7c_gW",
        "outputId": "64741602-9785-48a9-9f22-2184e19da3e9"
      },
      "source": [
        "thisdict = {\n",
        "    \"Brand\": \"Ford\",\n",
        "    \"Model\":\"Mustang\",\n",
        "    \"Country\": \"India\",\n",
        "    \"Year\":2022,\n",
        "    \"Colors\": [\"Red\",\"White\",\"Blue\"]\n",
        "}\n",
        "Newdict =  thisdict.copy()\n",
        "print(Newdict)"
      ],
      "execution_count": null,
      "outputs": [
        {
          "output_type": "stream",
          "text": [
            "{'Brand': 'Ford', 'Model': 'Mustang', 'Country': 'India', 'Year': 2022, 'Colors': ['Red', 'White', 'Blue']}\n"
          ],
          "name": "stdout"
        }
      ]
    },
    {
      "cell_type": "code",
      "metadata": {
        "colab": {
          "base_uri": "https://localhost:8080/"
        },
        "id": "-iA1V7XzdX8B",
        "outputId": "d8a8382e-4e4c-463b-d542-d644afde52c9"
      },
      "source": [
        "thisdict = {\n",
        "   \"child1\":{\n",
        "       \"name\":'Shyam',\n",
        "           \"year\":'1990'\n",
        "       \n",
        "      },\n",
        "   \"child2\":{\n",
        "    \"name\":'Ankush',\n",
        "    \"year\":'1960'\n",
        "    },\n",
        "\"child3\":{\n",
        "    \"name\":'Rahul',\n",
        "    \"year\":'1960'\n",
        "      }\n",
        "}\n",
        "\n",
        "print(thisdict)\n",
        "\n"
      ],
      "execution_count": null,
      "outputs": [
        {
          "output_type": "stream",
          "text": [
            "{'child1': {'name': 'Shyam', 'year': '1990'}, 'child2': {'name': 'Ankush', 'year': '1960'}, 'child3': {'name': 'Rahul', 'year': '1960'}}\n"
          ],
          "name": "stdout"
        }
      ]
    },
    {
      "cell_type": "markdown",
      "metadata": {
        "id": "JAA4wg2xfCDq"
      },
      "source": [
        "In Phyton -----------set of inbilts Methods\n",
        "Methods----\n",
        "----copy()\n",
        "---clear()\n",
        "---formkey()\n",
        "---get()\n",
        "---items()\n",
        "---keys()\n",
        "---pop()\n",
        "=---popitem()\n",
        "----setdefault()\n",
        "----update()\n",
        "---values()\n",
        "\n"
      ]
    },
    {
      "cell_type": "code",
      "metadata": {
        "colab": {
          "base_uri": "https://localhost:8080/"
        },
        "id": "oVdkACtXeoKA",
        "outputId": "619108d2-3fe2-4974-858a-c8ffbe60e3d1"
      },
      "source": [
        "a=23\n",
        "b=200\n",
        "if b>a:\n",
        "  print(\"b is greater than a\")"
      ],
      "execution_count": null,
      "outputs": [
        {
          "output_type": "stream",
          "text": [
            "b is greater than a\n"
          ],
          "name": "stdout"
        }
      ]
    },
    {
      "cell_type": "code",
      "metadata": {
        "colab": {
          "base_uri": "https://localhost:8080/"
        },
        "id": "krKFU9G0gGxk",
        "outputId": "bebb1675-1b84-4b22-e561-47423ca6ccff"
      },
      "source": [
        "a=200\n",
        "b=200\n",
        "if b>a:\n",
        "  print(\"b is greater than a\")\n",
        "elif a==b:\n",
        "    print(\"a is equal to b\")"
      ],
      "execution_count": null,
      "outputs": [
        {
          "output_type": "stream",
          "text": [
            "a is equal to b\n"
          ],
          "name": "stdout"
        }
      ]
    },
    {
      "cell_type": "code",
      "metadata": {
        "colab": {
          "base_uri": "https://localhost:8080/"
        },
        "id": "TsrLR-a1gblw",
        "outputId": "9f88878a-a106-49e3-ea62-58f315df5e42"
      },
      "source": [
        "a=333\n",
        "b=200\n",
        "if b>a:\n",
        "  print(\"b is greater than a\")\n",
        "elif a==b:\n",
        "    print(\"a is equal to b\")\n",
        "else:\n",
        "    print(\"a is greater than b\")"
      ],
      "execution_count": null,
      "outputs": [
        {
          "output_type": "stream",
          "text": [
            "a is greater than b\n"
          ],
          "name": "stdout"
        }
      ]
    },
    {
      "cell_type": "code",
      "metadata": {
        "colab": {
          "base_uri": "https://localhost:8080/"
        },
        "id": "-I7mI-vPg6Zj",
        "outputId": "3e56417b-3127-44de-ab5c-e8011044f9f9"
      },
      "source": [
        "a=333\n",
        "b=200\n",
        "if b>a:\n",
        "  print(\"b is greater than a\")\n",
        "else:\n",
        "    print(\"a is greater than b\")"
      ],
      "execution_count": null,
      "outputs": [
        {
          "output_type": "stream",
          "text": [
            "a is greater than b\n"
          ],
          "name": "stdout"
        }
      ]
    },
    {
      "cell_type": "code",
      "metadata": {
        "colab": {
          "base_uri": "https://localhost:8080/"
        },
        "id": "yHvfiq9ahH-T",
        "outputId": "44786647-7ab9-4e79-b72c-a1162b14d2c3"
      },
      "source": [
        "a=333\n",
        "b=45555\n",
        "if b>a:   print(\"b is greater than a\")"
      ],
      "execution_count": null,
      "outputs": [
        {
          "output_type": "stream",
          "text": [
            "b is greater than a\n"
          ],
          "name": "stdout"
        }
      ]
    },
    {
      "cell_type": "code",
      "metadata": {
        "colab": {
          "base_uri": "https://localhost:8080/"
        },
        "id": "Qf-aUVDdhXD4",
        "outputId": "f9410dff-0db5-4928-d451-c14da90a34ae"
      },
      "source": [
        " a=333\n",
        "b=20\n",
        "c=700\n",
        "if a>b and c>a:   print(\"both condition are true \")"
      ],
      "execution_count": null,
      "outputs": [
        {
          "output_type": "stream",
          "text": [
            "both condition are true \n"
          ],
          "name": "stdout"
        }
      ]
    },
    {
      "cell_type": "markdown",
      "metadata": {
        "id": "efkF68ygiFNL"
      },
      "source": [
        "**NESTED IF ELSE**"
      ]
    },
    {
      "cell_type": "code",
      "metadata": {
        "colab": {
          "base_uri": "https://localhost:8080/"
        },
        "id": "fjBypB9riNmF",
        "outputId": "9a35050b-5746-49ba-9114-0f3760af40e3"
      },
      "source": [
        "x = 41\n",
        "\n",
        "if x>10:\n",
        "   print(\"this is above the value 10\")\n",
        "if x>20:\n",
        "       print(\"it is above the value 20\")\n",
        "else :\n",
        "   print(\"but not above 20\")"
      ],
      "execution_count": null,
      "outputs": [
        {
          "output_type": "stream",
          "text": [
            "this is above the value 10\n",
            "it is above the value 20\n"
          ],
          "name": "stdout"
        }
      ]
    },
    {
      "cell_type": "code",
      "metadata": {
        "colab": {
          "base_uri": "https://localhost:8080/"
        },
        "id": "420Xn3Hriu6Q",
        "outputId": "f7052b6a-c20f-4f0f-8c57-97ef62cd917e"
      },
      "source": [
        "#while loop\n",
        "i = 1\n",
        "while i<6:\n",
        "   print(i)\n",
        "   i += 1"
      ],
      "execution_count": null,
      "outputs": [
        {
          "output_type": "stream",
          "text": [
            "1\n",
            "2\n",
            "3\n",
            "4\n",
            "5\n"
          ],
          "name": "stdout"
        }
      ]
    },
    {
      "cell_type": "code",
      "metadata": {
        "colab": {
          "base_uri": "https://localhost:8080/"
        },
        "id": "AZ6dAlIKjQZe",
        "outputId": "98a7ec06-c6d5-4c53-e0f2-97b40108b340"
      },
      "source": [
        "i = 1\n",
        "while i<6:\n",
        "   print(i)\n",
        "   if (i ==3):\n",
        "     break \n",
        "   i += 1"
      ],
      "execution_count": null,
      "outputs": [
        {
          "output_type": "stream",
          "text": [
            "1\n",
            "2\n",
            "3\n"
          ],
          "name": "stdout"
        }
      ]
    },
    {
      "cell_type": "code",
      "metadata": {
        "colab": {
          "base_uri": "https://localhost:8080/"
        },
        "id": "KSFESxQxjtBJ",
        "outputId": "7f1174fd-a026-4cc5-c54f-875d52427de9"
      },
      "source": [
        "i = 1\n",
        "while i < 6:\n",
        "       print(i)\n",
        "       i += 1\n",
        "else:\n",
        "  print(\"i is no longer than 6\")"
      ],
      "execution_count": null,
      "outputs": [
        {
          "output_type": "stream",
          "text": [
            "1\n",
            "2\n",
            "3\n",
            "4\n",
            "5\n",
            "i is no longer than 6\n"
          ],
          "name": "stdout"
        }
      ]
    },
    {
      "cell_type": "code",
      "metadata": {
        "id": "7tAsiDHnkXnS",
        "colab": {
          "base_uri": "https://localhost:8080/"
        },
        "outputId": "5ca5674f-75f4-43bb-dee5-a357aabfef35"
      },
      "source": [
        "# Python Program to find the L.C.M. of two input number\n",
        "def lcm(x, y):\n",
        "  if x > y:\n",
        "    greater = x\n",
        "  else:\n",
        "    greater = y\n",
        "  while(True):\n",
        "    if ((greater % x== 0) and (greater % y == 0)):\n",
        "      lcm = greater\n",
        "      break\n",
        "    greater += 1 \n",
        "  return lcm \n",
        "num1 = int(input(\"Enter first number: \"))\n",
        "num2 = int(input(\"Enter second number: \"))\n",
        "print(\"The LCM of\", num1,\"and\",num2,\"is\",lcm(num1,num2))"
      ],
      "execution_count": null,
      "outputs": [
        {
          "output_type": "stream",
          "text": [
            "Enter first number: 23\n",
            "Enter second number: 34\n",
            "The LCM of 23 and 34 is 782\n"
          ],
          "name": "stdout"
        }
      ]
    },
    {
      "cell_type": "markdown",
      "metadata": {
        "id": "_dcnIRnTqiaq"
      },
      "source": [
        "NUMPY \n",
        "Used for working on array\n",
        "Various Domain ---- Linear alzebra,fourier transform, and matrix manipulation\n",
        "Numpy-2005---Travis Oliphant (Created )\n",
        "\n",
        "ndarray----arrayobject---Datascience\n",
        "Numpy they are faster than list\n",
        "\n",
        "Installition command would be"
      ]
    },
    {
      "cell_type": "markdown",
      "metadata": {
        "id": "-yASrl-ssP0k"
      },
      "source": [
        "###**Getting started WITH NUMPY**"
      ]
    },
    {
      "cell_type": "code",
      "metadata": {
        "id": "smRVWKAWl-7R",
        "colab": {
          "base_uri": "https://localhost:8080/"
        },
        "outputId": "947b6ebe-496f-4613-9fb6-b84e97c51607"
      },
      "source": [
        "import numpy as np\n",
        "arr = np.array([1,2,3,4,5])\n",
        "print(arr)"
      ],
      "execution_count": null,
      "outputs": [
        {
          "output_type": "stream",
          "text": [
            "[1 2 3 4 5]\n"
          ],
          "name": "stdout"
        }
      ]
    },
    {
      "cell_type": "code",
      "metadata": {
        "colab": {
          "base_uri": "https://localhost:8080/"
        },
        "id": "XC4FlOndspid",
        "outputId": "bc017561-397f-47d7-c90f-9c7d408b2324"
      },
      "source": [
        "import numpy as np\n",
        "print(np.__version__)"
      ],
      "execution_count": null,
      "outputs": [
        {
          "output_type": "stream",
          "text": [
            "1.18.5\n"
          ],
          "name": "stdout"
        }
      ]
    },
    {
      "cell_type": "markdown",
      "metadata": {
        "id": "rq8GmI7FtQoN"
      },
      "source": [
        "**Create  a numpy and Array object**"
      ]
    },
    {
      "cell_type": "code",
      "metadata": {
        "colab": {
          "base_uri": "https://localhost:8080/"
        },
        "id": "rcyQILghtFwS",
        "outputId": "f3d0d2a8-ea7f-406b-e8f0-21e5b683e0bd"
      },
      "source": [
        "import numpy as np\n",
        "arr = np.array([1,2,3,4,5])\n",
        "print(arr)\n",
        "print(type(arr))"
      ],
      "execution_count": null,
      "outputs": [
        {
          "output_type": "stream",
          "text": [
            "[1 2 3 4 5]\n",
            "<class 'numpy.ndarray'>\n"
          ],
          "name": "stdout"
        }
      ]
    },
    {
      "cell_type": "code",
      "metadata": {
        "colab": {
          "base_uri": "https://localhost:8080/"
        },
        "id": "NB1sA9JqtkGb",
        "outputId": "e39c91cd-7a6a-4706-ef5f-6d68437aa0bf"
      },
      "source": [
        "import numpy as np\n",
        "arr = np.array([3456])\n",
        "print(arr)\n",
        "print(type(arr))"
      ],
      "execution_count": null,
      "outputs": [
        {
          "output_type": "stream",
          "text": [
            "[3456]\n",
            "<class 'numpy.ndarray'>\n"
          ],
          "name": "stdout"
        }
      ]
    },
    {
      "cell_type": "code",
      "metadata": {
        "colab": {
          "base_uri": "https://localhost:8080/"
        },
        "id": "wpwkQgGMtoCd",
        "outputId": "194ea247-b11c-46f8-e268-bc87b7ed7e70"
      },
      "source": [
        "import numpy as np\n",
        "arr = np.array([[1,2,3,4,5],[5,6,7,8,9]])\n",
        "print(arr)\n",
        "print(type(arr))"
      ],
      "execution_count": null,
      "outputs": [
        {
          "output_type": "stream",
          "text": [
            "[[1 2 3 4 5]\n",
            " [5 6 7 8 9]]\n",
            "<class 'numpy.ndarray'>\n"
          ],
          "name": "stdout"
        }
      ]
    },
    {
      "cell_type": "code",
      "metadata": {
        "colab": {
          "base_uri": "https://localhost:8080/"
        },
        "id": "_MWjsgjat5HG",
        "outputId": "27082ea5-e694-4eb6-a757-e94e2db67d35"
      },
      "source": [
        "import numpy as np\n",
        "arr = np.array([[[1,2,3,4,5],[10,11,12,13,14]],[[15,16,17,18,19],[5,6,7,8,9]]])\n",
        "print(arr)\n",
        "print(type(arr))"
      ],
      "execution_count": null,
      "outputs": [
        {
          "output_type": "stream",
          "text": [
            "[[[ 1  2  3  4  5]\n",
            "  [10 11 12 13 14]]\n",
            "\n",
            " [[15 16 17 18 19]\n",
            "  [ 5  6  7  8  9]]]\n",
            "<class 'numpy.ndarray'>\n"
          ],
          "name": "stdout"
        }
      ]
    },
    {
      "cell_type": "code",
      "metadata": {
        "colab": {
          "base_uri": "https://localhost:8080/"
        },
        "id": "bGKH_y86uWNg",
        "outputId": "a4df9b8b-dd1a-4fe5-9026-85f46ea31446"
      },
      "source": [
        "import numpy as np\n",
        "a = np.array(123)\n",
        "b= np.array([1,2,3,4,5])\n",
        "c= np.array([[15,16,17,18,19],[10,11,12,13,14]])\n",
        "d= np.array([[[1,2,3,4,5],[10,11,12,13,14]],[[15,16,17,18,19],[5,6,7,8,9]]])\n",
        "\n",
        "print(a.ndim)\n",
        "print(b.ndim)\n",
        "print(c.ndim)\n",
        "print(d.ndim)"
      ],
      "execution_count": null,
      "outputs": [
        {
          "output_type": "stream",
          "text": [
            "0\n",
            "1\n",
            "2\n",
            "3\n"
          ],
          "name": "stdout"
        }
      ]
    },
    {
      "cell_type": "code",
      "metadata": {
        "colab": {
          "base_uri": "https://localhost:8080/"
        },
        "id": "Olg6jywjyOJO",
        "outputId": "09b3011d-8ec1-4a5e-856e-af772ce8e77b"
      },
      "source": [
        "import numpy as np\n",
        "\n",
        "a= np.array(456)\n",
        "b= np.array([1,2,3,4,5,6,7])\n",
        "c= np.array([[1,2,3,4,5],[6,7,8,9,10]])\n",
        "d= np.array([[[1,2,3,],[4,5,6]],[[6,7,8],[9,10,11]]])\n",
        "\n",
        "print(a.ndim)\n",
        "print(b.ndim)\n",
        "print(c.ndim)\n",
        "print(d.ndim)"
      ],
      "execution_count": null,
      "outputs": [
        {
          "output_type": "stream",
          "text": [
            "0\n",
            "1\n",
            "2\n",
            "3\n"
          ],
          "name": "stdout"
        }
      ]
    },
    {
      "cell_type": "code",
      "metadata": {
        "colab": {
          "base_uri": "https://localhost:8080/"
        },
        "id": "rCznaDlmw21Y",
        "outputId": "d8cf313c-8f52-4fd9-e9e8-7549642a6ec3"
      },
      "source": [
        "import numpy as np\n",
        "arr= np.array([1,2,3,4,5])\n",
        "print([arr[2]+arr[4]])"
      ],
      "execution_count": null,
      "outputs": [
        {
          "output_type": "stream",
          "text": [
            "[8]\n"
          ],
          "name": "stdout"
        }
      ]
    },
    {
      "cell_type": "code",
      "metadata": {
        "colab": {
          "base_uri": "https://localhost:8080/"
        },
        "id": "Vt1AIl6NxFen",
        "outputId": "5df4e69a-07c5-4aee-a7ce-2abdc7e85789"
      },
      "source": [
        "import numpy as np\n",
        "c = np.array([1,2,3,4,5])\n",
        "print(c)\n",
        "print('fifth element of 2nd dimensional:',c[1])"
      ],
      "execution_count": null,
      "outputs": [
        {
          "output_type": "stream",
          "text": [
            "[1 2 3 4 5]\n",
            "fifth element of 2nd dimensional: 2\n"
          ],
          "name": "stdout"
        }
      ]
    },
    {
      "cell_type": "code",
      "metadata": {
        "colab": {
          "base_uri": "https://localhost:8080/"
        },
        "id": "P19nmQT6xkFe",
        "outputId": "f0a54f7b-349b-443f-b53b-30b772db20f4"
      },
      "source": [
        "import numpy as np\n",
        "c= np.array([[[1,2,3,],[4,5,6]],[[6,7,8],[9,10,11]]])\n",
        "print(c)\n",
        "print('Print the third element of second array of the first array:', c[0,1,2])"
      ],
      "execution_count": null,
      "outputs": [
        {
          "output_type": "stream",
          "text": [
            "[[[ 1  2  3]\n",
            "  [ 4  5  6]]\n",
            "\n",
            " [[ 6  7  8]\n",
            "  [ 9 10 11]]]\n",
            "Print the third element of second array of the first array: 6\n"
          ],
          "name": "stdout"
        }
      ]
    },
    {
      "cell_type": "code",
      "metadata": {
        "colab": {
          "base_uri": "https://localhost:8080/"
        },
        "id": "-SZif4Rgxkw6",
        "outputId": "086f4d16-af3f-4fb7-d28e-f21f8059af6f"
      },
      "source": [
        "import numpy as np\n",
        "c= np.array([[[1,2,3,],[4,5,6]],[[6,7,8],[9,10,11]]])\n",
        "print(c)\n",
        "print('Print the third element of second array of the first array: ', c[0,1,2])"
      ],
      "execution_count": null,
      "outputs": [
        {
          "output_type": "stream",
          "text": [
            "[[[ 1  2  3]\n",
            "  [ 4  5  6]]\n",
            "\n",
            " [[ 6  7  8]\n",
            "  [ 9 10 11]]]\n",
            "Print the third element of second array of the first array:  6\n"
          ],
          "name": "stdout"
        }
      ]
    },
    {
      "cell_type": "code",
      "metadata": {
        "colab": {
          "base_uri": "https://localhost:8080/"
        },
        "id": "8EbYt9KdzEd6",
        "outputId": "2082b105-c42e-4399-8534-29fb20f574fb"
      },
      "source": [
        "import numpy as np\n",
        "c= np.array([[1,2,3,9],[4,5,6,10]])\n",
        "print(c)\n",
        "print('Print the last element form 2nd dis: ', c[1,-1])"
      ],
      "execution_count": null,
      "outputs": [
        {
          "output_type": "stream",
          "text": [
            "[[ 1  2  3  9]\n",
            " [ 4  5  6 10]]\n",
            "Print the last element form 2nd dis:  10\n"
          ],
          "name": "stdout"
        }
      ]
    },
    {
      "cell_type": "code",
      "metadata": {
        "colab": {
          "base_uri": "https://localhost:8080/"
        },
        "id": "TRz9eU_ezLB0",
        "outputId": "79ccc3f8-926c-40a6-c4b5-c19d19dd571f"
      },
      "source": [
        "import numpy as np\n",
        "c= np.array([[[1,2,3,],[4,5,6]],[[6,7,8],[9,10,11]]])\n",
        "print(c[1:6])"
      ],
      "execution_count": null,
      "outputs": [
        {
          "output_type": "stream",
          "text": [
            "[[[ 6  7  8]\n",
            "  [ 9 10 11]]]\n"
          ],
          "name": "stdout"
        }
      ]
    },
    {
      "cell_type": "code",
      "metadata": {
        "colab": {
          "base_uri": "https://localhost:8080/"
        },
        "id": "XleRRC0lza87",
        "outputId": "b1bafa3e-1ae4-4fa6-a527-35997ab08464"
      },
      "source": [
        "import numpy as np\n",
        "c= np.array([1,2,3,4,5,6,6,7,8,9,10,11])\n",
        "print(c[1:2])"
      ],
      "execution_count": null,
      "outputs": [
        {
          "output_type": "stream",
          "text": [
            "[2]\n"
          ],
          "name": "stdout"
        }
      ]
    },
    {
      "cell_type": "code",
      "metadata": {
        "colab": {
          "base_uri": "https://localhost:8080/"
        },
        "id": "4HfE_lIhz_ey",
        "outputId": "a06882ab-6055-425e-c91c-1677efac55b1"
      },
      "source": [
        "import numpy as np\n",
        "c= np.array([1,2,3,4,5,6,6,7,8,9,10,11,12,13,14,15,15,16,17,18,19,20])\n",
        "print(c[-3:-2])"
      ],
      "execution_count": null,
      "outputs": [
        {
          "output_type": "stream",
          "text": [
            "[18]\n"
          ],
          "name": "stdout"
        }
      ]
    },
    {
      "cell_type": "code",
      "metadata": {
        "colab": {
          "base_uri": "https://localhost:8080/"
        },
        "id": "_Z_owl-40FtA",
        "outputId": "b7832214-dd30-4c79-d54a-b702e596ed34"
      },
      "source": [
        "import numpy as np\n",
        "c= np.array([1,2,3,4,5,6,6,7,8,9,10,11])\n",
        "print(c[1:2:6])"
      ],
      "execution_count": null,
      "outputs": [
        {
          "output_type": "stream",
          "text": [
            "[2]\n"
          ],
          "name": "stdout"
        }
      ]
    },
    {
      "cell_type": "code",
      "metadata": {
        "colab": {
          "base_uri": "https://localhost:8080/"
        },
        "id": "OfPAUUt10RG2",
        "outputId": "01ff71dc-63d9-4596-f6d7-4851d22c33f9"
      },
      "source": [
        "import numpy as np\n",
        "c= np.array([1,2,3,4,5,6,6,7,8,9,10,11])\n",
        "print(c[9:7:4])"
      ],
      "execution_count": null,
      "outputs": [
        {
          "output_type": "stream",
          "text": [
            "[]\n"
          ],
          "name": "stdout"
        }
      ]
    },
    {
      "cell_type": "code",
      "metadata": {
        "colab": {
          "base_uri": "https://localhost:8080/"
        },
        "id": "ltE3c6DK0y4C",
        "outputId": "73c4fa80-bf32-4ca8-f1e4-bf1f7cfd176d"
      },
      "source": [
        "import numpy as np\n",
        "c= np.array([1,2,3,4,5,6,6,7,8,9,10,11])\n",
        "print(c[:6])"
      ],
      "execution_count": null,
      "outputs": [
        {
          "output_type": "stream",
          "text": [
            "[1 2 3 4 5 6]\n"
          ],
          "name": "stdout"
        }
      ]
    },
    {
      "cell_type": "code",
      "metadata": {
        "colab": {
          "base_uri": "https://localhost:8080/"
        },
        "id": "iJfSmQ780115",
        "outputId": "891d11df-a7ee-46c6-8a1a-4ab34cdb7e4a"
      },
      "source": [
        "import numpy as np\n",
        "c= np.array([1,2,3,4,5,6,6,7,8,9,10,11])\n",
        "print(c[::6])"
      ],
      "execution_count": null,
      "outputs": [
        {
          "output_type": "stream",
          "text": [
            "[1 6]\n"
          ],
          "name": "stdout"
        }
      ]
    },
    {
      "cell_type": "code",
      "metadata": {
        "colab": {
          "base_uri": "https://localhost:8080/"
        },
        "id": "MAUeYYch05zr",
        "outputId": "e2ae78f3-3ce0-41d9-e249-b67a1b4e9d8a"
      },
      "source": [
        "import numpy as np\n",
        "c= np.array([[1,2,3,4,5],[6,6,7,8,9]])\n",
        "print(c[0:2,1:6])"
      ],
      "execution_count": null,
      "outputs": [
        {
          "output_type": "stream",
          "text": [
            "[[2 3 4 5]\n",
            " [6 7 8 9]]\n"
          ],
          "name": "stdout"
        }
      ]
    },
    {
      "cell_type": "markdown",
      "metadata": {
        "id": "t4yklFj114hC"
      },
      "source": [
        "Numpy Data Types\n",
        "Strings---\n",
        "Integers---\n",
        "Float----1.2\n",
        "boolean----\n",
        "complex----10+3j"
      ]
    },
    {
      "cell_type": "code",
      "metadata": {
        "colab": {
          "base_uri": "https://localhost:8080/"
        },
        "id": "-9iViO-D1FP1",
        "outputId": "8d9acd21-3fa4-4827-cd7c-24d3b8c6bc2a"
      },
      "source": [
        "import numpy as np\n",
        "c= np.array([1,2,3,4,5,6,6,7,8,9,10,11])\n",
        "print(c.dtype)"
      ],
      "execution_count": null,
      "outputs": [
        {
          "output_type": "stream",
          "text": [
            "int64\n"
          ],
          "name": "stdout"
        }
      ]
    },
    {
      "cell_type": "code",
      "metadata": {
        "colab": {
          "base_uri": "https://localhost:8080/"
        },
        "id": "fP8PXZvJ2b73",
        "outputId": "edf2eacd-2715-4aee-ff06-05926fadcb9b"
      },
      "source": [
        "import numpy as np\n",
        "c= np.array(['Ram','Shyam','Mohan','Suraj','Rahul','Ashish'])\n",
        "print(c.dtype)"
      ],
      "execution_count": null,
      "outputs": [
        {
          "output_type": "stream",
          "text": [
            "<U6\n"
          ],
          "name": "stdout"
        }
      ]
    },
    {
      "cell_type": "code",
      "metadata": {
        "colab": {
          "base_uri": "https://localhost:8080/"
        },
        "id": "mqrNa1DI2o6O",
        "outputId": "d78b8a26-0b60-462e-bec2-40d608668fb5"
      },
      "source": [
        "import numpy as np\n",
        "c= np.array([1,2,3,4,5,6,6,7,8,9,10,11])\n",
        "newarray= c.astype(int)\n",
        "print(newarray)\n",
        "print(newarray.dtype)"
      ],
      "execution_count": null,
      "outputs": [
        {
          "output_type": "stream",
          "text": [
            "[ 1  2  3  4  5  6  6  7  8  9 10 11]\n",
            "int64\n"
          ],
          "name": "stdout"
        }
      ]
    },
    {
      "cell_type": "code",
      "metadata": {
        "colab": {
          "base_uri": "https://localhost:8080/"
        },
        "id": "9Pkf1nal5j6Z",
        "outputId": "f5710fd1-b1ee-4808-c753-d9c489680680"
      },
      "source": [
        "import numpy as np\n",
        "c= np.array([1,2,3,4,5,6,6.5,7,8,9.453,10.56789,11])\n",
        "newarray= c.astype(int)\n",
        "print(newarray)\n",
        "print(newarray.dtype)"
      ],
      "execution_count": null,
      "outputs": [
        {
          "output_type": "stream",
          "text": [
            "[ 1  2  3  4  5  6  6  7  8  9 10 11]\n",
            "int64\n"
          ],
          "name": "stdout"
        }
      ]
    },
    {
      "cell_type": "code",
      "metadata": {
        "colab": {
          "base_uri": "https://localhost:8080/"
        },
        "id": "_A0BvIml5ux6",
        "outputId": "2ad08e16-42cf-409f-94af-ecd883afe382"
      },
      "source": [
        "import numpy as np\n",
        "c= np.array([1,2,3,4,5,6,6.5,7,8,9.453,10.56789,11])\n",
        "newarray= c.astype(bool)\n",
        "print(newarray)\n",
        "print(newarray.dtype)"
      ],
      "execution_count": null,
      "outputs": [
        {
          "output_type": "stream",
          "text": [
            "[ True  True  True  True  True  True  True  True  True  True  True  True]\n",
            "bool\n"
          ],
          "name": "stdout"
        }
      ]
    },
    {
      "cell_type": "code",
      "metadata": {
        "colab": {
          "base_uri": "https://localhost:8080/"
        },
        "id": "kQgI3J_V502K",
        "outputId": "de8f082f-4884-4aa5-bed3-adb2cc2196fb"
      },
      "source": [
        "import numpy as np\n",
        "c= np.array([1,2,3,4,5,6,6.5,7,8,9.453,10.56789,11])\n",
        "x=c.copy()\n",
        "print(x)\n",
        "print(c)\n",
        "print(x.dtype)"
      ],
      "execution_count": null,
      "outputs": [
        {
          "output_type": "stream",
          "text": [
            "[ 1.       2.       3.       4.       5.       6.       6.5      7.\n",
            "  8.       9.453   10.56789 11.     ]\n",
            "[ 1.       2.       3.       4.       5.       6.       6.5      7.\n",
            "  8.       9.453   10.56789 11.     ]\n",
            "float64\n"
          ],
          "name": "stdout"
        }
      ]
    },
    {
      "cell_type": "code",
      "metadata": {
        "colab": {
          "base_uri": "https://localhost:8080/"
        },
        "id": "LVjegsky6HPM",
        "outputId": "a2efb169-b928-4ca7-de9e-337164c9fdbe"
      },
      "source": [
        "import numpy as np\n",
        "c= np.array([1,2,3,4,5,6,6.5,7,8,9.453,10.56789,11])\n",
        "x=c.view()\n",
        "x[0]=9\n",
        "print(x)\n",
        "print(c)\n",
        "print(x.dtype)"
      ],
      "execution_count": null,
      "outputs": [
        {
          "output_type": "stream",
          "text": [
            "[ 9.       2.       3.       4.       5.       6.       6.5      7.\n",
            "  8.       9.453   10.56789 11.     ]\n",
            "[ 9.       2.       3.       4.       5.       6.       6.5      7.\n",
            "  8.       9.453   10.56789 11.     ]\n",
            "float64\n"
          ],
          "name": "stdout"
        }
      ]
    },
    {
      "cell_type": "code",
      "metadata": {
        "colab": {
          "base_uri": "https://localhost:8080/"
        },
        "id": "lNHl11Vy6xvH",
        "outputId": "02a318d8-fd83-404d-9ea5-eb3451374824"
      },
      "source": [
        "import numpy as np\n",
        "c= np.array([1,2,3,4,5,6,6.5,7,8,9.453,10.56789,11])\n",
        "x=c.view()## Print the value of the base attribute to check if an array owns its data or not\n",
        "y=c.copy()\n",
        "print(x.base)\n",
        "print(y.base)\n"
      ],
      "execution_count": null,
      "outputs": [
        {
          "output_type": "stream",
          "text": [
            "[ 1.       2.       3.       4.       5.       6.       6.5      7.\n",
            "  8.       9.453   10.56789 11.     ]\n",
            "None\n"
          ],
          "name": "stdout"
        }
      ]
    },
    {
      "cell_type": "code",
      "metadata": {
        "colab": {
          "base_uri": "https://localhost:8080/"
        },
        "id": "jQhH24nN7jOj",
        "outputId": "ed6c0ed4-338c-4dac-97fb-a6d3eed16278"
      },
      "source": [
        "import numpy as np\n",
        "c= np.array([1,2,3,4,5])\n",
        "y= np.array([[1,2,3,4,5],[6,7,8,9]])\n",
        "print(c.shape)\n",
        "print(y.shape)"
      ],
      "execution_count": null,
      "outputs": [
        {
          "output_type": "stream",
          "text": [
            "(5,)\n",
            "(2,)\n"
          ],
          "name": "stdout"
        }
      ]
    },
    {
      "cell_type": "code",
      "metadata": {
        "colab": {
          "base_uri": "https://localhost:8080/"
        },
        "id": "kif0qXTS8VPS",
        "outputId": "1cb7c5e1-7932-45dd-d144-78078adcfb42"
      },
      "source": [
        "import numpy as np\n",
        "c= np.array([1,2,3,4,5,6,6.5,7,8,9.453,10.56789,11])\n",
        "newarray= c.reshape(4,3)\n",
        "print(newarray)"
      ],
      "execution_count": null,
      "outputs": [
        {
          "output_type": "stream",
          "text": [
            "[[ 1.       2.       3.     ]\n",
            " [ 4.       5.       6.     ]\n",
            " [ 6.5      7.       8.     ]\n",
            " [ 9.453   10.56789 11.     ]]\n"
          ],
          "name": "stdout"
        }
      ]
    },
    {
      "cell_type": "code",
      "metadata": {
        "colab": {
          "base_uri": "https://localhost:8080/"
        },
        "id": "jnZQx6Uh9gsA",
        "outputId": "eab945d6-cc0d-4bf1-f5d4-fb199138f8e0"
      },
      "source": [
        "import numpy as np\n",
        "c= np.array([1,2,3,4,5,6,6.5,7,8,9.453,10.56789,11])\n",
        "newarray= c.reshape(2,3,2)\n",
        "print(newarray)"
      ],
      "execution_count": null,
      "outputs": [
        {
          "output_type": "stream",
          "text": [
            "[[[ 1.       2.     ]\n",
            "  [ 3.       4.     ]\n",
            "  [ 5.       6.     ]]\n",
            "\n",
            " [[ 6.5      7.     ]\n",
            "  [ 8.       9.453  ]\n",
            "  [10.56789 11.     ]]]\n"
          ],
          "name": "stdout"
        }
      ]
    },
    {
      "cell_type": "markdown",
      "metadata": {
        "id": "lwRtqYSNwFL5"
      },
      "source": [
        "**08/12/2020**"
      ]
    },
    {
      "cell_type": "code",
      "metadata": {
        "id": "IwGHqT8r917K",
        "colab": {
          "base_uri": "https://localhost:8080/"
        },
        "outputId": "83cbcf10-7dd3-4cff-9a9c-217bad337392"
      },
      "source": [
        "import numpy as np\n",
        "arr = np.array([[1,2,3],[4,5,6]])\n",
        "newarr= arr.reshape(-1)\n",
        "print(arr)\n",
        "print(newarr)"
      ],
      "execution_count": null,
      "outputs": [
        {
          "output_type": "stream",
          "text": [
            "[[1 2 3]\n",
            " [4 5 6]]\n",
            "[1 2 3 4 5 6]\n"
          ],
          "name": "stdout"
        }
      ]
    },
    {
      "cell_type": "code",
      "metadata": {
        "colab": {
          "base_uri": "https://localhost:8080/"
        },
        "id": "sI1IBWK8ujQR",
        "outputId": "1b87208c-d706-493d-dd3a-8c7bc2aa987f"
      },
      "source": [
        "import numpy as np\n",
        "arr1 = np.array([1,2,3])\n",
        "arr2 = np.array([4,5,6])\n",
        "newarr= np.concatenate ((arr1,arr2))\n",
        "print(arr1)\n",
        "print(arr2)\n",
        "print(newarr)"
      ],
      "execution_count": null,
      "outputs": [
        {
          "output_type": "stream",
          "text": [
            "[1 2 3]\n",
            "[4 5 6]\n",
            "[1 2 3 4 5 6]\n"
          ],
          "name": "stdout"
        }
      ]
    },
    {
      "cell_type": "code",
      "metadata": {
        "colab": {
          "base_uri": "https://localhost:8080/"
        },
        "id": "ewrcIV72uots",
        "outputId": "e60f8390-81f3-4b9a-9b98-0fc3cc0ffd11"
      },
      "source": [
        "import numpy as np\n",
        "arr1 = np.array([1,2,3])\n",
        "arr2 = np.array([4,5,6])\n",
        "newarr= np.stack ((arr1,arr2),axis=1)\n",
        "print(arr1)\n",
        "print(arr2)\n",
        "print(newarr)"
      ],
      "execution_count": null,
      "outputs": [
        {
          "output_type": "stream",
          "text": [
            "[1 2 3]\n",
            "[4 5 6]\n",
            "[[1 4]\n",
            " [2 5]\n",
            " [3 6]]\n"
          ],
          "name": "stdout"
        }
      ]
    },
    {
      "cell_type": "code",
      "metadata": {
        "colab": {
          "base_uri": "https://localhost:8080/"
        },
        "id": "wuURdImpv3I9",
        "outputId": "6431efd6-35ce-4fcd-d5d3-07138f161167"
      },
      "source": [
        "import numpy as np\n",
        "arr1 = np.array([1,2,3])\n",
        "arr2 = np.array([4,5,6])\n",
        "newarr= np.stack ((arr1,arr2),axis=0)\n",
        "print(arr1)\n",
        "print(arr2)\n",
        "print(newarr)"
      ],
      "execution_count": null,
      "outputs": [
        {
          "output_type": "stream",
          "text": [
            "[1 2 3]\n",
            "[4 5 6]\n",
            "[[1 2 3]\n",
            " [4 5 6]]\n"
          ],
          "name": "stdout"
        }
      ]
    },
    {
      "cell_type": "code",
      "metadata": {
        "colab": {
          "base_uri": "https://localhost:8080/"
        },
        "id": "IlJyp-iev7WI",
        "outputId": "ea964598-b945-4921-dcfe-bed80fefe618"
      },
      "source": [
        "import numpy as np\n",
        "arr1 = np.array([1,2,3])\n",
        "arr2 = np.array([4,5,6])\n",
        "newarr= np.hstack ((arr1,arr2))\n",
        "print(arr1)\n",
        "print(arr2)\n",
        "print(newarr)"
      ],
      "execution_count": null,
      "outputs": [
        {
          "output_type": "stream",
          "text": [
            "[1 2 3]\n",
            "[4 5 6]\n",
            "[1 2 3 4 5 6]\n"
          ],
          "name": "stdout"
        }
      ]
    },
    {
      "cell_type": "code",
      "metadata": {
        "colab": {
          "base_uri": "https://localhost:8080/"
        },
        "id": "9zwp-pUcwUib",
        "outputId": "be6e81a9-1194-4bfe-f6ec-fce90a9975c6"
      },
      "source": [
        "import numpy as np\n",
        "arr1 = np.array([1,2,3])\n",
        "arr2 = np.array([4,5,6])\n",
        "newarr= np.vstack ((arr1,arr2))\n",
        "print(arr1)\n",
        "print(arr2)\n",
        "print(newarr)"
      ],
      "execution_count": null,
      "outputs": [
        {
          "output_type": "stream",
          "text": [
            "[1 2 3]\n",
            "[4 5 6]\n",
            "[[1 2 3]\n",
            " [4 5 6]]\n"
          ],
          "name": "stdout"
        }
      ]
    },
    {
      "cell_type": "code",
      "metadata": {
        "colab": {
          "base_uri": "https://localhost:8080/"
        },
        "id": "u4pq3g6zwd67",
        "outputId": "2aa3474a-a11b-4e6b-8587-dbd69de34a9c"
      },
      "source": [
        "import numpy as np\n",
        "arr1 = np.array([1,2,3])\n",
        "arr2 = np.array([4,5,6])\n",
        "newarr= np.dstack ((arr1,arr2))\n",
        "\n",
        "print(newarr)"
      ],
      "execution_count": null,
      "outputs": [
        {
          "output_type": "stream",
          "text": [
            "[[[1 4]\n",
            "  [2 5]\n",
            "  [3 6]]]\n"
          ],
          "name": "stdout"
        }
      ]
    },
    {
      "cell_type": "markdown",
      "metadata": {
        "id": "ZOis2gQAw358"
      },
      "source": [
        "### Split the array given array "
      ]
    },
    {
      "cell_type": "code",
      "metadata": {
        "colab": {
          "base_uri": "https://localhost:8080/"
        },
        "id": "sehVJw5owteG",
        "outputId": "9a50c884-ee81-4754-fae8-03316a15bdd9"
      },
      "source": [
        "import numpy as np\n",
        "arr1 = np.array([1,2,3])\n",
        "arr2 = np.array([4,5,6])\n",
        "newarr= np.array_split (arr,3)\n",
        "print(arr1)\n",
        "print(newarr)"
      ],
      "execution_count": null,
      "outputs": [
        {
          "output_type": "stream",
          "text": [
            "[1 2 3]\n",
            "[array([[1, 2, 3]]), array([[4, 5, 6]]), array([], shape=(0, 3), dtype=int64)]\n"
          ],
          "name": "stdout"
        }
      ]
    },
    {
      "cell_type": "code",
      "metadata": {
        "colab": {
          "base_uri": "https://localhost:8080/"
        },
        "id": "1RTn-wmzxWQr",
        "outputId": "f10e7f8a-0f2c-4218-a69d-1372df28928a"
      },
      "source": [
        "import numpy as np\n",
        "arr1 = np.array([1,2,3])\n",
        "arr2 = np.array([4,5,6])\n",
        "newarr= np.array_split (arr,4)\n",
        "print(arr1)\n",
        "print(newarr)"
      ],
      "execution_count": null,
      "outputs": [
        {
          "output_type": "stream",
          "text": [
            "[1 2 3]\n",
            "[array([[1, 2, 3]]), array([[4, 5, 6]]), array([], shape=(0, 3), dtype=int64), array([], shape=(0, 3), dtype=int64)]\n"
          ],
          "name": "stdout"
        }
      ]
    },
    {
      "cell_type": "code",
      "metadata": {
        "colab": {
          "base_uri": "https://localhost:8080/"
        },
        "id": "Svc0_GKKxfYH",
        "outputId": "efef6605-38cc-4fc3-cbb5-6f5356a70ea8"
      },
      "source": [
        "import numpy as np\n",
        "arr = np.array([1,2,3,4,5,6])\n",
        "newarr= np.array_split (arr,3)\n",
        "print(newarr[0])\n",
        "print(newarr[1])\n",
        "print(newarr[2])"
      ],
      "execution_count": null,
      "outputs": [
        {
          "output_type": "stream",
          "text": [
            "[1 2]\n",
            "[3 4]\n",
            "[5 6]\n"
          ],
          "name": "stdout"
        }
      ]
    },
    {
      "cell_type": "code",
      "metadata": {
        "colab": {
          "base_uri": "https://localhost:8080/"
        },
        "id": "dkqCaNJYyFkD",
        "outputId": "07e5b2f9-3dc8-490a-aee6-1d67b4d99523"
      },
      "source": [
        "import numpy as np\n",
        "arr = np.array([1,2,3,4,5,6])\n",
        "newarr= np.array_split (arr,3)\n",
        "print(newarr[0])\n",
        "print(newarr[2])\n",
        "print(newarr[1])"
      ],
      "execution_count": null,
      "outputs": [
        {
          "output_type": "stream",
          "text": [
            "[1 2]\n",
            "[5 6]\n",
            "[3 4]\n"
          ],
          "name": "stdout"
        }
      ]
    },
    {
      "cell_type": "code",
      "metadata": {
        "colab": {
          "base_uri": "https://localhost:8080/"
        },
        "id": "y3WktdZTybUh",
        "outputId": "cd5ba609-4f69-4fb4-d811-e55100508de6"
      },
      "source": [
        "import numpy as np\n",
        "arr = np.array([1,2,3,4,5,6])\n",
        "newarr= np.where (arr==4)\n",
        "print(newarr)"
      ],
      "execution_count": null,
      "outputs": [
        {
          "output_type": "stream",
          "text": [
            "(array([3]),)\n"
          ],
          "name": "stdout"
        }
      ]
    },
    {
      "cell_type": "code",
      "metadata": {
        "colab": {
          "base_uri": "https://localhost:8080/"
        },
        "id": "dSoyzd3S0fa2",
        "outputId": "6e68ca3d-fc97-471b-febd-fa1fcd9ac27c"
      },
      "source": [
        "import numpy as np\n",
        "arr = np.array([1,2,3,4,5,6])\n",
        "newarr= np.where (arr%2 ==0)\n",
        "print(newarr)"
      ],
      "execution_count": null,
      "outputs": [
        {
          "output_type": "stream",
          "text": [
            "(array([1, 3, 5]),)\n"
          ],
          "name": "stdout"
        }
      ]
    },
    {
      "cell_type": "code",
      "metadata": {
        "colab": {
          "base_uri": "https://localhost:8080/"
        },
        "id": "QxA02z420p9a",
        "outputId": "7dac9148-7213-4008-85e2-063e1d7f5508"
      },
      "source": [
        "import numpy as np\n",
        "arr = np.array([1,2,3,4,5,6])\n",
        "newarr= np.where (arr%2 ==1)\n",
        "print(newarr)"
      ],
      "execution_count": null,
      "outputs": [
        {
          "output_type": "stream",
          "text": [
            "(array([0, 2, 4]),)\n"
          ],
          "name": "stdout"
        }
      ]
    },
    {
      "cell_type": "code",
      "metadata": {
        "colab": {
          "base_uri": "https://localhost:8080/"
        },
        "id": "6Q3NLwS80ygR",
        "outputId": "06a27378-59c3-4771-d50e-214db0ba9d8b"
      },
      "source": [
        "import numpy as np\n",
        "arr = np.array([6,7,8,9,67,54,34,12,45,55,86,78,89,12,234,])\n",
        "newarr= np.searchsorted (arr,7)\n",
        "print(newarr)"
      ],
      "execution_count": null,
      "outputs": [
        {
          "output_type": "stream",
          "text": [
            "1\n"
          ],
          "name": "stdout"
        }
      ]
    },
    {
      "cell_type": "code",
      "metadata": {
        "colab": {
          "base_uri": "https://localhost:8080/"
        },
        "id": "YML3kDNU007R",
        "outputId": "6693862c-395c-48dc-9340-2a878f4a455a"
      },
      "source": [
        "import numpy as np\n",
        "arr = np.array([6,7,8,9,67,54,34,12,45,55,86,78,89,12,234,])\n",
        "newarr= np.searchsorted (arr,45)\n",
        "print(newarr)"
      ],
      "execution_count": null,
      "outputs": [
        {
          "output_type": "stream",
          "text": [
            "8\n"
          ],
          "name": "stdout"
        }
      ]
    },
    {
      "cell_type": "code",
      "metadata": {
        "colab": {
          "base_uri": "https://localhost:8080/"
        },
        "id": "fnveuA1L17ut",
        "outputId": "82bdaf2f-bb1e-4838-e2c1-1d117f10ad30"
      },
      "source": [
        "import numpy as np\n",
        "arr = np.array([6,7,8,9,67,54,34,12,45,55,86,78,89,12,234,])\n",
        "newarr= np.searchsorted (arr,45,side= 'right')\n",
        "print(newarr)"
      ],
      "execution_count": null,
      "outputs": [
        {
          "output_type": "stream",
          "text": [
            "9\n"
          ],
          "name": "stdout"
        }
      ]
    },
    {
      "cell_type": "code",
      "metadata": {
        "colab": {
          "base_uri": "https://localhost:8080/"
        },
        "id": "j_wXo5Iq2D3u",
        "outputId": "db76791d-ded7-46a4-a0c4-34a251b19e53"
      },
      "source": [
        "import numpy as np\n",
        "arr = np.array([6,7,8,9,67,54,34,12,45,55,86,78,89,12,234,])\n",
        "newarr= np.searchsorted (arr,45,side= 'left')\n",
        "print(newarr)"
      ],
      "execution_count": null,
      "outputs": [
        {
          "output_type": "stream",
          "text": [
            "8\n"
          ],
          "name": "stdout"
        }
      ]
    },
    {
      "cell_type": "code",
      "metadata": {
        "colab": {
          "base_uri": "https://localhost:8080/"
        },
        "id": "q_K8anXo2HFA",
        "outputId": "664282ff-90ed-4472-8398-1fa2b3e9843a"
      },
      "source": [
        "import numpy as np\n",
        "arr = np.array([414,42,43,44])\n",
        "x = arr[[True,True,True,False]]\n",
        "\n",
        "print(x)"
      ],
      "execution_count": null,
      "outputs": [
        {
          "output_type": "stream",
          "text": [
            "[414  42  43]\n"
          ],
          "name": "stdout"
        }
      ]
    },
    {
      "cell_type": "code",
      "metadata": {
        "colab": {
          "base_uri": "https://localhost:8080/"
        },
        "id": "yg8SF-XI21vi",
        "outputId": "1ef929b1-b99e-4e3a-bcc5-72ed0ee0c30d"
      },
      "source": [
        "import numpy as np\n",
        "arr = np.array([41,42,43,44])\n",
        "filter_arr = arr>42\n",
        "newarr=arr[filter_arr]\n",
        "\n",
        "\n",
        "print(filter_arr)\n",
        "print(newarr)"
      ],
      "execution_count": null,
      "outputs": [
        {
          "output_type": "stream",
          "text": [
            "[False False  True  True]\n",
            "[43 44]\n"
          ],
          "name": "stdout"
        }
      ]
    },
    {
      "cell_type": "markdown",
      "metadata": {
        "id": "2org7mRH4dQV"
      },
      "source": [
        "### Matplotlib\n",
        "\n",
        "pip install matplotlib"
      ]
    },
    {
      "cell_type": "code",
      "metadata": {
        "colab": {
          "base_uri": "https://localhost:8080/"
        },
        "id": "HdQ3_zE13_tO",
        "outputId": "006e0f27-bddc-46ab-f9a2-0fc4f293eafa"
      },
      "source": [
        "import matplotlib\n",
        "print(matplotlib.__version__)"
      ],
      "execution_count": null,
      "outputs": [
        {
          "output_type": "stream",
          "text": [
            "3.2.2\n"
          ],
          "name": "stdout"
        }
      ]
    },
    {
      "cell_type": "code",
      "metadata": {
        "colab": {
          "base_uri": "https://localhost:8080/",
          "height": 265
        },
        "id": "zb1FbSy05U8T",
        "outputId": "d051a247-1619-470d-87e6-007361aa3ba7"
      },
      "source": [
        "import matplotlib.pyplot as plt\n",
        "import numpy as np\n",
        "\n",
        "xpoints= np.array([0,6])\n",
        "ypoints= np.array([0,6])\n",
        "\n",
        "plt.plot(xpoints,ypoints)\n",
        "plt.show()"
      ],
      "execution_count": null,
      "outputs": [
        {
          "output_type": "display_data",
          "data": {
            "image/png": "[encoded data removed]",
            "text/plain": [
              "<Figure size 432x288 with 1 Axes>"
            ]
          },
          "metadata": {
            "tags": [],
            "needs_background": "light"
          }
        }
      ]
    },
    {
      "cell_type": "code",
      "metadata": {
        "colab": {
          "base_uri": "https://localhost:8080/",
          "height": 265
        },
        "id": "NocLU_Bt6kg1",
        "outputId": "cdbcf703-14db-4ea1-a88c-7202b6dc4f5c"
      },
      "source": [
        "import matplotlib.pyplot as plt\n",
        "import numpy as np\n",
        "\n",
        "xpoints= np.array([1,3])\n",
        "ypoints= np.array([4,6])\n",
        "\n",
        "plt.plot(xpoints,ypoints)\n",
        "plt.show()"
      ],
      "execution_count": null,
      "outputs": [
        {
          "output_type": "display_data",
          "data": {
            "image/png": "[encoded data removed]",
            "text/plain": [
              "<Figure size 432x288 with 1 Axes>"
            ]
          },
          "metadata": {
            "tags": [],
            "needs_background": "light"
          }
        }
      ]
    },
    {
      "cell_type": "code",
      "metadata": {
        "colab": {
          "base_uri": "https://localhost:8080/",
          "height": 265
        },
        "id": "c_AoIrfU76U5",
        "outputId": "23556cfb-d034-4df5-a49d-841c337a66fa"
      },
      "source": [
        "import matplotlib.pyplot as plt\n",
        "import numpy as np\n",
        "\n",
        "xpoints= np.array([0,6])\n",
        "ypoints= np.array([0,6])\n",
        "\n",
        "plt.plot(xpoints,ypoints,'o')\n",
        "plt.show()"
      ],
      "execution_count": null,
      "outputs": [
        {
          "output_type": "display_data",
          "data": {
            "image/png": "[encoded data removed]",
            "text/plain": [
              "<Figure size 432x288 with 1 Axes>"
            ]
          },
          "metadata": {
            "tags": [],
            "needs_background": "light"
          }
        }
      ]
    },
    {
      "cell_type": "code",
      "metadata": {
        "colab": {
          "base_uri": "https://localhost:8080/",
          "height": 265
        },
        "id": "OYR5kQSm8IlR",
        "outputId": "3bfef082-7d76-44c1-e4c9-3460771faf4d"
      },
      "source": [
        "import matplotlib.pyplot as plt\n",
        "import numpy as np\n",
        "\n",
        "xpoints= np.array([1,2,6,8])\n",
        "ypoints= np.array([3,8,1,10,])\n",
        "\n",
        "plt.plot(xpoints,ypoints)\n",
        "plt.show()"
      ],
      "execution_count": null,
      "outputs": [
        {
          "output_type": "display_data",
          "data": {
            "image/png": "[encoded data removed]",
            "text/plain": [
              "<Figure size 432x288 with 1 Axes>"
            ]
          },
          "metadata": {
            "tags": [],
            "needs_background": "light"
          }
        }
      ]
    },
    {
      "cell_type": "code",
      "metadata": {
        "colab": {
          "base_uri": "https://localhost:8080/",
          "height": 265
        },
        "id": "9PEr8N8g8T8r",
        "outputId": "b20d1a91-e3d5-4675-c953-b9be4147ce2b"
      },
      "source": [
        "import matplotlib.pyplot as plt\n",
        "import numpy as np\n",
        "\n",
        "xpoints= np.array([0,6,8,5,7,2,3])\n",
        "\n",
        "\n",
        "plt.plot(xpoints,marker='o')\n",
        "plt.show()"
      ],
      "execution_count": null,
      "outputs": [
        {
          "output_type": "display_data",
          "data": {
            "image/png": "[encoded data removed]",
            "text/plain": [
              "<Figure size 432x288 with 1 Axes>"
            ]
          },
          "metadata": {
            "tags": [],
            "needs_background": "light"
          }
        }
      ]
    },
    {
      "cell_type": "code",
      "metadata": {
        "colab": {
          "base_uri": "https://localhost:8080/",
          "height": 265
        },
        "id": "1OX4QmsW8xU3",
        "outputId": "4ea69efc-ed02-4161-a315-86586790e914"
      },
      "source": [
        "import matplotlib.pyplot as plt\n",
        "import numpy as np\n",
        "\n",
        "xpoints= np.array([0,6,8,5,7,2,3])\n",
        "\n",
        "\n",
        "plt.plot(xpoints,marker='*')\n",
        "plt.show()"
      ],
      "execution_count": null,
      "outputs": [
        {
          "output_type": "display_data",
          "data": {
            "image/png": "[encoded data removed]",
            "text/plain": [
              "<Figure size 432x288 with 1 Axes>"
            ]
          },
          "metadata": {
            "tags": [],
            "needs_background": "light"
          }
        }
      ]
    },
    {
      "cell_type": "code",
      "metadata": {
        "colab": {
          "base_uri": "https://localhost:8080/",
          "height": 265
        },
        "id": "9rxtTdC384vS",
        "outputId": "40839459-c6de-4b74-b48e-7c46fbe7fadd"
      },
      "source": [
        "import matplotlib.pyplot as plt\n",
        "import numpy as np\n",
        "\n",
        "xpoints= np.array([0,6,8,5,7,2,3,33,34,5,6,27,34,6,36])\n",
        "\n",
        "\n",
        "plt.plot(xpoints,'o:r')\n",
        "plt.show()"
      ],
      "execution_count": null,
      "outputs": [
        {
          "output_type": "display_data",
          "data": {
            "image/png": "[encoded data removed]",
            "text/plain": [
              "<Figure size 432x288 with 1 Axes>"
            ]
          },
          "metadata": {
            "tags": [],
            "needs_background": "light"
          }
        }
      ]
    },
    {
      "cell_type": "code",
      "metadata": {
        "colab": {
          "base_uri": "https://localhost:8080/",
          "height": 265
        },
        "id": "CW3UwXAs9UR6",
        "outputId": "e8e08128-92ab-4da1-b1f6-5bd48b4ad0c6"
      },
      "source": [
        "import matplotlib.pyplot as plt\n",
        "import numpy as np\n",
        "\n",
        "xpoints= np.array([0,6,8,5,7,2,3,33,34,5,6,27,34,6,36])\n",
        "\n",
        "\n",
        "plt.plot(xpoints,'o-y')\n",
        "plt.show()"
      ],
      "execution_count": null,
      "outputs": [
        {
          "output_type": "display_data",
          "data": {
            "image/png": "[encoded data removed]",
            "text/plain": [
              "<Figure size 432x288 with 1 Axes>"
            ]
          },
          "metadata": {
            "tags": [],
            "needs_background": "light"
          }
        }
      ]
    },
    {
      "cell_type": "code",
      "metadata": {
        "colab": {
          "base_uri": "https://localhost:8080/",
          "height": 265
        },
        "id": "TFVZJrou9ZOX",
        "outputId": "1dbd82e5-3b16-4ccf-ed68-a10d3ade1183"
      },
      "source": [
        "import matplotlib.pyplot as plt\n",
        "import numpy as np\n",
        "\n",
        "xpoints= np.array([0,6,8,5,7,2,3,33,34,5,6,27,34,6,36])\n",
        "\n",
        "\n",
        "plt.plot(xpoints,'o--g')\n",
        "plt.show()"
      ],
      "execution_count": null,
      "outputs": [
        {
          "output_type": "display_data",
          "data": {
            "image/png": "[encoded data removed]",
            "text/plain": [
              "<Figure size 432x288 with 1 Axes>"
            ]
          },
          "metadata": {
            "tags": [],
            "needs_background": "light"
          }
        }
      ]
    },
    {
      "cell_type": "code",
      "metadata": {
        "colab": {
          "base_uri": "https://localhost:8080/",
          "height": 265
        },
        "id": "Ly6jFayJ9tl1",
        "outputId": "73e04469-6b9a-4b7f-a81d-b597d5b4448b"
      },
      "source": [
        "import matplotlib.pyplot as plt\n",
        "import numpy as np\n",
        "\n",
        "xpoints= np.array([0,6,8,5,7,2,3,33,34,5,6,27,34,6,36])\n",
        "\n",
        "\n",
        "plt.plot(xpoints,'o-.b')\n",
        "plt.show()"
      ],
      "execution_count": null,
      "outputs": [
        {
          "output_type": "display_data",
          "data": {
            "image/png": "[encoded data removed]",
            "text/plain": [
              "<Figure size 432x288 with 1 Axes>"
            ]
          },
          "metadata": {
            "tags": [],
            "needs_background": "light"
          }
        }
      ]
    },
    {
      "cell_type": "code",
      "metadata": {
        "colab": {
          "base_uri": "https://localhost:8080/",
          "height": 147
        },
        "id": "Egcr2HoW9yfJ",
        "outputId": "f3a1b8a4-e882-4d39-8de2-45472ba93a7e"
      },
      "source": [
        "import matplotlib.pyplot as plt\n",
        "import numpy as np\n",
        "\n",
        "x = np.array([0,1,2,3])\n",
        "y = np.array([3,5,2,10])\n",
        "\n",
        "\n",
        "plt.subplot(1,2,1)\n",
        "plt.plot(x,y)\n",
        "x= np.array([0,1,2,3])\n",
        "y= np.array([13,25,32,40])\n",
        "\n",
        "\n",
        "plt.subplot(2,2,1)\n",
        "plt.plot(x,y)\n",
        "\n",
        "plt.show()"
      ],
      "execution_count": null,
      "outputs": [
        {
          "output_type": "display_data",
          "data": {
            "image/png": "[encoded data removed]",
            "text/plain": [
              "<Figure size 432x288 with 1 Axes>"
            ]
          },
          "metadata": {
            "tags": [],
            "needs_background": "light"
          }
        }
      ]
    },
    {
      "cell_type": "code",
      "metadata": {
        "colab": {
          "base_uri": "https://localhost:8080/",
          "height": 147
        },
        "id": "MAx9V91j-jxm",
        "outputId": "ac180760-8830-4c1d-bd18-5a7b22149126"
      },
      "source": [
        "import matplotlib.pyplot as plt\n",
        "import numpy as np\n",
        "\n",
        "x = np.array([0,1,2,3])\n",
        "y = np.array([3,5,2,10])\n",
        "\n",
        "\n",
        "plt.subplot(1,2,1)\n",
        "plt.plot(x,y)\n",
        "\n",
        "x= np.array([0,1,2,3])\n",
        "y= np.array([13,25,32,40])\n",
        "\n",
        "\n",
        "plt.subplot(2,1,2)\n",
        "plt.plot(x,y)\n",
        "\n",
        "plt.show()"
      ],
      "execution_count": null,
      "outputs": [
        {
          "output_type": "display_data",
          "data": {
            "image/png": "[encoded data removed]",
            "text/plain": [
              "<Figure size 432x288 with 1 Axes>"
            ]
          },
          "metadata": {
            "tags": [],
            "needs_background": "light"
          }
        }
      ]
    },
    {
      "cell_type": "code",
      "metadata": {
        "colab": {
          "base_uri": "https://localhost:8080/",
          "height": 265
        },
        "id": "frVxV2tm_Yj5",
        "outputId": "c613cc10-6873-495b-a47d-fbcd33039a04"
      },
      "source": [
        "import matplotlib.pyplot as plt\n",
        "import numpy as np\n",
        "\n",
        "x = np.array([0,1,2,3])\n",
        "y = np.array([3,5,2,10])\n",
        "\n",
        "\n",
        "plt.subplot(1,2,1)\n",
        "plt.plot(x,y)\n",
        "\n",
        "x= np.array([0,1,2,3])\n",
        "y= np.array([13,25,32,40])\n",
        "\n",
        "\n",
        "plt.subplot(2,2,2)\n",
        "plt.plot(x,y)\n",
        "\n",
        "plt.show()"
      ],
      "execution_count": null,
      "outputs": [
        {
          "output_type": "display_data",
          "data": {
            "image/png": "[encoded data removed]",
            "text/plain": [
              "<Figure size 432x288 with 2 Axes>"
            ]
          },
          "metadata": {
            "tags": [],
            "needs_background": "light"
          }
        }
      ]
    },
    {
      "cell_type": "code",
      "metadata": {
        "colab": {
          "base_uri": "https://localhost:8080/",
          "height": 147
        },
        "id": "hhcM53Lv_ack",
        "outputId": "c0012195-0374-4de9-abd4-31eb07c30ff6"
      },
      "source": [
        "import matplotlib.pyplot as plt\n",
        "import numpy as np\n",
        "\n",
        "x = np.array([0,1,2,3])\n",
        "y = np.array([3,5,2,10])\n",
        "\n",
        "\n",
        "plt.subplot(2,3,1)\n",
        "plt.plot(x,y)\n",
        "\n",
        "\n",
        "x = np.array([0,1,2,3])\n",
        "y = np.array([3,5,2,10])\n",
        "\n",
        "\n",
        "plt.subplot(2,3,2)\n",
        "plt.plot(x,y)\n",
        "\n",
        "x = np.array([12,34,56,78])\n",
        "y = np.array([33,35,62,90])\n",
        "\n",
        "\n",
        "plt.subplot(2,3,3)\n",
        "plt.plot(x,y)\n",
        "\n",
        "plt.show()"
      ],
      "execution_count": null,
      "outputs": [
        {
          "output_type": "display_data",
          "data": {
            "image/png": "[encoded data removed]",
            "text/plain": [
              "<Figure size 432x288 with 3 Axes>"
            ]
          },
          "metadata": {
            "tags": [],
            "needs_background": "light"
          }
        }
      ]
    },
    {
      "cell_type": "code",
      "metadata": {
        "colab": {
          "base_uri": "https://localhost:8080/",
          "height": 147
        },
        "id": "Q386eVRL9oJ1",
        "outputId": "d1054ff1-28a0-46e8-fb0b-0c8a1899035b"
      },
      "source": [
        "import matplotlib.pyplot as plt\r\n",
        "import numpy as np\r\n",
        "\r\n",
        "x = np.array([22,22,26,75])\r\n",
        "y = np.array([31,32,64,97])\r\n",
        "\r\n",
        "\r\n",
        "plt.subplot(2,1,1)\r\n",
        "plt.plot(x,y)\r\n",
        "x = np.array([11,31,51,71])\r\n",
        "y = np.array([35,35,61,92])\r\n",
        "\r\n",
        "\r\n",
        "plt.subplot(2,2,2)\r\n",
        "plt.plot(x,y)\r\n",
        "\r\n",
        "x = np.array([0,1,2,3])\r\n",
        "\r\n",
        "y = np.array([3,5,2,10])\r\n",
        "\r\n",
        "\r\n",
        "plt.subplot(2,3,1)\r\n",
        "plt.plot(x,y)\r\n",
        "\r\n",
        "\r\n",
        "x = np.array([0,1,2,3])\r\n",
        "y = np.array([3,5,2,10])\r\n",
        "\r\n",
        "\r\n",
        "plt.subplot(2,3,2)\r\n",
        "plt.plot(x,y)\r\n",
        "\r\n",
        "x = np.array([12,34,56,78])\r\n",
        "y = np.array([33,35,62,90])\r\n",
        "\r\n",
        "\r\n",
        "plt.subplot(2,3,3)\r\n",
        "plt.plot(x,y)\r\n",
        "\r\n",
        "plt.show()"
      ],
      "execution_count": null,
      "outputs": [
        {
          "output_type": "display_data",
          "data": {
            "image/png": "[encoded data removed]",
            "text/plain": [
              "<Figure size 432x288 with 3 Axes>"
            ]
          },
          "metadata": {
            "tags": [],
            "needs_background": "light"
          }
        }
      ]
    },
    {
      "cell_type": "code",
      "metadata": {
        "colab": {
          "base_uri": "https://localhost:8080/",
          "height": 281
        },
        "id": "9K8eri2RAIqS",
        "outputId": "01aa48b8-319a-4a61-d498-c1aad3407b87"
      },
      "source": [
        "import matplotlib.pyplot as plt\n",
        "import numpy as np\n",
        "x = np.array([0,1,2,3])\n",
        "y = np.array([3,5,2,10])\n",
        "\n",
        "plt.subplot(1,2,1)\n",
        "plt.plot(x,y)\n",
        "plt.title('SALES')\n",
        "\n",
        "\n",
        "x = np.array([0,1,2,3])\n",
        "y = np.array([30,25,32,40])\n",
        "\n",
        "plt.subplot(1,2,2)\n",
        "plt.plot(x,y)\n",
        "plt.title('Income')\n",
        "\n",
        "plt.show()\n",
        "\n",
        "\n",
        "\n",
        "\n",
        "\n",
        "\n",
        "\n",
        "plt.show()"
      ],
      "execution_count": null,
      "outputs": [
        {
          "output_type": "display_data",
          "data": {
            "image/png": "[encoded data removed]",
            "text/plain": [
              "<Figure size 432x288 with 2 Axes>"
            ]
          },
          "metadata": {
            "tags": [],
            "needs_background": "light"
          }
        }
      ]
    },
    {
      "cell_type": "code",
      "metadata": {
        "id": "WJq3C-Oqzs5B"
      },
      "source": [
        ""
      ],
      "execution_count": null,
      "outputs": []
    },
    {
      "cell_type": "code",
      "metadata": {
        "colab": {
          "base_uri": "https://localhost:8080/",
          "height": 281
        },
        "id": "_0iHHBisCFNx",
        "outputId": "fbf8a265-ce23-4c1a-c3b9-c32d32b417d2"
      },
      "source": [
        "import matplotlib.pyplot as plt\n",
        "import numpy as np\n",
        "\n",
        "x = np.array([0,1,2,3,7,2,3,4,5,6,7,8,9,2,3,4,5,6,7,9])\n",
        "y = np.array([3,5,2,0,4,4,5,7,7,8,9,0,6,3,3,4,5,8,7,8])\n",
        "\n",
        "\n",
        "\n",
        "plt.scatter(x,y)\n",
        "plt.title('Scatter plot')\n",
        "\n",
        "\n",
        "\n",
        "\n",
        "\n",
        "\n",
        "\n",
        "\n",
        "plt.show()"
      ],
      "execution_count": null,
      "outputs": [
        {
          "output_type": "display_data",
          "data": {
            "image/png": "[encoded data removed]",
            "text/plain": [
              "<Figure size 432x288 with 1 Axes>"
            ]
          },
          "metadata": {
            "tags": [],
            "needs_background": "light"
          }
        }
      ]
    },
    {
      "cell_type": "code",
      "metadata": {
        "colab": {
          "base_uri": "https://localhost:8080/",
          "height": 281
        },
        "id": "AMf4ZjfSC9XE",
        "outputId": "3b9891ea-398e-41b5-9d79-9d53973627b9"
      },
      "source": [
        "import matplotlib.pyplot as plt\n",
        "import numpy as np\n",
        "\n",
        "x = np.array([0,11,2,3,7,52,3,4,65,6,7,8,9,2,3,4,5,6,7,9])\n",
        "y = np.array([3,5,32,0,45,4,5,7,78,8,9,0,6,3,3,4,5,8,7,8])\n",
        "\n",
        "\n",
        "\n",
        "plt.scatter(x,y,color= 'hotpink')\n",
        "\n",
        "x = np.array([0,11,22,33,47,52,63,74,85,96,77,88,9,2,3,4,5,6,7,9])\n",
        "y = np.array([3,5,2,0,4,4,5,7,7,38,59,0,96,73,53,14,52,38,47,88])\n",
        "\n",
        "\n",
        "\n",
        "plt.scatter(x,y,color='#88c999')\n",
        "plt.title('Scatter plot')\n",
        "\n",
        "\n",
        "\n",
        "\n",
        "\n",
        "\n",
        "\n",
        "\n",
        "plt.show()"
      ],
      "execution_count": null,
      "outputs": [
        {
          "output_type": "display_data",
          "data": {
            "image/png": "[encoded data removed]",
            "text/plain": [
              "<Figure size 432x288 with 1 Axes>"
            ]
          },
          "metadata": {
            "tags": [],
            "needs_background": "light"
          }
        }
      ]
    },
    {
      "cell_type": "code",
      "metadata": {
        "id": "nVQOZMxkD938",
        "colab": {
          "base_uri": "https://localhost:8080/",
          "height": 265
        },
        "outputId": "96ad6f2b-9d16-42d7-81cf-81f4987ba3fa"
      },
      "source": [
        "import matplotlib.pyplot as plt\r\n",
        "import numpy as np\r\n",
        "\r\n",
        "x = np.array([5,7,8,7,2,17,2,9,4,11,12,9,6])\r\n",
        "y = np.array([99,86,87,88,111,86,103,87,94,78,77,85,86])\r\n",
        "colors = np.array([0,10,20,30,40,45,50,55,60,70,80,90,100])\r\n",
        "\r\n",
        "plt.scatter(x,y, c=colors,cmap = 'viridis')\r\n",
        "plt.show()"
      ],
      "execution_count": null,
      "outputs": [
        {
          "output_type": "display_data",
          "data": {
            "image/png": "[encoded data removed]",
            "text/plain": [
              "<Figure size 432x288 with 1 Axes>"
            ]
          },
          "metadata": {
            "tags": [],
            "needs_background": "light"
          }
        }
      ]
    },
    {
      "cell_type": "code",
      "metadata": {
        "colab": {
          "base_uri": "https://localhost:8080/",
          "height": 269
        },
        "id": "WbyIzI43_KZU",
        "outputId": "b325a9c1-5725-413c-d4ec-2c7f8eaaaa4d"
      },
      "source": [
        "import matplotlib.pyplot as plt\r\n",
        "import numpy as np\r\n",
        "\r\n",
        "x = np.array([5,7,8,7,2,17,2,9,4,11,12,9,6])\r\n",
        "y = np.array([99,86,87,88,111,86,103,87,94,78,77,85,86])\r\n",
        "colors = np.array([0,10,20,30,40,45,50,55,60,70,80,90,100])\r\n",
        "\r\n",
        "plt.scatter(x,y, c=colors,cmap = 'viridis')\r\n",
        "plt.colorbar()\r\n",
        "plt.show()"
      ],
      "execution_count": null,
      "outputs": [
        {
          "output_type": "display_data",
          "data": {
            "image/png": "[encoded data removed]",
            "text/plain": [
              "<Figure size 432x288 with 2 Axes>"
            ]
          },
          "metadata": {
            "tags": [],
            "needs_background": "light"
          }
        }
      ]
    },
    {
      "cell_type": "code",
      "metadata": {
        "colab": {
          "base_uri": "https://localhost:8080/",
          "height": 269
        },
        "id": "KiO7zLMU_elB",
        "outputId": "74eb922c-aa3a-49f4-b949-cbbad62da334"
      },
      "source": [
        "import matplotlib.pyplot as plt\r\n",
        "import numpy as np\r\n",
        "\r\n",
        "x = np.array([5,7,8,7,2,17,2,9,4,11,12,9,6])\r\n",
        "y = np.array([99,86,87,88,111,86,103,87,94,78,77,85,86])\r\n",
        "colors = np.array([0,10,20,30,40,45,50,55,60,70,80,90,100])\r\n",
        "\r\n",
        "plt.scatter(x,y, c=colors,cmap = 'Accent')\r\n",
        "plt.colorbar()\r\n",
        "plt.show()"
      ],
      "execution_count": null,
      "outputs": [
        {
          "output_type": "display_data",
          "data": {
            "image/png": "[encoded data removed]",
            "text/plain": [
              "<Figure size 432x288 with 2 Axes>"
            ]
          },
          "metadata": {
            "tags": [],
            "needs_background": "light"
          }
        }
      ]
    },
    {
      "cell_type": "code",
      "metadata": {
        "colab": {
          "base_uri": "https://localhost:8080/",
          "height": 269
        },
        "id": "u2MjprDaANZL",
        "outputId": "9e1e9054-0a9e-4695-8127-2c4a09fc59a6"
      },
      "source": [
        "import matplotlib.pyplot as plt\r\n",
        "import numpy as np\r\n",
        "\r\n",
        "x = np.array([5,7,8,7,2,17,2,9,4,11,12,9,6])\r\n",
        "y = np.array([99,86,87,88,111,86,103,87,94,78,77,85,86])\r\n",
        "colors = np.array([0,10,20,30,40,45,50,55,60,70,80,90,100])\r\n",
        "\r\n",
        "plt.scatter(x,y, c=colors,cmap = 'Blues')\r\n",
        "plt.colorbar()\r\n",
        "plt.show()"
      ],
      "execution_count": null,
      "outputs": [
        {
          "output_type": "display_data",
          "data": {
            "image/png": "[encoded data removed]",
            "text/plain": [
              "<Figure size 432x288 with 2 Axes>"
            ]
          },
          "metadata": {
            "tags": [],
            "needs_background": "light"
          }
        }
      ]
    },
    {
      "cell_type": "code",
      "metadata": {
        "colab": {
          "base_uri": "https://localhost:8080/",
          "height": 269
        },
        "id": "BHjQDTw9AVKh",
        "outputId": "f392268d-38ee-46ec-a2b4-59e38716a1e5"
      },
      "source": [
        "import matplotlib.pyplot as plt\r\n",
        "import numpy as np\r\n",
        "\r\n",
        "x = np.array([5,7,8,7,2,17,2,9,4,11,12,9,6])\r\n",
        "y = np.array([99,86,87,88,111,86,103,87,94,78,77,85,86])\r\n",
        "colors = np.array([0,10,20,30,40,45,50,55,60,70,80,90,100])\r\n",
        "\r\n",
        "plt.scatter(x,y, c=colors,cmap = 'BrBG')\r\n",
        "plt.colorbar()\r\n",
        "plt.show()"
      ],
      "execution_count": null,
      "outputs": [
        {
          "output_type": "display_data",
          "data": {
            "image/png": "[encoded data removed]",
            "text/plain": [
              "<Figure size 432x288 with 2 Axes>"
            ]
          },
          "metadata": {
            "tags": [],
            "needs_background": "light"
          }
        }
      ]
    },
    {
      "cell_type": "code",
      "metadata": {
        "colab": {
          "base_uri": "https://localhost:8080/",
          "height": 269
        },
        "id": "R7z2MdIsAc9g",
        "outputId": "7463f969-8540-4c52-d483-a4238d970749"
      },
      "source": [
        "import matplotlib.pyplot as plt\r\n",
        "import numpy as np\r\n",
        "\r\n",
        "x = np.array([5,7,8,7,2,17,2,9,4,11,12,9,6])\r\n",
        "y = np.array([99,86,87,88,111,86,103,87,94,78,77,85,86])\r\n",
        "sizes = np.array([0,10,20,30,40,45,50,55,60,70,80,90,100])\r\n",
        "\r\n",
        "plt.scatter(x,y, s=sizes)\r\n",
        "plt.colorbar()\r\n",
        "plt.show()"
      ],
      "execution_count": null,
      "outputs": [
        {
          "output_type": "display_data",
          "data": {
            "image/png": "[encoded data removed]",
            "text/plain": [
              "<Figure size 432x288 with 2 Axes>"
            ]
          },
          "metadata": {
            "tags": [],
            "needs_background": "light"
          }
        }
      ]
    },
    {
      "cell_type": "code",
      "metadata": {
        "colab": {
          "base_uri": "https://localhost:8080/",
          "height": 269
        },
        "id": "MODeXjz7AyMJ",
        "outputId": "96f139bc-378b-4175-a5be-d5e039f52b16"
      },
      "source": [
        "import matplotlib.pyplot as plt\r\n",
        "import numpy as np\r\n",
        "\r\n",
        "x = np.array([5,7,8,7,2,17,2,9,4,11,12,9,6])\r\n",
        "y = np.array([99,86,87,88,111,86,103,87,94,78,77,85,86])\r\n",
        "sizes = np.array([0,10,20,30,40,45,50,55,60,70,80,90,100])\r\n",
        "\r\n",
        "plt.scatter(x,y, s=sizes,alpha=0.5)\r\n",
        "plt.colorbar()\r\n",
        "plt.show()"
      ],
      "execution_count": null,
      "outputs": [
        {
          "output_type": "display_data",
          "data": {
            "image/png": "[encoded data removed]",
            "text/plain": [
              "<Figure size 432x288 with 2 Axes>"
            ]
          },
          "metadata": {
            "tags": [],
            "needs_background": "light"
          }
        }
      ]
    },
    {
      "cell_type": "code",
      "metadata": {
        "colab": {
          "base_uri": "https://localhost:8080/",
          "height": 269
        },
        "id": "d_ZxHW2HA6tm",
        "outputId": "6ab72ae3-b88b-4877-f94f-1c7aa453740c"
      },
      "source": [
        "import matplotlib.pyplot as plt\r\n",
        "import numpy as np\r\n",
        "\r\n",
        "x = np.array([5,7,8,7,2,17,2,9,4,11,12,9,6])\r\n",
        "y = np.array([99,86,87,88,111,86,103,87,94,78,77,85,86])\r\n",
        "sizes = np.array([0,10,20,30,40,45,50,55,60,70,80,90,100])\r\n",
        "\r\n",
        "plt.scatter(x,y, s=sizes,alpha=0.9)\r\n",
        "plt.colorbar()\r\n",
        "plt.show()"
      ],
      "execution_count": null,
      "outputs": [
        {
          "output_type": "display_data",
          "data": {
            "image/png": "[encoded data removed]",
            "text/plain": [
              "<Figure size 432x288 with 2 Axes>"
            ]
          },
          "metadata": {
            "tags": [],
            "needs_background": "light"
          }
        }
      ]
    },
    {
      "cell_type": "code",
      "metadata": {
        "colab": {
          "base_uri": "https://localhost:8080/",
          "height": 265
        },
        "id": "xL7duwq8BIpT",
        "outputId": "a7167bb8-0159-406e-c7b0-ece1950f6f08"
      },
      "source": [
        "import matplotlib.pyplot as plt\r\n",
        "import numpy as np\r\n",
        "\r\n",
        "x = np.random.randint(100,size=(100))\r\n",
        "y = np.random.randint(100,size=(100))\r\n",
        "colors = np.random.randint(100,size=(100))\r\n",
        "sizes=10 *  np.random.randint(100,size=(100))\r\n",
        "plt.scatter(x,y,c=colors, s=sizes,alpha=0.9,cmap='nipy_spectral')\r\n",
        "plt.colorbar()\r\n",
        "plt.show()"
      ],
      "execution_count": null,
      "outputs": [
        {
          "output_type": "display_data",
          "data": {
            "image/png": "[encoded data removed]",
            "text/plain": [
              "<Figure size 432x288 with 2 Axes>"
            ]
          },
          "metadata": {
            "tags": [],
            "needs_background": "light"
          }
        }
      ]
    },
    {
      "cell_type": "markdown",
      "metadata": {
        "id": "5SD6KoRwCXPy"
      },
      "source": [
        "###**BAR/PLOTS GRAPH**"
      ]
    },
    {
      "cell_type": "code",
      "metadata": {
        "colab": {
          "base_uri": "https://localhost:8080/",
          "height": 265
        },
        "id": "1lTPeOUBCL_F",
        "outputId": "b0556305-9cf7-4c18-b7f3-5ed92883b30f"
      },
      "source": [
        "import matplotlib.pyplot as plt\r\n",
        "import numpy as np\r\n",
        "\r\n",
        "x = np.array([\"A\",\"B\",\"C\",\"D\"])\r\n",
        "y = np.array([23,12,25,24])\r\n",
        "plt.bar(x,y)\r\n",
        "plt.show()"
      ],
      "execution_count": null,
      "outputs": [
        {
          "output_type": "display_data",
          "data": {
            "image/png": "[encoded data removed]",
            "text/plain": [
              "<Figure size 432x288 with 1 Axes>"
            ]
          },
          "metadata": {
            "tags": [],
            "needs_background": "light"
          }
        }
      ]
    },
    {
      "cell_type": "code",
      "metadata": {
        "colab": {
          "base_uri": "https://localhost:8080/",
          "height": 265
        },
        "id": "eYVgomg3EX6j",
        "outputId": "6d6e4f78-2810-42e3-8dd7-ead0d68bd1c2"
      },
      "source": [
        "import matplotlib.pyplot as plt\r\n",
        "import numpy as np\r\n",
        "\r\n",
        "x = np.array([\"A\",\"B\",\"C\",\"D\"])\r\n",
        "y = np.array([23,12,25,24])\r\n",
        "plt.barh(x,y)\r\n",
        "plt.show()"
      ],
      "execution_count": null,
      "outputs": [
        {
          "output_type": "display_data",
          "data": {
            "image/png": "[encoded data removed]",
            "text/plain": [
              "<Figure size 432x288 with 1 Axes>"
            ]
          },
          "metadata": {
            "tags": [],
            "needs_background": "light"
          }
        }
      ]
    },
    {
      "cell_type": "code",
      "metadata": {
        "colab": {
          "base_uri": "https://localhost:8080/",
          "height": 265
        },
        "id": "kCAiWeM3DvUS",
        "outputId": "d4fecd8a-2881-4a17-cf0d-80452b728531"
      },
      "source": [
        "import matplotlib.pyplot as plt\r\n",
        "import numpy as np\r\n",
        "\r\n",
        "x = np.array([\"A\",\"B\",\"C\",\"D\"])\r\n",
        "y = np.array([23,12,25,24])\r\n",
        "plt.bar(x,y,color='red')\r\n",
        "plt.show()"
      ],
      "execution_count": null,
      "outputs": [
        {
          "output_type": "display_data",
          "data": {
            "image/png": "[encoded data removed]",
            "text/plain": [
              "<Figure size 432x288 with 1 Axes>"
            ]
          },
          "metadata": {
            "tags": [],
            "needs_background": "light"
          }
        }
      ]
    },
    {
      "cell_type": "code",
      "metadata": {
        "colab": {
          "base_uri": "https://localhost:8080/",
          "height": 265
        },
        "id": "xF0BD2X6EbKv",
        "outputId": "e7438e0b-5743-48a5-9815-0e411580d800"
      },
      "source": [
        "import matplotlib.pyplot as plt\r\n",
        "import numpy as np\r\n",
        "\r\n",
        "x = np.array([\"A\",\"B\",\"C\",\"D\"])\r\n",
        "y = np.array([23,12,25,24])\r\n",
        "plt.bar(x,y,color='hotpink')\r\n",
        "plt.show()"
      ],
      "execution_count": null,
      "outputs": [
        {
          "output_type": "display_data",
          "data": {
            "image/png": "[encoded data removed]",
            "text/plain": [
              "<Figure size 432x288 with 1 Axes>"
            ]
          },
          "metadata": {
            "tags": [],
            "needs_background": "light"
          }
        }
      ]
    },
    {
      "cell_type": "code",
      "metadata": {
        "colab": {
          "base_uri": "https://localhost:8080/",
          "height": 265
        },
        "id": "vEJIGBMFEEt7",
        "outputId": "f4a01ba4-3420-4635-a24d-56525fb93f20"
      },
      "source": [
        "import matplotlib.pyplot as plt\r\n",
        "import numpy as np\r\n",
        "\r\n",
        "x = np.array([\"A\",\"B\",\"C\",\"D\"])\r\n",
        "y = np.array([23,12,25,24])\r\n",
        "plt.bar(x,y,color='yellow')\r\n",
        "plt.show()"
      ],
      "execution_count": null,
      "outputs": [
        {
          "output_type": "display_data",
          "data": {
            "image/png": "[encoded data removed]",
            "text/plain": [
              "<Figure size 432x288 with 1 Axes>"
            ]
          },
          "metadata": {
            "tags": [],
            "needs_background": "light"
          }
        }
      ]
    },
    {
      "cell_type": "code",
      "metadata": {
        "colab": {
          "base_uri": "https://localhost:8080/",
          "height": 265
        },
        "id": "whFAH7GrEh1k",
        "outputId": "0222da4c-1597-4248-ca0e-9bb17fc9e438"
      },
      "source": [
        "import matplotlib.pyplot as plt\r\n",
        "import numpy as np\r\n",
        "\r\n",
        "x = np.array([\"A\",\"B\",\"C\",\"D\"])\r\n",
        "y = np.array([23,12,25,24])\r\n",
        "plt.bar(x,y,width=0.1)\r\n",
        "plt.show()"
      ],
      "execution_count": null,
      "outputs": [
        {
          "output_type": "display_data",
          "data": {
            "image/png": "[encoded data removed]",
            "text/plain": [
              "<Figure size 432x288 with 1 Axes>"
            ]
          },
          "metadata": {
            "tags": [],
            "needs_background": "light"
          }
        }
      ]
    },
    {
      "cell_type": "code",
      "metadata": {
        "colab": {
          "base_uri": "https://localhost:8080/",
          "height": 265
        },
        "id": "Cd6pe0QYEmwg",
        "outputId": "3b72e71f-fb58-439c-d2d1-5c7116a3863e"
      },
      "source": [
        "import matplotlib.pyplot as plt\r\n",
        "import numpy as np\r\n",
        "\r\n",
        "x = np.array([\"A\",\"B\",\"C\",\"D\"])\r\n",
        "y = np.array([23,12,25,24])\r\n",
        "plt.barh(x,y,height=0.1)\r\n",
        "plt.show()"
      ],
      "execution_count": null,
      "outputs": [
        {
          "output_type": "display_data",
          "data": {
            "image/png": "[encoded data removed]",
            "text/plain": [
              "<Figure size 432x288 with 1 Axes>"
            ]
          },
          "metadata": {
            "tags": [],
            "needs_background": "light"
          }
        }
      ]
    },
    {
      "cell_type": "code",
      "metadata": {
        "colab": {
          "base_uri": "https://localhost:8080/"
        },
        "id": "ECRay6UhE2Hv",
        "outputId": "e2a14a36-5e22-44c8-b679-08950c20c259"
      },
      "source": [
        "import numpy as np\r\n",
        "x=np.random.normal(170,10,250)\r\n",
        "print(x)"
      ],
      "execution_count": null,
      "outputs": [
        {
          "output_type": "stream",
          "text": [
            "[169.85502899 166.13796559 160.03805505 188.00716312 153.01075506\n",
            " 172.30845943 163.44218643 156.44265762 166.73919964 185.27003919\n",
            " 174.15759407 173.47448425 173.17962288 168.4674179  160.54386025\n",
            " 163.90135175 196.49292469 170.25120481 170.99931199 168.16389412\n",
            " 168.97739608 153.30482909 157.67891737 163.51453483 164.25759233\n",
            " 167.76926049 146.7986045  162.81268298 185.01196098 183.60045566\n",
            " 182.19932063 154.49758012 174.95917627 173.81527358 166.50931392\n",
            " 191.06861934 176.27767444 166.15489163 169.00409183 162.07048081\n",
            " 157.24065792 174.58089691 165.314747   163.86160649 176.59750707\n",
            " 163.18997336 166.07966121 170.09573333 173.34614531 169.76203348\n",
            " 170.36389689 159.91679985 183.78463712 169.97945263 163.62368374\n",
            " 167.20290662 175.19522194 176.83270838 174.38617149 152.4978642\n",
            " 169.21344196 155.22340535 164.07368138 166.65203543 165.28939769\n",
            " 179.28025234 192.77046309 176.82980208 181.28523303 178.41065883\n",
            " 170.01855039 179.96448786 175.02882268 165.99703328 176.50374469\n",
            " 163.85670341 177.82600865 149.80518864 178.19776167 178.45822046\n",
            " 176.81654476 156.58346103 169.09380748 164.52202732 141.85337631\n",
            " 165.07879604 176.82717871 170.78441549 159.5032205  175.84775417\n",
            " 161.16833604 170.50643908 155.47713002 173.16520771 175.62869432\n",
            " 155.58198426 170.12076791 158.10443299 167.3433438  158.24989974\n",
            " 157.6692022  172.51254811 151.60142937 191.05015583 170.70043317\n",
            " 163.01028896 155.77937515 167.20333289 163.3806223  157.79027158\n",
            " 192.67128445 179.23314375 186.23494455 158.294741   168.68774969\n",
            " 158.46244589 169.18009988 164.37155228 188.35425362 166.51583586\n",
            " 170.78411184 187.24041249 181.85292508 185.81360333 170.18213204\n",
            " 163.22841655 160.65446587 186.17463418 176.00116011 162.10061816\n",
            " 191.50123283 179.79715642 160.86738815 164.99264703 152.61965924\n",
            " 157.4761388  179.8252647  170.34475308 167.29294692 177.28407954\n",
            " 163.74976049 185.33994397 175.17056274 164.71981138 178.36709786\n",
            " 175.22508664 181.83420125 166.80741891 161.85411137 170.00271962\n",
            " 160.1891893  185.76935551 167.92380335 168.58947366 182.98273469\n",
            " 169.72271363 174.88342994 169.30283669 155.40021528 168.61117272\n",
            " 170.4222351  174.58694312 166.38769883 185.25258061 169.33944473\n",
            " 191.44915817 158.49697446 185.20944368 162.09963402 182.56262024\n",
            " 177.80307031 188.69317009 188.79514898 171.96564382 164.60576374\n",
            " 165.18156914 183.79933393 187.48058649 174.68936079 174.15000949\n",
            " 160.84205888 172.82460603 180.72459143 159.3674447  184.05272991\n",
            " 152.28377572 162.2375056  163.96857654 153.07952595 162.46235296\n",
            " 158.14170979 177.46882941 169.90875065 152.25771352 169.4666292\n",
            " 178.04758754 158.95550064 162.72357676 154.95003109 148.39855609\n",
            " 159.17330532 173.8290658  161.79380887 167.29763797 165.34156294\n",
            " 183.79118568 159.36059043 183.95326492 182.68912977 188.19445007\n",
            " 168.78982427 181.32986252 169.29268639 168.66339999 163.7804756\n",
            " 168.03015186 177.70778911 165.01232141 171.36876927 175.34358269\n",
            " 181.09868542 187.03043242 180.16733369 172.18403253 165.95243306\n",
            " 168.67504917 142.19528792 179.82451298 146.27697629 175.85247595\n",
            " 155.12200074 179.08019001 162.10743479 169.18377037 169.90489493\n",
            " 184.64327366 158.88732778 174.62412621 189.68156398 165.62496473\n",
            " 186.99061564 190.38764845 165.53402637 167.58266363 175.17021285\n",
            " 177.10666818 167.65595337 162.1774168  191.21892189 156.83356259]\n"
          ],
          "name": "stdout"
        }
      ]
    },
    {
      "cell_type": "code",
      "metadata": {
        "colab": {
          "base_uri": "https://localhost:8080/",
          "height": 265
        },
        "id": "yaCg6C6qFgn9",
        "outputId": "a298be87-fd97-4a70-e171-88e9aca812db"
      },
      "source": [
        "import matplotlib.pyplot as plt\r\n",
        "import numpy as np\r\n",
        "x=np.random.normal(170,10,250)\r\n",
        "plt.hist(x)\r\n",
        "plt.show()"
      ],
      "execution_count": null,
      "outputs": [
        {
          "output_type": "display_data",
          "data": {
            "image/png": "[encoded data removed]",
            "text/plain": [
              "<Figure size 432x288 with 1 Axes>"
            ]
          },
          "metadata": {
            "tags": [],
            "needs_background": "light"
          }
        }
      ]
    },
    {
      "cell_type": "code",
      "metadata": {
        "colab": {
          "base_uri": "https://localhost:8080/",
          "height": 248
        },
        "id": "G02lItQ8FzGL",
        "outputId": "96892d4a-b608-4086-8f04-56dc25517223"
      },
      "source": [
        "import matplotlib.pyplot as plt\r\n",
        "import numpy as np\r\n",
        "y = np.array([35,15,25,20])\r\n",
        "plt.pie(y)\r\n",
        "plt.show()"
      ],
      "execution_count": null,
      "outputs": [
        {
          "output_type": "display_data",
          "data": {
            "image/png": "[encoded data removed]",
            "text/plain": [
              "<Figure size 432x288 with 1 Axes>"
            ]
          },
          "metadata": {
            "tags": []
          }
        }
      ]
    },
    {
      "cell_type": "code",
      "metadata": {
        "colab": {
          "base_uri": "https://localhost:8080/",
          "height": 248
        },
        "id": "_QBkk0PxGSMf",
        "outputId": "a4d74a8c-4b6a-4c63-eeec-8dbe286e39a2"
      },
      "source": [
        "import matplotlib.pyplot as plt\r\n",
        "import numpy as np\r\n",
        "y = np.array([35,15,25,20])\r\n",
        "mylables=['Ram','Shyam','Mohan','Rohan']\r\n",
        "plt.pie(y, labels=mylables)\r\n",
        "plt.show()"
      ],
      "execution_count": null,
      "outputs": [
        {
          "output_type": "display_data",
          "data": {
            "image/png": "[encoded data removed]",
            "text/plain": [
              "<Figure size 432x288 with 1 Axes>"
            ]
          },
          "metadata": {
            "tags": []
          }
        }
      ]
    },
    {
      "cell_type": "code",
      "metadata": {
        "colab": {
          "base_uri": "https://localhost:8080/",
          "height": 248
        },
        "id": "Vl8dBmt4GtnW",
        "outputId": "e31ea227-83cf-4a46-9f37-700e85f1c3a7"
      },
      "source": [
        "import matplotlib.pyplot as plt\r\n",
        "import numpy as np\r\n",
        "y = np.array([35,15,25,20])\r\n",
        "mylables=['Ram','Shyam','Mohan','Rohan']\r\n",
        "myexplode=[0.2,0,0,0]\r\n",
        "plt.pie(y, labels=mylables,explode=myexplode)\r\n",
        "plt.show()"
      ],
      "execution_count": null,
      "outputs": [
        {
          "output_type": "display_data",
          "data": {
            "image/png": "[encoded data removed]",
            "text/plain": [
              "<Figure size 432x288 with 1 Axes>"
            ]
          },
          "metadata": {
            "tags": []
          }
        }
      ]
    },
    {
      "cell_type": "code",
      "metadata": {
        "colab": {
          "base_uri": "https://localhost:8080/",
          "height": 265
        },
        "id": "69q8-CdKHF0e",
        "outputId": "f62d59a4-6894-4600-9e6a-46777870a1dc"
      },
      "source": [
        "import matplotlib.pyplot as plt\r\n",
        "import numpy as np\r\n",
        "y = np.array([35,15,25,20])\r\n",
        "mylables=['Ram','Shyam','Mohan','Rohan']\r\n",
        "myexplode=[0.4,0.1,0.3,0.2]\r\n",
        "plt.pie(y, labels=mylables,explode=myexplode)\r\n",
        "plt.show()"
      ],
      "execution_count": null,
      "outputs": [
        {
          "output_type": "display_data",
          "data": {
            "image/png": "[encoded data removed]",
            "text/plain": [
              "<Figure size 432x288 with 1 Axes>"
            ]
          },
          "metadata": {
            "tags": []
          }
        }
      ]
    },
    {
      "cell_type": "code",
      "metadata": {
        "colab": {
          "base_uri": "https://localhost:8080/",
          "height": 248
        },
        "id": "nGIh0dZSHLrD",
        "outputId": "e3a8ce16-6729-4a02-ecc6-1a4efbd0bb80"
      },
      "source": [
        "import matplotlib.pyplot as plt\r\n",
        "import numpy as np\r\n",
        "y = np.array([35,15,25,20])\r\n",
        "mylables=['Ram','Shyam','Mohan','Rohan']\r\n",
        "myexplode=[0.2,0,0,0]\r\n",
        "plt.pie(y, labels=mylables,explode=myexplode,shadow=True)\r\n",
        "plt.show()"
      ],
      "execution_count": null,
      "outputs": [
        {
          "output_type": "display_data",
          "data": {
            "image/png": "[encoded data removed]",
            "text/plain": [
              "<Figure size 432x288 with 1 Axes>"
            ]
          },
          "metadata": {
            "tags": []
          }
        }
      ]
    },
    {
      "cell_type": "code",
      "metadata": {
        "colab": {
          "base_uri": "https://localhost:8080/",
          "height": 248
        },
        "id": "PSvAAYtHHtMO",
        "outputId": "db73076d-1378-4687-b489-9e5a3e9c4d8a"
      },
      "source": [
        "import matplotlib.pyplot as plt\r\n",
        "import numpy as np\r\n",
        "y = np.array([35,15,25,20])\r\n",
        "mylables=['Ram','Shyam','Mohan','Rohan']\r\n",
        "myexplode=[0.2,0,0,0]\r\n",
        "plt.pie(y, labels=mylables,explode=myexplode,shadow=True)\r\n",
        "plt.legend()\r\n",
        "plt.show()"
      ],
      "execution_count": null,
      "outputs": [
        {
          "output_type": "display_data",
          "data": {
            "image/png": "[encoded data removed]",
            "text/plain": [
              "<Figure size 432x288 with 1 Axes>"
            ]
          },
          "metadata": {
            "tags": []
          }
        }
      ]
    },
    {
      "cell_type": "code",
      "metadata": {
        "colab": {
          "base_uri": "https://localhost:8080/",
          "height": 248
        },
        "id": "lnPsk-cvICpW",
        "outputId": "10592e9b-a1b1-4849-c738-b3995e5891f1"
      },
      "source": [
        "import matplotlib.pyplot as plt\r\n",
        "import numpy as np\r\n",
        "y = np.array([35,15,25,20])\r\n",
        "mylables=['Ram','Shyam','Mohan','Rohan']\r\n",
        "myexplode=[0.2,0,0,0]\r\n",
        "plt.pie(y, labels=mylables,explode=myexplode,shadow=True)\r\n",
        "plt.legend(title='Student Names:')\r\n",
        "plt.show()"
      ],
      "execution_count": null,
      "outputs": [
        {
          "output_type": "display_data",
          "data": {
            "image/png": "[encoded data removed]",
            "text/plain": [
              "<Figure size 432x288 with 1 Axes>"
            ]
          },
          "metadata": {
            "tags": []
          }
        }
      ]
    },
    {
      "cell_type": "code",
      "metadata": {
        "colab": {
          "base_uri": "https://localhost:8080/",
          "height": 248
        },
        "id": "rJ79RGdpIYXm",
        "outputId": "440d318a-0ca8-4ce9-c9ee-e773867611af"
      },
      "source": [
        "import matplotlib.pyplot as plt\r\n",
        "import numpy as np\r\n",
        "y = np.array([35,15,25,20])\r\n",
        "mylables=['Ram','Shyam','Mohan','Rohan']\r\n",
        "myexplode=[0.2,0,0,0]\r\n",
        "plt.pie(y, labels=mylables,explode=myexplode,shadow=True)\r\n",
        "plt.legend(title='Student Names:')\r\n",
        "plt.show()"
      ],
      "execution_count": null,
      "outputs": [
        {
          "output_type": "display_data",
          "data": {
            "image/png": "[encoded data removed]",
            "text/plain": [
              "<Figure size 432x288 with 1 Axes>"
            ]
          },
          "metadata": {
            "tags": []
          }
        }
      ]
    },
    {
      "cell_type": "markdown",
      "metadata": {
        "id": "SzVhJsLox0ZV"
      },
      "source": [
        "###**Scipy**\r\n"
      ]
    },
    {
      "cell_type": "markdown",
      "metadata": {
        "id": "HiIP0Aj1znId"
      },
      "source": [
        "\r\n",
        "Scientific Phyton\r\n",
        "\r\n",
        "Numpy underneath\r\n",
        "Optimization,stats,signal processing,image processing   Data   Lib is freely available\r\n",
        "\r\n",
        "Scipy can be written in C or Phyton\r\n",
        "pip install scipy for jyupiter\r\n",
        "From scipy import constant\r\n",
        "For Version of scipy :- import scipy\r\n",
        "                        print(scipy._version_)     "
      ]
    },
    {
      "cell_type": "code",
      "metadata": {
        "id": "fdqE9yoeKAel",
        "colab": {
          "base_uri": "https://localhost:8080/"
        },
        "outputId": "f6dbb3d7-e0af-4ac0-f770-1f124b316f5d"
      },
      "source": [
        "from scipy import constants\r\n",
        "print(constants.pi)"
      ],
      "execution_count": null,
      "outputs": [
        {
          "output_type": "stream",
          "text": [
            "3.141592653589793\n"
          ],
          "name": "stdout"
        }
      ]
    },
    {
      "cell_type": "code",
      "metadata": {
        "colab": {
          "base_uri": "https://localhost:8080/"
        },
        "id": "N9XZ6WNiz1la",
        "outputId": "ad1bd369-3e1c-4344-ca0e-5c82828a41d2"
      },
      "source": [
        "from scipy import constants\r\n",
        "print(dir(constants))"
      ],
      "execution_count": null,
      "outputs": [
        {
          "output_type": "stream",
          "text": [
            "['Avogadro', 'Boltzmann', 'Btu', 'Btu_IT', 'Btu_th', 'ConstantWarning', 'G', 'Julian_year', 'N_A', 'Planck', 'R', 'Rydberg', 'Stefan_Boltzmann', 'Wien', '__all__', '__builtins__', '__cached__', '__doc__', '__file__', '__loader__', '__name__', '__package__', '__path__', '__spec__', '_obsolete_constants', 'absolute_import', 'acre', 'alpha', 'angstrom', 'arcmin', 'arcminute', 'arcsec', 'arcsecond', 'astronomical_unit', 'atm', 'atmosphere', 'atomic_mass', 'atto', 'au', 'bar', 'barrel', 'bbl', 'blob', 'c', 'calorie', 'calorie_IT', 'calorie_th', 'carat', 'centi', 'codata', 'constants', 'convert_temperature', 'day', 'deci', 'degree', 'degree_Fahrenheit', 'deka', 'division', 'dyn', 'dyne', 'e', 'eV', 'electron_mass', 'electron_volt', 'elementary_charge', 'epsilon_0', 'erg', 'exa', 'exbi', 'femto', 'fermi', 'find', 'fine_structure', 'fluid_ounce', 'fluid_ounce_US', 'fluid_ounce_imp', 'foot', 'g', 'gallon', 'gallon_US', 'gallon_imp', 'gas_constant', 'gibi', 'giga', 'golden', 'golden_ratio', 'grain', 'gram', 'gravitational_constant', 'h', 'hbar', 'hectare', 'hecto', 'horsepower', 'hour', 'hp', 'inch', 'k', 'kgf', 'kibi', 'kilo', 'kilogram_force', 'kmh', 'knot', 'lambda2nu', 'lb', 'lbf', 'light_year', 'liter', 'litre', 'long_ton', 'm_e', 'm_n', 'm_p', 'm_u', 'mach', 'mebi', 'mega', 'metric_ton', 'micro', 'micron', 'mil', 'mile', 'milli', 'minute', 'mmHg', 'mph', 'mu_0', 'nano', 'nautical_mile', 'neutron_mass', 'nu2lambda', 'ounce', 'oz', 'parsec', 'pebi', 'peta', 'physical_constants', 'pi', 'pico', 'point', 'pound', 'pound_force', 'precision', 'print_function', 'proton_mass', 'psi', 'pt', 'short_ton', 'sigma', 'slinch', 'slug', 'speed_of_light', 'speed_of_sound', 'stone', 'survey_foot', 'survey_mile', 'tebi', 'tera', 'test', 'ton_TNT', 'torr', 'troy_ounce', 'troy_pound', 'u', 'unit', 'value', 'week', 'yard', 'year', 'yobi', 'yotta', 'zebi', 'zepto', 'zero_Celsius', 'zetta']\n"
          ],
          "name": "stdout"
        }
      ]
    },
    {
      "cell_type": "code",
      "metadata": {
        "colab": {
          "base_uri": "https://localhost:8080/"
        },
        "id": "q3_czNK3z6wa",
        "outputId": "1547f1ed-13c3-4d1c-ec71-bc93dd37351f"
      },
      "source": [
        "from scipy import constants\r\n",
        "print(constants.yotta)\r\n",
        "print(constants.zetta)\r\n",
        "print(constants.exa)\r\n",
        "print(constants.tera)\r\n",
        "print(constants.mega)\r\n",
        "print(constants.kilo)\r\n",
        "print(constants.pico)"
      ],
      "execution_count": null,
      "outputs": [
        {
          "output_type": "stream",
          "text": [
            "1e+24\n",
            "1e+21\n",
            "1e+18\n",
            "1000000000000.0\n",
            "1000000.0\n",
            "1000.0\n",
            "1e-12\n"
          ],
          "name": "stdout"
        }
      ]
    },
    {
      "cell_type": "code",
      "metadata": {
        "colab": {
          "base_uri": "https://localhost:8080/"
        },
        "id": "4pKpl2gc0aoe",
        "outputId": "46dd8cc4-9b50-481f-d829-603443a7f7b1"
      },
      "source": [
        "from scipy import constants\r\n",
        "print(constants.gram)\r\n",
        "print(constants.pound)\r\n",
        "print(constants.carat)\r\n",
        "print(constants.u)\r\n",
        "print(constants.atomic_mass)\r\n",
        "print(constants.astronomical_unit)\r\n"
      ],
      "execution_count": null,
      "outputs": [
        {
          "output_type": "stream",
          "text": [
            "0.001\n",
            "0.45359236999999997\n",
            "0.0002\n",
            "1.6605390666e-27\n",
            "1.6605390666e-27\n",
            "149597870700.0\n"
          ],
          "name": "stdout"
        }
      ]
    },
    {
      "cell_type": "code",
      "metadata": {
        "colab": {
          "base_uri": "https://localhost:8080/"
        },
        "id": "AJpoaI8H03N8",
        "outputId": "96718e7b-8cd4-42c1-e929-c6ea8ab36268"
      },
      "source": [
        "from scipy import constants\r\n",
        "print(constants.minute)\r\n",
        "print(constants.hour)\r\n",
        "print(constants.week)\r\n",
        "print(constants.day)\r\n",
        "print(constants.year)\r\n",
        "print(constants.Julian_year)"
      ],
      "execution_count": null,
      "outputs": [
        {
          "output_type": "stream",
          "text": [
            "60.0\n",
            "3600.0\n",
            "604800.0\n",
            "86400.0\n",
            "31536000.0\n",
            "31557600.0\n"
          ],
          "name": "stdout"
        }
      ]
    },
    {
      "cell_type": "code",
      "metadata": {
        "colab": {
          "base_uri": "https://localhost:8080/"
        },
        "id": "-E7MNM2y1o3V",
        "outputId": "db9fc237-3841-4867-9d70-4ef1d50fa25f"
      },
      "source": [
        "from scipy import constants\r\n",
        "print(constants.inch)\r\n",
        "print(constants.foot)\r\n",
        "print(constants.mile)\r\n",
        "print(constants.pt)\r\n",
        "print(constants.point)\r\n",
        "print(constants.nautical_mile)"
      ],
      "execution_count": null,
      "outputs": [
        {
          "output_type": "stream",
          "text": [
            "0.0254\n",
            "0.30479999999999996\n",
            "1609.3439999999998\n",
            "0.00035277777777777776\n",
            "0.00035277777777777776\n",
            "1852.0\n"
          ],
          "name": "stdout"
        }
      ]
    },
    {
      "cell_type": "code",
      "metadata": {
        "colab": {
          "base_uri": "https://localhost:8080/"
        },
        "id": "E_VFsd9x19Nt",
        "outputId": "957dcba5-aa08-462f-dc0e-12e1bfa7b8b9"
      },
      "source": [
        "from scipy import constants\r\n",
        "print(constants.zero_Celsius)\r\n",
        "print(constants.degree_Fahrenheit)\r\n"
      ],
      "execution_count": null,
      "outputs": [
        {
          "output_type": "stream",
          "text": [
            "273.15\n",
            "0.5555555555555556\n"
          ],
          "name": "stdout"
        }
      ]
    },
    {
      "cell_type": "code",
      "metadata": {
        "colab": {
          "base_uri": "https://localhost:8080/"
        },
        "id": "v-MtgQPP2M2L",
        "outputId": "4aa49416-135c-4d6e-9d61-a645ab1d4264"
      },
      "source": [
        "from scipy import constants\r\n",
        "print(constants.eV)\r\n",
        "print(constants.electron_volt)"
      ],
      "execution_count": null,
      "outputs": [
        {
          "output_type": "stream",
          "text": [
            "1.602176634e-19\n",
            "1.602176634e-19\n"
          ],
          "name": "stdout"
        }
      ]
    },
    {
      "cell_type": "code",
      "metadata": {
        "colab": {
          "base_uri": "https://localhost:8080/"
        },
        "id": "tWI0K9fl2TEX",
        "outputId": "950e0a3a-bd92-499a-a380-fef9dc45f7fb"
      },
      "source": [
        "from scipy import constants\r\n",
        "print(constants.hp)\r\n",
        "print(constants.horsepower)"
      ],
      "execution_count": null,
      "outputs": [
        {
          "output_type": "stream",
          "text": [
            "745.6998715822701\n",
            "745.6998715822701\n"
          ],
          "name": "stdout"
        }
      ]
    },
    {
      "cell_type": "markdown",
      "metadata": {
        "id": "GPMOXJmF2j4c"
      },
      "source": [
        "##**Find the Root of the given equtaion**\r\n"
      ]
    },
    {
      "cell_type": "markdown",
      "metadata": {
        "id": "MnbT7LcB_M_s"
      },
      "source": [
        "###**the given equation is :x+cos(x)**"
      ]
    },
    {
      "cell_type": "code",
      "metadata": {
        "colab": {
          "base_uri": "https://localhost:8080/"
        },
        "id": "2NiSGoqL2cup",
        "outputId": "bae1ba5c-2bbd-401a-86b2-23bae6b74690"
      },
      "source": [
        "from scipy.optimize import root\r\n",
        "from math import cos \r\n",
        "\r\n",
        "def eqn(x):\r\n",
        "  return x + cos(x)\r\n",
        "\r\n",
        "  \r\n",
        "myroot = root(eqn,0)\r\n",
        "print(myroot.x)"
      ],
      "execution_count": null,
      "outputs": [
        {
          "output_type": "stream",
          "text": [
            "[-0.73908513]\n"
          ],
          "name": "stdout"
        }
      ]
    },
    {
      "cell_type": "code",
      "metadata": {
        "colab": {
          "base_uri": "https://localhost:8080/"
        },
        "id": "4OhId8T23slj",
        "outputId": "c28ea74c-e8db-4f1c-827b-941c011c8cf1"
      },
      "source": [
        "from scipy.optimize import root\r\n",
        "from math import cos \r\n",
        "\r\n",
        "def eqn(x):\r\n",
        "  return x + cos(x)\r\n",
        "\r\n",
        "  \r\n",
        "myroot = root(eqn,1)\r\n",
        "print(myroot.x)"
      ],
      "execution_count": null,
      "outputs": [
        {
          "output_type": "stream",
          "text": [
            "[-0.73908513]\n"
          ],
          "name": "stdout"
        }
      ]
    },
    {
      "cell_type": "code",
      "metadata": {
        "colab": {
          "base_uri": "https://localhost:8080/"
        },
        "id": "2HWnk3fU4acW",
        "outputId": "27f2f485-667c-4344-813c-7a48b922326e"
      },
      "source": [
        "from scipy.optimize import root\r\n",
        "from math import cos \r\n",
        "\r\n",
        "def eqn(x):\r\n",
        "  return x + cos(x)\r\n",
        "\r\n",
        "  \r\n",
        "myroot = root(eqn,2)\r\n",
        "print(myroot.x)"
      ],
      "execution_count": null,
      "outputs": [
        {
          "output_type": "stream",
          "text": [
            "[-0.73908513]\n"
          ],
          "name": "stdout"
        }
      ]
    },
    {
      "cell_type": "code",
      "metadata": {
        "colab": {
          "base_uri": "https://localhost:8080/"
        },
        "id": "EdvO_xQH4c0P",
        "outputId": "b1e8c697-df91-4718-f132-5f1ae4b9a942"
      },
      "source": [
        "from scipy.optimize import root\r\n",
        "from math import cos \r\n",
        "\r\n",
        "def eqn(x):\r\n",
        "  return x + cos(x)\r\n",
        "\r\n",
        "  \r\n",
        "myroot = root(eqn,2)\r\n",
        "print(myroot)"
      ],
      "execution_count": null,
      "outputs": [
        {
          "output_type": "stream",
          "text": [
            "    fjac: array([[-1.]])\n",
            "     fun: array([0.])\n",
            " message: 'The solution converged.'\n",
            "    nfev: 11\n",
            "     qtf: array([-5.66612313e-11])\n",
            "       r: array([-1.67361183])\n",
            "  status: 1\n",
            " success: True\n",
            "       x: array([-0.73908513])\n"
          ],
          "name": "stdout"
        }
      ]
    },
    {
      "cell_type": "markdown",
      "metadata": {
        "id": "auptNrVR4mku"
      },
      "source": [
        "##**X^2+x+2**"
      ]
    },
    {
      "cell_type": "code",
      "metadata": {
        "colab": {
          "base_uri": "https://localhost:8080/"
        },
        "id": "HHbZRoWp4r8E",
        "outputId": "968a60e0-0988-4727-8b25-e6ef9a35464b"
      },
      "source": [
        "from scipy.optimize import minimize\r\n",
        "\r\n",
        "def eqn(x):\r\n",
        "  return x**2 + x + 2\r\n",
        "\r\n",
        "  \r\n",
        "mymin = minimize(eqn,2,method=\"BFGS\")\r\n",
        "print(mymin.x)"
      ],
      "execution_count": null,
      "outputs": [
        {
          "output_type": "stream",
          "text": [
            "[-0.50000002]\n"
          ],
          "name": "stdout"
        }
      ]
    },
    {
      "cell_type": "code",
      "metadata": {
        "colab": {
          "base_uri": "https://localhost:8080/"
        },
        "id": "xXe018CX5M8x",
        "outputId": "42c4f02b-bfa4-464b-b987-ed0c7c3f2e67"
      },
      "source": [
        "from scipy.optimize import minimize\r\n",
        "\r\n",
        "def eqn(x):\r\n",
        "  return x**2 + x + 2\r\n",
        "\r\n",
        "  \r\n",
        "mymin = minimize(eqn,2,method=\"BFGS\")\r\n",
        "print(mymin)"
      ],
      "execution_count": null,
      "outputs": [
        {
          "output_type": "stream",
          "text": [
            "      fun: 1.7500000000000004\n",
            " hess_inv: array([[0.5]])\n",
            "      jac: array([-2.98023224e-08])\n",
            "  message: 'Optimization terminated successfully.'\n",
            "     nfev: 9\n",
            "      nit: 2\n",
            "     njev: 3\n",
            "   status: 0\n",
            "  success: True\n",
            "        x: array([-0.50000002])\n"
          ],
          "name": "stdout"
        }
      ]
    },
    {
      "cell_type": "code",
      "metadata": {
        "id": "yrs4Hfr15Pl6"
      },
      "source": [
        ""
      ],
      "execution_count": null,
      "outputs": []
    }
  ]
}